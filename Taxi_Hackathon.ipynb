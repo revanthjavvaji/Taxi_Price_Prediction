{
  "cells": [
    {
      "cell_type": "markdown",
      "metadata": {
        "id": "view-in-github",
        "colab_type": "text"
      },
      "source": [
        "<a href=\"https://colab.research.google.com/github/revanthjavvaji/Taxi_Price_Prediction/blob/main/Taxi_Hackathon.ipynb\" target=\"_parent\"><img src=\"https://colab.research.google.com/assets/colab-badge.svg\" alt=\"Open In Colab\"/></a>"
      ]
    },
    {
      "cell_type": "code",
      "execution_count": null,
      "metadata": {
        "id": "TV7zfdfZCSKk"
      },
      "outputs": [],
      "source": [
        "import numpy as np\n",
        "import pandas as pd "
      ]
    },
    {
      "cell_type": "code",
      "execution_count": null,
      "metadata": {
        "id": "-9czIceWCcHs"
      },
      "outputs": [],
      "source": [
        "train_data=pd.read_csv(\"/content/train.csv\")\n",
        "test_data=pd.read_csv(\"/content/test.csv\")"
      ]
    },
    {
      "cell_type": "code",
      "execution_count": null,
      "metadata": {
        "colab": {
          "base_uri": "https://localhost:8080/",
          "height": 270
        },
        "id": "9vBjKxp1C2rV",
        "outputId": "fa794575-4f05-44cc-b29d-ecb4838e84f2"
      },
      "outputs": [
        {
          "output_type": "execute_result",
          "data": {
            "text/plain": [
              "   trip_distance  rate_code store_and_fwd_flag  payment_type  fare_amount  \\\n",
              "0           9.01          1                  N             1         26.0   \n",
              "1           0.20          1                  N             1          3.0   \n",
              "2           9.65          1                  N             1         41.5   \n",
              "3           9.50          1                  N             1         30.0   \n",
              "4           5.80          1                  N             1         21.5   \n",
              "\n",
              "   extra  mta_tax  tip_amount  tolls_amount  imp_surcharge  total_amount  \\\n",
              "0    0.0      0.5        8.14          5.76            0.3         40.70   \n",
              "1    0.0      0.5        0.75          0.00            0.3          4.55   \n",
              "2    0.0      0.5        9.61          5.76            0.3         57.67   \n",
              "3    0.5      0.5        9.25          5.76            0.3         46.31   \n",
              "4    0.5      0.5        4.56          0.00            0.3         27.36   \n",
              "\n",
              "   pickup_location_id  dropoff_location_id  year  month  day  day_of_week  \\\n",
              "0                 262                  138  2018      3    7            2   \n",
              "1                 263                  236  2018      2   25            6   \n",
              "2                 138                  230  2018      1   29            0   \n",
              "3                 186                  138  2018      9   25            1   \n",
              "4                 162                   87  2018      8   20            0   \n",
              "\n",
              "   hour_of_day  trip_duration  calculated_total_amount  \n",
              "0            6         2131.0                    24.30  \n",
              "1           10         2377.0                    37.40  \n",
              "2            8         1286.0                    30.36  \n",
              "3           20         2586.0                     4.30  \n",
              "4           21         1575.0                    23.80  "
            ],
            "text/html": [
              "\n",
              "  <div id=\"df-acf54b8e-0eeb-4568-97bf-f047e62b1f92\">\n",
              "    <div class=\"colab-df-container\">\n",
              "      <div>\n",
              "<style scoped>\n",
              "    .dataframe tbody tr th:only-of-type {\n",
              "        vertical-align: middle;\n",
              "    }\n",
              "\n",
              "    .dataframe tbody tr th {\n",
              "        vertical-align: top;\n",
              "    }\n",
              "\n",
              "    .dataframe thead th {\n",
              "        text-align: right;\n",
              "    }\n",
              "</style>\n",
              "<table border=\"1\" class=\"dataframe\">\n",
              "  <thead>\n",
              "    <tr style=\"text-align: right;\">\n",
              "      <th></th>\n",
              "      <th>trip_distance</th>\n",
              "      <th>rate_code</th>\n",
              "      <th>store_and_fwd_flag</th>\n",
              "      <th>payment_type</th>\n",
              "      <th>fare_amount</th>\n",
              "      <th>extra</th>\n",
              "      <th>mta_tax</th>\n",
              "      <th>tip_amount</th>\n",
              "      <th>tolls_amount</th>\n",
              "      <th>imp_surcharge</th>\n",
              "      <th>total_amount</th>\n",
              "      <th>pickup_location_id</th>\n",
              "      <th>dropoff_location_id</th>\n",
              "      <th>year</th>\n",
              "      <th>month</th>\n",
              "      <th>day</th>\n",
              "      <th>day_of_week</th>\n",
              "      <th>hour_of_day</th>\n",
              "      <th>trip_duration</th>\n",
              "      <th>calculated_total_amount</th>\n",
              "    </tr>\n",
              "  </thead>\n",
              "  <tbody>\n",
              "    <tr>\n",
              "      <th>0</th>\n",
              "      <td>9.01</td>\n",
              "      <td>1</td>\n",
              "      <td>N</td>\n",
              "      <td>1</td>\n",
              "      <td>26.0</td>\n",
              "      <td>0.0</td>\n",
              "      <td>0.5</td>\n",
              "      <td>8.14</td>\n",
              "      <td>5.76</td>\n",
              "      <td>0.3</td>\n",
              "      <td>40.70</td>\n",
              "      <td>262</td>\n",
              "      <td>138</td>\n",
              "      <td>2018</td>\n",
              "      <td>3</td>\n",
              "      <td>7</td>\n",
              "      <td>2</td>\n",
              "      <td>6</td>\n",
              "      <td>2131.0</td>\n",
              "      <td>24.30</td>\n",
              "    </tr>\n",
              "    <tr>\n",
              "      <th>1</th>\n",
              "      <td>0.20</td>\n",
              "      <td>1</td>\n",
              "      <td>N</td>\n",
              "      <td>1</td>\n",
              "      <td>3.0</td>\n",
              "      <td>0.0</td>\n",
              "      <td>0.5</td>\n",
              "      <td>0.75</td>\n",
              "      <td>0.00</td>\n",
              "      <td>0.3</td>\n",
              "      <td>4.55</td>\n",
              "      <td>263</td>\n",
              "      <td>236</td>\n",
              "      <td>2018</td>\n",
              "      <td>2</td>\n",
              "      <td>25</td>\n",
              "      <td>6</td>\n",
              "      <td>10</td>\n",
              "      <td>2377.0</td>\n",
              "      <td>37.40</td>\n",
              "    </tr>\n",
              "    <tr>\n",
              "      <th>2</th>\n",
              "      <td>9.65</td>\n",
              "      <td>1</td>\n",
              "      <td>N</td>\n",
              "      <td>1</td>\n",
              "      <td>41.5</td>\n",
              "      <td>0.0</td>\n",
              "      <td>0.5</td>\n",
              "      <td>9.61</td>\n",
              "      <td>5.76</td>\n",
              "      <td>0.3</td>\n",
              "      <td>57.67</td>\n",
              "      <td>138</td>\n",
              "      <td>230</td>\n",
              "      <td>2018</td>\n",
              "      <td>1</td>\n",
              "      <td>29</td>\n",
              "      <td>0</td>\n",
              "      <td>8</td>\n",
              "      <td>1286.0</td>\n",
              "      <td>30.36</td>\n",
              "    </tr>\n",
              "    <tr>\n",
              "      <th>3</th>\n",
              "      <td>9.50</td>\n",
              "      <td>1</td>\n",
              "      <td>N</td>\n",
              "      <td>1</td>\n",
              "      <td>30.0</td>\n",
              "      <td>0.5</td>\n",
              "      <td>0.5</td>\n",
              "      <td>9.25</td>\n",
              "      <td>5.76</td>\n",
              "      <td>0.3</td>\n",
              "      <td>46.31</td>\n",
              "      <td>186</td>\n",
              "      <td>138</td>\n",
              "      <td>2018</td>\n",
              "      <td>9</td>\n",
              "      <td>25</td>\n",
              "      <td>1</td>\n",
              "      <td>20</td>\n",
              "      <td>2586.0</td>\n",
              "      <td>4.30</td>\n",
              "    </tr>\n",
              "    <tr>\n",
              "      <th>4</th>\n",
              "      <td>5.80</td>\n",
              "      <td>1</td>\n",
              "      <td>N</td>\n",
              "      <td>1</td>\n",
              "      <td>21.5</td>\n",
              "      <td>0.5</td>\n",
              "      <td>0.5</td>\n",
              "      <td>4.56</td>\n",
              "      <td>0.00</td>\n",
              "      <td>0.3</td>\n",
              "      <td>27.36</td>\n",
              "      <td>162</td>\n",
              "      <td>87</td>\n",
              "      <td>2018</td>\n",
              "      <td>8</td>\n",
              "      <td>20</td>\n",
              "      <td>0</td>\n",
              "      <td>21</td>\n",
              "      <td>1575.0</td>\n",
              "      <td>23.80</td>\n",
              "    </tr>\n",
              "  </tbody>\n",
              "</table>\n",
              "</div>\n",
              "      <button class=\"colab-df-convert\" onclick=\"convertToInteractive('df-acf54b8e-0eeb-4568-97bf-f047e62b1f92')\"\n",
              "              title=\"Convert this dataframe to an interactive table.\"\n",
              "              style=\"display:none;\">\n",
              "        \n",
              "  <svg xmlns=\"http://www.w3.org/2000/svg\" height=\"24px\"viewBox=\"0 0 24 24\"\n",
              "       width=\"24px\">\n",
              "    <path d=\"M0 0h24v24H0V0z\" fill=\"none\"/>\n",
              "    <path d=\"M18.56 5.44l.94 2.06.94-2.06 2.06-.94-2.06-.94-.94-2.06-.94 2.06-2.06.94zm-11 1L8.5 8.5l.94-2.06 2.06-.94-2.06-.94L8.5 2.5l-.94 2.06-2.06.94zm10 10l.94 2.06.94-2.06 2.06-.94-2.06-.94-.94-2.06-.94 2.06-2.06.94z\"/><path d=\"M17.41 7.96l-1.37-1.37c-.4-.4-.92-.59-1.43-.59-.52 0-1.04.2-1.43.59L10.3 9.45l-7.72 7.72c-.78.78-.78 2.05 0 2.83L4 21.41c.39.39.9.59 1.41.59.51 0 1.02-.2 1.41-.59l7.78-7.78 2.81-2.81c.8-.78.8-2.07 0-2.86zM5.41 20L4 18.59l7.72-7.72 1.47 1.35L5.41 20z\"/>\n",
              "  </svg>\n",
              "      </button>\n",
              "      \n",
              "  <style>\n",
              "    .colab-df-container {\n",
              "      display:flex;\n",
              "      flex-wrap:wrap;\n",
              "      gap: 12px;\n",
              "    }\n",
              "\n",
              "    .colab-df-convert {\n",
              "      background-color: #E8F0FE;\n",
              "      border: none;\n",
              "      border-radius: 50%;\n",
              "      cursor: pointer;\n",
              "      display: none;\n",
              "      fill: #1967D2;\n",
              "      height: 32px;\n",
              "      padding: 0 0 0 0;\n",
              "      width: 32px;\n",
              "    }\n",
              "\n",
              "    .colab-df-convert:hover {\n",
              "      background-color: #E2EBFA;\n",
              "      box-shadow: 0px 1px 2px rgba(60, 64, 67, 0.3), 0px 1px 3px 1px rgba(60, 64, 67, 0.15);\n",
              "      fill: #174EA6;\n",
              "    }\n",
              "\n",
              "    [theme=dark] .colab-df-convert {\n",
              "      background-color: #3B4455;\n",
              "      fill: #D2E3FC;\n",
              "    }\n",
              "\n",
              "    [theme=dark] .colab-df-convert:hover {\n",
              "      background-color: #434B5C;\n",
              "      box-shadow: 0px 1px 3px 1px rgba(0, 0, 0, 0.15);\n",
              "      filter: drop-shadow(0px 1px 2px rgba(0, 0, 0, 0.3));\n",
              "      fill: #FFFFFF;\n",
              "    }\n",
              "  </style>\n",
              "\n",
              "      <script>\n",
              "        const buttonEl =\n",
              "          document.querySelector('#df-acf54b8e-0eeb-4568-97bf-f047e62b1f92 button.colab-df-convert');\n",
              "        buttonEl.style.display =\n",
              "          google.colab.kernel.accessAllowed ? 'block' : 'none';\n",
              "\n",
              "        async function convertToInteractive(key) {\n",
              "          const element = document.querySelector('#df-acf54b8e-0eeb-4568-97bf-f047e62b1f92');\n",
              "          const dataTable =\n",
              "            await google.colab.kernel.invokeFunction('convertToInteractive',\n",
              "                                                     [key], {});\n",
              "          if (!dataTable) return;\n",
              "\n",
              "          const docLinkHtml = 'Like what you see? Visit the ' +\n",
              "            '<a target=\"_blank\" href=https://colab.research.google.com/notebooks/data_table.ipynb>data table notebook</a>'\n",
              "            + ' to learn more about interactive tables.';\n",
              "          element.innerHTML = '';\n",
              "          dataTable['output_type'] = 'display_data';\n",
              "          await google.colab.output.renderOutput(dataTable, element);\n",
              "          const docLink = document.createElement('div');\n",
              "          docLink.innerHTML = docLinkHtml;\n",
              "          element.appendChild(docLink);\n",
              "        }\n",
              "      </script>\n",
              "    </div>\n",
              "  </div>\n",
              "  "
            ]
          },
          "metadata": {},
          "execution_count": 3
        }
      ],
      "source": [
        "train_data.head()"
      ]
    },
    {
      "cell_type": "code",
      "execution_count": null,
      "metadata": {
        "colab": {
          "base_uri": "https://localhost:8080/",
          "height": 270
        },
        "id": "pbF4lPgQC2ux",
        "outputId": "900f153d-e32b-4622-f5d0-61d56dcfe741"
      },
      "outputs": [
        {
          "output_type": "execute_result",
          "data": {
            "text/plain": [
              "   trip_distance  rate_code store_and_fwd_flag  payment_type  fare_amount  \\\n",
              "0          15.70          1                  N             2         45.0   \n",
              "1           7.30          1                  N             1         25.5   \n",
              "2          14.87          1                  N             1         40.5   \n",
              "3           2.90          1                  N             2         22.0   \n",
              "4           8.96          1                  N             1         32.0   \n",
              "\n",
              "   extra  mta_tax  tip_amount  tolls_amount  imp_surcharge  total_amount  \\\n",
              "0    0.0      0.5        0.00          0.00            0.3         45.80   \n",
              "1    0.0      0.5        7.89          0.00            0.3         34.19   \n",
              "2    0.5      0.5        8.36          0.00            0.3         50.16   \n",
              "3    0.0      0.5        0.00          0.00            0.3         22.80   \n",
              "4    0.0      0.5        0.00          5.76            0.3         38.56   \n",
              "\n",
              "   pickup_location_id  dropoff_location_id  year  month  day  day_of_week  \\\n",
              "0                 132                  146  2018     10   20            5   \n",
              "1                 186                   69  2018      2   24            5   \n",
              "2                 138                   89  2018      9   11            1   \n",
              "3                  90                  162  2018      6    7            3   \n",
              "4                 138                  186  2018      4   20            4   \n",
              "\n",
              "   hour_of_day  trip_duration  \n",
              "0           16         3967.0  \n",
              "1           15         1491.0  \n",
              "2           22         1395.0  \n",
              "3           11         1742.0  \n",
              "4           10         1623.0  "
            ],
            "text/html": [
              "\n",
              "  <div id=\"df-0db17439-eefa-4062-94c7-27f3783fc046\">\n",
              "    <div class=\"colab-df-container\">\n",
              "      <div>\n",
              "<style scoped>\n",
              "    .dataframe tbody tr th:only-of-type {\n",
              "        vertical-align: middle;\n",
              "    }\n",
              "\n",
              "    .dataframe tbody tr th {\n",
              "        vertical-align: top;\n",
              "    }\n",
              "\n",
              "    .dataframe thead th {\n",
              "        text-align: right;\n",
              "    }\n",
              "</style>\n",
              "<table border=\"1\" class=\"dataframe\">\n",
              "  <thead>\n",
              "    <tr style=\"text-align: right;\">\n",
              "      <th></th>\n",
              "      <th>trip_distance</th>\n",
              "      <th>rate_code</th>\n",
              "      <th>store_and_fwd_flag</th>\n",
              "      <th>payment_type</th>\n",
              "      <th>fare_amount</th>\n",
              "      <th>extra</th>\n",
              "      <th>mta_tax</th>\n",
              "      <th>tip_amount</th>\n",
              "      <th>tolls_amount</th>\n",
              "      <th>imp_surcharge</th>\n",
              "      <th>total_amount</th>\n",
              "      <th>pickup_location_id</th>\n",
              "      <th>dropoff_location_id</th>\n",
              "      <th>year</th>\n",
              "      <th>month</th>\n",
              "      <th>day</th>\n",
              "      <th>day_of_week</th>\n",
              "      <th>hour_of_day</th>\n",
              "      <th>trip_duration</th>\n",
              "    </tr>\n",
              "  </thead>\n",
              "  <tbody>\n",
              "    <tr>\n",
              "      <th>0</th>\n",
              "      <td>15.70</td>\n",
              "      <td>1</td>\n",
              "      <td>N</td>\n",
              "      <td>2</td>\n",
              "      <td>45.0</td>\n",
              "      <td>0.0</td>\n",
              "      <td>0.5</td>\n",
              "      <td>0.00</td>\n",
              "      <td>0.00</td>\n",
              "      <td>0.3</td>\n",
              "      <td>45.80</td>\n",
              "      <td>132</td>\n",
              "      <td>146</td>\n",
              "      <td>2018</td>\n",
              "      <td>10</td>\n",
              "      <td>20</td>\n",
              "      <td>5</td>\n",
              "      <td>16</td>\n",
              "      <td>3967.0</td>\n",
              "    </tr>\n",
              "    <tr>\n",
              "      <th>1</th>\n",
              "      <td>7.30</td>\n",
              "      <td>1</td>\n",
              "      <td>N</td>\n",
              "      <td>1</td>\n",
              "      <td>25.5</td>\n",
              "      <td>0.0</td>\n",
              "      <td>0.5</td>\n",
              "      <td>7.89</td>\n",
              "      <td>0.00</td>\n",
              "      <td>0.3</td>\n",
              "      <td>34.19</td>\n",
              "      <td>186</td>\n",
              "      <td>69</td>\n",
              "      <td>2018</td>\n",
              "      <td>2</td>\n",
              "      <td>24</td>\n",
              "      <td>5</td>\n",
              "      <td>15</td>\n",
              "      <td>1491.0</td>\n",
              "    </tr>\n",
              "    <tr>\n",
              "      <th>2</th>\n",
              "      <td>14.87</td>\n",
              "      <td>1</td>\n",
              "      <td>N</td>\n",
              "      <td>1</td>\n",
              "      <td>40.5</td>\n",
              "      <td>0.5</td>\n",
              "      <td>0.5</td>\n",
              "      <td>8.36</td>\n",
              "      <td>0.00</td>\n",
              "      <td>0.3</td>\n",
              "      <td>50.16</td>\n",
              "      <td>138</td>\n",
              "      <td>89</td>\n",
              "      <td>2018</td>\n",
              "      <td>9</td>\n",
              "      <td>11</td>\n",
              "      <td>1</td>\n",
              "      <td>22</td>\n",
              "      <td>1395.0</td>\n",
              "    </tr>\n",
              "    <tr>\n",
              "      <th>3</th>\n",
              "      <td>2.90</td>\n",
              "      <td>1</td>\n",
              "      <td>N</td>\n",
              "      <td>2</td>\n",
              "      <td>22.0</td>\n",
              "      <td>0.0</td>\n",
              "      <td>0.5</td>\n",
              "      <td>0.00</td>\n",
              "      <td>0.00</td>\n",
              "      <td>0.3</td>\n",
              "      <td>22.80</td>\n",
              "      <td>90</td>\n",
              "      <td>162</td>\n",
              "      <td>2018</td>\n",
              "      <td>6</td>\n",
              "      <td>7</td>\n",
              "      <td>3</td>\n",
              "      <td>11</td>\n",
              "      <td>1742.0</td>\n",
              "    </tr>\n",
              "    <tr>\n",
              "      <th>4</th>\n",
              "      <td>8.96</td>\n",
              "      <td>1</td>\n",
              "      <td>N</td>\n",
              "      <td>1</td>\n",
              "      <td>32.0</td>\n",
              "      <td>0.0</td>\n",
              "      <td>0.5</td>\n",
              "      <td>0.00</td>\n",
              "      <td>5.76</td>\n",
              "      <td>0.3</td>\n",
              "      <td>38.56</td>\n",
              "      <td>138</td>\n",
              "      <td>186</td>\n",
              "      <td>2018</td>\n",
              "      <td>4</td>\n",
              "      <td>20</td>\n",
              "      <td>4</td>\n",
              "      <td>10</td>\n",
              "      <td>1623.0</td>\n",
              "    </tr>\n",
              "  </tbody>\n",
              "</table>\n",
              "</div>\n",
              "      <button class=\"colab-df-convert\" onclick=\"convertToInteractive('df-0db17439-eefa-4062-94c7-27f3783fc046')\"\n",
              "              title=\"Convert this dataframe to an interactive table.\"\n",
              "              style=\"display:none;\">\n",
              "        \n",
              "  <svg xmlns=\"http://www.w3.org/2000/svg\" height=\"24px\"viewBox=\"0 0 24 24\"\n",
              "       width=\"24px\">\n",
              "    <path d=\"M0 0h24v24H0V0z\" fill=\"none\"/>\n",
              "    <path d=\"M18.56 5.44l.94 2.06.94-2.06 2.06-.94-2.06-.94-.94-2.06-.94 2.06-2.06.94zm-11 1L8.5 8.5l.94-2.06 2.06-.94-2.06-.94L8.5 2.5l-.94 2.06-2.06.94zm10 10l.94 2.06.94-2.06 2.06-.94-2.06-.94-.94-2.06-.94 2.06-2.06.94z\"/><path d=\"M17.41 7.96l-1.37-1.37c-.4-.4-.92-.59-1.43-.59-.52 0-1.04.2-1.43.59L10.3 9.45l-7.72 7.72c-.78.78-.78 2.05 0 2.83L4 21.41c.39.39.9.59 1.41.59.51 0 1.02-.2 1.41-.59l7.78-7.78 2.81-2.81c.8-.78.8-2.07 0-2.86zM5.41 20L4 18.59l7.72-7.72 1.47 1.35L5.41 20z\"/>\n",
              "  </svg>\n",
              "      </button>\n",
              "      \n",
              "  <style>\n",
              "    .colab-df-container {\n",
              "      display:flex;\n",
              "      flex-wrap:wrap;\n",
              "      gap: 12px;\n",
              "    }\n",
              "\n",
              "    .colab-df-convert {\n",
              "      background-color: #E8F0FE;\n",
              "      border: none;\n",
              "      border-radius: 50%;\n",
              "      cursor: pointer;\n",
              "      display: none;\n",
              "      fill: #1967D2;\n",
              "      height: 32px;\n",
              "      padding: 0 0 0 0;\n",
              "      width: 32px;\n",
              "    }\n",
              "\n",
              "    .colab-df-convert:hover {\n",
              "      background-color: #E2EBFA;\n",
              "      box-shadow: 0px 1px 2px rgba(60, 64, 67, 0.3), 0px 1px 3px 1px rgba(60, 64, 67, 0.15);\n",
              "      fill: #174EA6;\n",
              "    }\n",
              "\n",
              "    [theme=dark] .colab-df-convert {\n",
              "      background-color: #3B4455;\n",
              "      fill: #D2E3FC;\n",
              "    }\n",
              "\n",
              "    [theme=dark] .colab-df-convert:hover {\n",
              "      background-color: #434B5C;\n",
              "      box-shadow: 0px 1px 3px 1px rgba(0, 0, 0, 0.15);\n",
              "      filter: drop-shadow(0px 1px 2px rgba(0, 0, 0, 0.3));\n",
              "      fill: #FFFFFF;\n",
              "    }\n",
              "  </style>\n",
              "\n",
              "      <script>\n",
              "        const buttonEl =\n",
              "          document.querySelector('#df-0db17439-eefa-4062-94c7-27f3783fc046 button.colab-df-convert');\n",
              "        buttonEl.style.display =\n",
              "          google.colab.kernel.accessAllowed ? 'block' : 'none';\n",
              "\n",
              "        async function convertToInteractive(key) {\n",
              "          const element = document.querySelector('#df-0db17439-eefa-4062-94c7-27f3783fc046');\n",
              "          const dataTable =\n",
              "            await google.colab.kernel.invokeFunction('convertToInteractive',\n",
              "                                                     [key], {});\n",
              "          if (!dataTable) return;\n",
              "\n",
              "          const docLinkHtml = 'Like what you see? Visit the ' +\n",
              "            '<a target=\"_blank\" href=https://colab.research.google.com/notebooks/data_table.ipynb>data table notebook</a>'\n",
              "            + ' to learn more about interactive tables.';\n",
              "          element.innerHTML = '';\n",
              "          dataTable['output_type'] = 'display_data';\n",
              "          await google.colab.output.renderOutput(dataTable, element);\n",
              "          const docLink = document.createElement('div');\n",
              "          docLink.innerHTML = docLinkHtml;\n",
              "          element.appendChild(docLink);\n",
              "        }\n",
              "      </script>\n",
              "    </div>\n",
              "  </div>\n",
              "  "
            ]
          },
          "metadata": {},
          "execution_count": 4
        }
      ],
      "source": [
        "test_data.head()"
      ]
    },
    {
      "cell_type": "code",
      "execution_count": null,
      "metadata": {
        "colab": {
          "base_uri": "https://localhost:8080/"
        },
        "id": "MtDZ3riFDDLz",
        "outputId": "cf3d187d-50b7-4010-e782-8cc1774542ed"
      },
      "outputs": [
        {
          "output_type": "stream",
          "name": "stdout",
          "text": [
            "(35000, 20)\n"
          ]
        }
      ],
      "source": [
        "print(train_data.shape)"
      ]
    },
    {
      "cell_type": "code",
      "execution_count": null,
      "metadata": {
        "colab": {
          "base_uri": "https://localhost:8080/"
        },
        "id": "--HrtphgDDPR",
        "outputId": "65f3a33a-9e97-4495-dd5b-82b4503ce1a6"
      },
      "outputs": [
        {
          "output_type": "stream",
          "name": "stdout",
          "text": [
            "(15000, 19)\n"
          ]
        }
      ],
      "source": [
        "print(test_data.shape)"
      ]
    },
    {
      "cell_type": "code",
      "source": [
        "X=train_data.drop([\"calculated_total_amount\"],axis=1,inplace=False) ##Input\n",
        "X.head()"
      ],
      "metadata": {
        "colab": {
          "base_uri": "https://localhost:8080/",
          "height": 270
        },
        "id": "Wlg6uLaj7Xtk",
        "outputId": "f4088fab-d720-4e6b-c683-a7ca35cbc899"
      },
      "execution_count": null,
      "outputs": [
        {
          "output_type": "execute_result",
          "data": {
            "text/plain": [
              "   trip_distance  rate_code store_and_fwd_flag  payment_type  fare_amount  \\\n",
              "0           9.01          1                  N             1         26.0   \n",
              "1           0.20          1                  N             1          3.0   \n",
              "2           9.65          1                  N             1         41.5   \n",
              "3           9.50          1                  N             1         30.0   \n",
              "4           5.80          1                  N             1         21.5   \n",
              "\n",
              "   extra  mta_tax  tip_amount  tolls_amount  imp_surcharge  total_amount  \\\n",
              "0    0.0      0.5        8.14          5.76            0.3         40.70   \n",
              "1    0.0      0.5        0.75          0.00            0.3          4.55   \n",
              "2    0.0      0.5        9.61          5.76            0.3         57.67   \n",
              "3    0.5      0.5        9.25          5.76            0.3         46.31   \n",
              "4    0.5      0.5        4.56          0.00            0.3         27.36   \n",
              "\n",
              "   pickup_location_id  dropoff_location_id  year  month  day  day_of_week  \\\n",
              "0                 262                  138  2018      3    7            2   \n",
              "1                 263                  236  2018      2   25            6   \n",
              "2                 138                  230  2018      1   29            0   \n",
              "3                 186                  138  2018      9   25            1   \n",
              "4                 162                   87  2018      8   20            0   \n",
              "\n",
              "   hour_of_day  trip_duration  \n",
              "0            6         2131.0  \n",
              "1           10         2377.0  \n",
              "2            8         1286.0  \n",
              "3           20         2586.0  \n",
              "4           21         1575.0  "
            ],
            "text/html": [
              "\n",
              "  <div id=\"df-de9be6d1-aa35-4859-b021-ba93a49c35c4\">\n",
              "    <div class=\"colab-df-container\">\n",
              "      <div>\n",
              "<style scoped>\n",
              "    .dataframe tbody tr th:only-of-type {\n",
              "        vertical-align: middle;\n",
              "    }\n",
              "\n",
              "    .dataframe tbody tr th {\n",
              "        vertical-align: top;\n",
              "    }\n",
              "\n",
              "    .dataframe thead th {\n",
              "        text-align: right;\n",
              "    }\n",
              "</style>\n",
              "<table border=\"1\" class=\"dataframe\">\n",
              "  <thead>\n",
              "    <tr style=\"text-align: right;\">\n",
              "      <th></th>\n",
              "      <th>trip_distance</th>\n",
              "      <th>rate_code</th>\n",
              "      <th>store_and_fwd_flag</th>\n",
              "      <th>payment_type</th>\n",
              "      <th>fare_amount</th>\n",
              "      <th>extra</th>\n",
              "      <th>mta_tax</th>\n",
              "      <th>tip_amount</th>\n",
              "      <th>tolls_amount</th>\n",
              "      <th>imp_surcharge</th>\n",
              "      <th>total_amount</th>\n",
              "      <th>pickup_location_id</th>\n",
              "      <th>dropoff_location_id</th>\n",
              "      <th>year</th>\n",
              "      <th>month</th>\n",
              "      <th>day</th>\n",
              "      <th>day_of_week</th>\n",
              "      <th>hour_of_day</th>\n",
              "      <th>trip_duration</th>\n",
              "    </tr>\n",
              "  </thead>\n",
              "  <tbody>\n",
              "    <tr>\n",
              "      <th>0</th>\n",
              "      <td>9.01</td>\n",
              "      <td>1</td>\n",
              "      <td>N</td>\n",
              "      <td>1</td>\n",
              "      <td>26.0</td>\n",
              "      <td>0.0</td>\n",
              "      <td>0.5</td>\n",
              "      <td>8.14</td>\n",
              "      <td>5.76</td>\n",
              "      <td>0.3</td>\n",
              "      <td>40.70</td>\n",
              "      <td>262</td>\n",
              "      <td>138</td>\n",
              "      <td>2018</td>\n",
              "      <td>3</td>\n",
              "      <td>7</td>\n",
              "      <td>2</td>\n",
              "      <td>6</td>\n",
              "      <td>2131.0</td>\n",
              "    </tr>\n",
              "    <tr>\n",
              "      <th>1</th>\n",
              "      <td>0.20</td>\n",
              "      <td>1</td>\n",
              "      <td>N</td>\n",
              "      <td>1</td>\n",
              "      <td>3.0</td>\n",
              "      <td>0.0</td>\n",
              "      <td>0.5</td>\n",
              "      <td>0.75</td>\n",
              "      <td>0.00</td>\n",
              "      <td>0.3</td>\n",
              "      <td>4.55</td>\n",
              "      <td>263</td>\n",
              "      <td>236</td>\n",
              "      <td>2018</td>\n",
              "      <td>2</td>\n",
              "      <td>25</td>\n",
              "      <td>6</td>\n",
              "      <td>10</td>\n",
              "      <td>2377.0</td>\n",
              "    </tr>\n",
              "    <tr>\n",
              "      <th>2</th>\n",
              "      <td>9.65</td>\n",
              "      <td>1</td>\n",
              "      <td>N</td>\n",
              "      <td>1</td>\n",
              "      <td>41.5</td>\n",
              "      <td>0.0</td>\n",
              "      <td>0.5</td>\n",
              "      <td>9.61</td>\n",
              "      <td>5.76</td>\n",
              "      <td>0.3</td>\n",
              "      <td>57.67</td>\n",
              "      <td>138</td>\n",
              "      <td>230</td>\n",
              "      <td>2018</td>\n",
              "      <td>1</td>\n",
              "      <td>29</td>\n",
              "      <td>0</td>\n",
              "      <td>8</td>\n",
              "      <td>1286.0</td>\n",
              "    </tr>\n",
              "    <tr>\n",
              "      <th>3</th>\n",
              "      <td>9.50</td>\n",
              "      <td>1</td>\n",
              "      <td>N</td>\n",
              "      <td>1</td>\n",
              "      <td>30.0</td>\n",
              "      <td>0.5</td>\n",
              "      <td>0.5</td>\n",
              "      <td>9.25</td>\n",
              "      <td>5.76</td>\n",
              "      <td>0.3</td>\n",
              "      <td>46.31</td>\n",
              "      <td>186</td>\n",
              "      <td>138</td>\n",
              "      <td>2018</td>\n",
              "      <td>9</td>\n",
              "      <td>25</td>\n",
              "      <td>1</td>\n",
              "      <td>20</td>\n",
              "      <td>2586.0</td>\n",
              "    </tr>\n",
              "    <tr>\n",
              "      <th>4</th>\n",
              "      <td>5.80</td>\n",
              "      <td>1</td>\n",
              "      <td>N</td>\n",
              "      <td>1</td>\n",
              "      <td>21.5</td>\n",
              "      <td>0.5</td>\n",
              "      <td>0.5</td>\n",
              "      <td>4.56</td>\n",
              "      <td>0.00</td>\n",
              "      <td>0.3</td>\n",
              "      <td>27.36</td>\n",
              "      <td>162</td>\n",
              "      <td>87</td>\n",
              "      <td>2018</td>\n",
              "      <td>8</td>\n",
              "      <td>20</td>\n",
              "      <td>0</td>\n",
              "      <td>21</td>\n",
              "      <td>1575.0</td>\n",
              "    </tr>\n",
              "  </tbody>\n",
              "</table>\n",
              "</div>\n",
              "      <button class=\"colab-df-convert\" onclick=\"convertToInteractive('df-de9be6d1-aa35-4859-b021-ba93a49c35c4')\"\n",
              "              title=\"Convert this dataframe to an interactive table.\"\n",
              "              style=\"display:none;\">\n",
              "        \n",
              "  <svg xmlns=\"http://www.w3.org/2000/svg\" height=\"24px\"viewBox=\"0 0 24 24\"\n",
              "       width=\"24px\">\n",
              "    <path d=\"M0 0h24v24H0V0z\" fill=\"none\"/>\n",
              "    <path d=\"M18.56 5.44l.94 2.06.94-2.06 2.06-.94-2.06-.94-.94-2.06-.94 2.06-2.06.94zm-11 1L8.5 8.5l.94-2.06 2.06-.94-2.06-.94L8.5 2.5l-.94 2.06-2.06.94zm10 10l.94 2.06.94-2.06 2.06-.94-2.06-.94-.94-2.06-.94 2.06-2.06.94z\"/><path d=\"M17.41 7.96l-1.37-1.37c-.4-.4-.92-.59-1.43-.59-.52 0-1.04.2-1.43.59L10.3 9.45l-7.72 7.72c-.78.78-.78 2.05 0 2.83L4 21.41c.39.39.9.59 1.41.59.51 0 1.02-.2 1.41-.59l7.78-7.78 2.81-2.81c.8-.78.8-2.07 0-2.86zM5.41 20L4 18.59l7.72-7.72 1.47 1.35L5.41 20z\"/>\n",
              "  </svg>\n",
              "      </button>\n",
              "      \n",
              "  <style>\n",
              "    .colab-df-container {\n",
              "      display:flex;\n",
              "      flex-wrap:wrap;\n",
              "      gap: 12px;\n",
              "    }\n",
              "\n",
              "    .colab-df-convert {\n",
              "      background-color: #E8F0FE;\n",
              "      border: none;\n",
              "      border-radius: 50%;\n",
              "      cursor: pointer;\n",
              "      display: none;\n",
              "      fill: #1967D2;\n",
              "      height: 32px;\n",
              "      padding: 0 0 0 0;\n",
              "      width: 32px;\n",
              "    }\n",
              "\n",
              "    .colab-df-convert:hover {\n",
              "      background-color: #E2EBFA;\n",
              "      box-shadow: 0px 1px 2px rgba(60, 64, 67, 0.3), 0px 1px 3px 1px rgba(60, 64, 67, 0.15);\n",
              "      fill: #174EA6;\n",
              "    }\n",
              "\n",
              "    [theme=dark] .colab-df-convert {\n",
              "      background-color: #3B4455;\n",
              "      fill: #D2E3FC;\n",
              "    }\n",
              "\n",
              "    [theme=dark] .colab-df-convert:hover {\n",
              "      background-color: #434B5C;\n",
              "      box-shadow: 0px 1px 3px 1px rgba(0, 0, 0, 0.15);\n",
              "      filter: drop-shadow(0px 1px 2px rgba(0, 0, 0, 0.3));\n",
              "      fill: #FFFFFF;\n",
              "    }\n",
              "  </style>\n",
              "\n",
              "      <script>\n",
              "        const buttonEl =\n",
              "          document.querySelector('#df-de9be6d1-aa35-4859-b021-ba93a49c35c4 button.colab-df-convert');\n",
              "        buttonEl.style.display =\n",
              "          google.colab.kernel.accessAllowed ? 'block' : 'none';\n",
              "\n",
              "        async function convertToInteractive(key) {\n",
              "          const element = document.querySelector('#df-de9be6d1-aa35-4859-b021-ba93a49c35c4');\n",
              "          const dataTable =\n",
              "            await google.colab.kernel.invokeFunction('convertToInteractive',\n",
              "                                                     [key], {});\n",
              "          if (!dataTable) return;\n",
              "\n",
              "          const docLinkHtml = 'Like what you see? Visit the ' +\n",
              "            '<a target=\"_blank\" href=https://colab.research.google.com/notebooks/data_table.ipynb>data table notebook</a>'\n",
              "            + ' to learn more about interactive tables.';\n",
              "          element.innerHTML = '';\n",
              "          dataTable['output_type'] = 'display_data';\n",
              "          await google.colab.output.renderOutput(dataTable, element);\n",
              "          const docLink = document.createElement('div');\n",
              "          docLink.innerHTML = docLinkHtml;\n",
              "          element.appendChild(docLink);\n",
              "        }\n",
              "      </script>\n",
              "    </div>\n",
              "  </div>\n",
              "  "
            ]
          },
          "metadata": {},
          "execution_count": 7
        }
      ]
    },
    {
      "cell_type": "code",
      "execution_count": null,
      "metadata": {
        "id": "eDneUbL3rWY4"
      },
      "outputs": [],
      "source": [
        "from sklearn.preprocessing import MinMaxScaler\n",
        "scaler = MinMaxScaler(feature_range=(0, 1))\n",
        "\n",
        "#X_scaled = scaler.fit_transform(X)\n",
        "#X _scaled= pd.DataFrame(X_scaled)"
      ]
    },
    {
      "cell_type": "code",
      "execution_count": null,
      "metadata": {
        "colab": {
          "base_uri": "https://localhost:8080/",
          "height": 270
        },
        "id": "GwTzwh5-DnSC",
        "outputId": "e5f7864e-e87d-4e32-97e9-1ebf14eca49d"
      },
      "outputs": [
        {
          "output_type": "execute_result",
          "data": {
            "text/plain": [
              "   trip_distance  rate_code store_and_fwd_flag  payment_type  fare_amount  \\\n",
              "0           9.01          1                  N             1         26.0   \n",
              "1           0.20          1                  N             1          3.0   \n",
              "2           9.65          1                  N             1         41.5   \n",
              "3           9.50          1                  N             1         30.0   \n",
              "4           5.80          1                  N             1         21.5   \n",
              "\n",
              "   extra  mta_tax  tip_amount  tolls_amount  imp_surcharge  total_amount  \\\n",
              "0    0.0      0.5        8.14          5.76            0.3         40.70   \n",
              "1    0.0      0.5        0.75          0.00            0.3          4.55   \n",
              "2    0.0      0.5        9.61          5.76            0.3         57.67   \n",
              "3    0.5      0.5        9.25          5.76            0.3         46.31   \n",
              "4    0.5      0.5        4.56          0.00            0.3         27.36   \n",
              "\n",
              "   pickup_location_id  dropoff_location_id  year  month  day  day_of_week  \\\n",
              "0                 262                  138  2018      3    7            2   \n",
              "1                 263                  236  2018      2   25            6   \n",
              "2                 138                  230  2018      1   29            0   \n",
              "3                 186                  138  2018      9   25            1   \n",
              "4                 162                   87  2018      8   20            0   \n",
              "\n",
              "   hour_of_day  trip_duration  \n",
              "0            6         2131.0  \n",
              "1           10         2377.0  \n",
              "2            8         1286.0  \n",
              "3           20         2586.0  \n",
              "4           21         1575.0  "
            ],
            "text/html": [
              "\n",
              "  <div id=\"df-fe7cf29e-c48d-472c-a2ae-bb03eeb2def9\">\n",
              "    <div class=\"colab-df-container\">\n",
              "      <div>\n",
              "<style scoped>\n",
              "    .dataframe tbody tr th:only-of-type {\n",
              "        vertical-align: middle;\n",
              "    }\n",
              "\n",
              "    .dataframe tbody tr th {\n",
              "        vertical-align: top;\n",
              "    }\n",
              "\n",
              "    .dataframe thead th {\n",
              "        text-align: right;\n",
              "    }\n",
              "</style>\n",
              "<table border=\"1\" class=\"dataframe\">\n",
              "  <thead>\n",
              "    <tr style=\"text-align: right;\">\n",
              "      <th></th>\n",
              "      <th>trip_distance</th>\n",
              "      <th>rate_code</th>\n",
              "      <th>store_and_fwd_flag</th>\n",
              "      <th>payment_type</th>\n",
              "      <th>fare_amount</th>\n",
              "      <th>extra</th>\n",
              "      <th>mta_tax</th>\n",
              "      <th>tip_amount</th>\n",
              "      <th>tolls_amount</th>\n",
              "      <th>imp_surcharge</th>\n",
              "      <th>total_amount</th>\n",
              "      <th>pickup_location_id</th>\n",
              "      <th>dropoff_location_id</th>\n",
              "      <th>year</th>\n",
              "      <th>month</th>\n",
              "      <th>day</th>\n",
              "      <th>day_of_week</th>\n",
              "      <th>hour_of_day</th>\n",
              "      <th>trip_duration</th>\n",
              "    </tr>\n",
              "  </thead>\n",
              "  <tbody>\n",
              "    <tr>\n",
              "      <th>0</th>\n",
              "      <td>9.01</td>\n",
              "      <td>1</td>\n",
              "      <td>N</td>\n",
              "      <td>1</td>\n",
              "      <td>26.0</td>\n",
              "      <td>0.0</td>\n",
              "      <td>0.5</td>\n",
              "      <td>8.14</td>\n",
              "      <td>5.76</td>\n",
              "      <td>0.3</td>\n",
              "      <td>40.70</td>\n",
              "      <td>262</td>\n",
              "      <td>138</td>\n",
              "      <td>2018</td>\n",
              "      <td>3</td>\n",
              "      <td>7</td>\n",
              "      <td>2</td>\n",
              "      <td>6</td>\n",
              "      <td>2131.0</td>\n",
              "    </tr>\n",
              "    <tr>\n",
              "      <th>1</th>\n",
              "      <td>0.20</td>\n",
              "      <td>1</td>\n",
              "      <td>N</td>\n",
              "      <td>1</td>\n",
              "      <td>3.0</td>\n",
              "      <td>0.0</td>\n",
              "      <td>0.5</td>\n",
              "      <td>0.75</td>\n",
              "      <td>0.00</td>\n",
              "      <td>0.3</td>\n",
              "      <td>4.55</td>\n",
              "      <td>263</td>\n",
              "      <td>236</td>\n",
              "      <td>2018</td>\n",
              "      <td>2</td>\n",
              "      <td>25</td>\n",
              "      <td>6</td>\n",
              "      <td>10</td>\n",
              "      <td>2377.0</td>\n",
              "    </tr>\n",
              "    <tr>\n",
              "      <th>2</th>\n",
              "      <td>9.65</td>\n",
              "      <td>1</td>\n",
              "      <td>N</td>\n",
              "      <td>1</td>\n",
              "      <td>41.5</td>\n",
              "      <td>0.0</td>\n",
              "      <td>0.5</td>\n",
              "      <td>9.61</td>\n",
              "      <td>5.76</td>\n",
              "      <td>0.3</td>\n",
              "      <td>57.67</td>\n",
              "      <td>138</td>\n",
              "      <td>230</td>\n",
              "      <td>2018</td>\n",
              "      <td>1</td>\n",
              "      <td>29</td>\n",
              "      <td>0</td>\n",
              "      <td>8</td>\n",
              "      <td>1286.0</td>\n",
              "    </tr>\n",
              "    <tr>\n",
              "      <th>3</th>\n",
              "      <td>9.50</td>\n",
              "      <td>1</td>\n",
              "      <td>N</td>\n",
              "      <td>1</td>\n",
              "      <td>30.0</td>\n",
              "      <td>0.5</td>\n",
              "      <td>0.5</td>\n",
              "      <td>9.25</td>\n",
              "      <td>5.76</td>\n",
              "      <td>0.3</td>\n",
              "      <td>46.31</td>\n",
              "      <td>186</td>\n",
              "      <td>138</td>\n",
              "      <td>2018</td>\n",
              "      <td>9</td>\n",
              "      <td>25</td>\n",
              "      <td>1</td>\n",
              "      <td>20</td>\n",
              "      <td>2586.0</td>\n",
              "    </tr>\n",
              "    <tr>\n",
              "      <th>4</th>\n",
              "      <td>5.80</td>\n",
              "      <td>1</td>\n",
              "      <td>N</td>\n",
              "      <td>1</td>\n",
              "      <td>21.5</td>\n",
              "      <td>0.5</td>\n",
              "      <td>0.5</td>\n",
              "      <td>4.56</td>\n",
              "      <td>0.00</td>\n",
              "      <td>0.3</td>\n",
              "      <td>27.36</td>\n",
              "      <td>162</td>\n",
              "      <td>87</td>\n",
              "      <td>2018</td>\n",
              "      <td>8</td>\n",
              "      <td>20</td>\n",
              "      <td>0</td>\n",
              "      <td>21</td>\n",
              "      <td>1575.0</td>\n",
              "    </tr>\n",
              "  </tbody>\n",
              "</table>\n",
              "</div>\n",
              "      <button class=\"colab-df-convert\" onclick=\"convertToInteractive('df-fe7cf29e-c48d-472c-a2ae-bb03eeb2def9')\"\n",
              "              title=\"Convert this dataframe to an interactive table.\"\n",
              "              style=\"display:none;\">\n",
              "        \n",
              "  <svg xmlns=\"http://www.w3.org/2000/svg\" height=\"24px\"viewBox=\"0 0 24 24\"\n",
              "       width=\"24px\">\n",
              "    <path d=\"M0 0h24v24H0V0z\" fill=\"none\"/>\n",
              "    <path d=\"M18.56 5.44l.94 2.06.94-2.06 2.06-.94-2.06-.94-.94-2.06-.94 2.06-2.06.94zm-11 1L8.5 8.5l.94-2.06 2.06-.94-2.06-.94L8.5 2.5l-.94 2.06-2.06.94zm10 10l.94 2.06.94-2.06 2.06-.94-2.06-.94-.94-2.06-.94 2.06-2.06.94z\"/><path d=\"M17.41 7.96l-1.37-1.37c-.4-.4-.92-.59-1.43-.59-.52 0-1.04.2-1.43.59L10.3 9.45l-7.72 7.72c-.78.78-.78 2.05 0 2.83L4 21.41c.39.39.9.59 1.41.59.51 0 1.02-.2 1.41-.59l7.78-7.78 2.81-2.81c.8-.78.8-2.07 0-2.86zM5.41 20L4 18.59l7.72-7.72 1.47 1.35L5.41 20z\"/>\n",
              "  </svg>\n",
              "      </button>\n",
              "      \n",
              "  <style>\n",
              "    .colab-df-container {\n",
              "      display:flex;\n",
              "      flex-wrap:wrap;\n",
              "      gap: 12px;\n",
              "    }\n",
              "\n",
              "    .colab-df-convert {\n",
              "      background-color: #E8F0FE;\n",
              "      border: none;\n",
              "      border-radius: 50%;\n",
              "      cursor: pointer;\n",
              "      display: none;\n",
              "      fill: #1967D2;\n",
              "      height: 32px;\n",
              "      padding: 0 0 0 0;\n",
              "      width: 32px;\n",
              "    }\n",
              "\n",
              "    .colab-df-convert:hover {\n",
              "      background-color: #E2EBFA;\n",
              "      box-shadow: 0px 1px 2px rgba(60, 64, 67, 0.3), 0px 1px 3px 1px rgba(60, 64, 67, 0.15);\n",
              "      fill: #174EA6;\n",
              "    }\n",
              "\n",
              "    [theme=dark] .colab-df-convert {\n",
              "      background-color: #3B4455;\n",
              "      fill: #D2E3FC;\n",
              "    }\n",
              "\n",
              "    [theme=dark] .colab-df-convert:hover {\n",
              "      background-color: #434B5C;\n",
              "      box-shadow: 0px 1px 3px 1px rgba(0, 0, 0, 0.15);\n",
              "      filter: drop-shadow(0px 1px 2px rgba(0, 0, 0, 0.3));\n",
              "      fill: #FFFFFF;\n",
              "    }\n",
              "  </style>\n",
              "\n",
              "      <script>\n",
              "        const buttonEl =\n",
              "          document.querySelector('#df-fe7cf29e-c48d-472c-a2ae-bb03eeb2def9 button.colab-df-convert');\n",
              "        buttonEl.style.display =\n",
              "          google.colab.kernel.accessAllowed ? 'block' : 'none';\n",
              "\n",
              "        async function convertToInteractive(key) {\n",
              "          const element = document.querySelector('#df-fe7cf29e-c48d-472c-a2ae-bb03eeb2def9');\n",
              "          const dataTable =\n",
              "            await google.colab.kernel.invokeFunction('convertToInteractive',\n",
              "                                                     [key], {});\n",
              "          if (!dataTable) return;\n",
              "\n",
              "          const docLinkHtml = 'Like what you see? Visit the ' +\n",
              "            '<a target=\"_blank\" href=https://colab.research.google.com/notebooks/data_table.ipynb>data table notebook</a>'\n",
              "            + ' to learn more about interactive tables.';\n",
              "          element.innerHTML = '';\n",
              "          dataTable['output_type'] = 'display_data';\n",
              "          await google.colab.output.renderOutput(dataTable, element);\n",
              "          const docLink = document.createElement('div');\n",
              "          docLink.innerHTML = docLinkHtml;\n",
              "          element.appendChild(docLink);\n",
              "        }\n",
              "      </script>\n",
              "    </div>\n",
              "  </div>\n",
              "  "
            ]
          },
          "metadata": {},
          "execution_count": 9
        }
      ],
      "source": [
        "X=train_data.drop([\"calculated_total_amount\"],axis=1,inplace=False) ##Input\n",
        "X.head()"
      ]
    },
    {
      "cell_type": "code",
      "execution_count": null,
      "metadata": {
        "colab": {
          "base_uri": "https://localhost:8080/"
        },
        "id": "WpZ3JIjGDnVS",
        "outputId": "35d63e28-726a-4449-d717-63bbd61e730a"
      },
      "outputs": [
        {
          "output_type": "execute_result",
          "data": {
            "text/plain": [
              "0    24.30\n",
              "1    37.40\n",
              "2    30.36\n",
              "3     4.30\n",
              "4    23.80\n",
              "Name: calculated_total_amount, dtype: float64"
            ]
          },
          "metadata": {},
          "execution_count": 10
        }
      ],
      "source": [
        "Y=train_data[\"calculated_total_amount\"]  # OUTPUT\n",
        "Y.head()\n"
      ]
    },
    {
      "cell_type": "markdown",
      "source": [],
      "metadata": {
        "id": "_R1mXAy7pK50"
      }
    },
    {
      "cell_type": "code",
      "source": [
        "#---------------Linear regression---------#"
      ],
      "metadata": {
        "id": "J529Ch3vY7sJ"
      },
      "execution_count": null,
      "outputs": []
    },
    {
      "cell_type": "code",
      "source": [
        "#from sklearn.linear_model import LinearRegression\n",
        "# create linear regression object\n",
        "#reg = LinearRegression()\n",
        "  \n",
        "# train the model using the training sets\n",
        "#reg.fit(X_train, y_train)"
      ],
      "metadata": {
        "id": "6JM73n-RY_HU"
      },
      "execution_count": null,
      "outputs": []
    },
    {
      "cell_type": "code",
      "source": [
        "#y_pred_LR=reg.predict(X_tst)\n",
        "#rmse_linrig=reg.predict(X_test)"
      ],
      "metadata": {
        "id": "Osx9HR35ZX5N"
      },
      "execution_count": null,
      "outputs": []
    },
    {
      "cell_type": "code",
      "source": [
        "#from sklearn.metrics import mean_squared_error\n",
        "#print(\"RMSE : \", np.sqrt(mean_squared_error(y_test,rmse_linrig)))"
      ],
      "metadata": {
        "id": "qo6rQ-LJZwAK"
      },
      "execution_count": null,
      "outputs": []
    },
    {
      "cell_type": "code",
      "source": [
        "#LR=pd.DataFrame(y_pred_LR)\n",
        "#LR.rename(columns = {0:'calculated_total_amount'}, inplace = True)\n",
        "#LR.to_csv(\"LR.csv\",index=False)"
      ],
      "metadata": {
        "id": "mPlMOLhXZ49t"
      },
      "execution_count": null,
      "outputs": []
    },
    {
      "cell_type": "code",
      "source": [
        "#-----------------RANSAC Regression-------------#"
      ],
      "metadata": {
        "id": "eLu1BKUDbTrz"
      },
      "execution_count": null,
      "outputs": []
    },
    {
      "cell_type": "code",
      "source": [
        "#from sklearn.linear_model import RANSACRegressor\n",
        "#model_ransac=RANSACRegressor()\n",
        "#model_ransac.fit(X_train,y_train)"
      ],
      "metadata": {
        "id": "1IZI5B92bXk_"
      },
      "execution_count": null,
      "outputs": []
    },
    {
      "cell_type": "code",
      "source": [
        "#y_pred_ransac=model_ransac.predict(X_tst)\n",
        "#rmse_ransac=model_ransac.predict(X_test)"
      ],
      "metadata": {
        "id": "kFU9pEckbyNo"
      },
      "execution_count": null,
      "outputs": []
    },
    {
      "cell_type": "code",
      "source": [
        "#from sklearn.metrics import mean_squared_error\n",
        "#print(\"RMSE : \", np.sqrt(mean_squared_error(y_test,rmse_ransac)))"
      ],
      "metadata": {
        "id": "-z6XUFk5byQT"
      },
      "execution_count": null,
      "outputs": []
    },
    {
      "cell_type": "code",
      "source": [
        "#RANSAC=pd.DataFrame(y_pred_ransac)\n",
        "#RANSAC.rename(columns = {0:'calculated_total_amount'}, inplace = True)\n",
        "#RANSAC.to_csv(\"RANSAC.csv\",index=False)"
      ],
      "metadata": {
        "id": "fidJkKEwcG43"
      },
      "execution_count": null,
      "outputs": []
    },
    {
      "cell_type": "code",
      "execution_count": null,
      "metadata": {
        "id": "6J33bWptDPCP"
      },
      "outputs": [],
      "source": [
        "#!pip install flaml\n",
        "#from sklearn.model_selection import train_test_split\n",
        "#from flaml import AutoML\n",
        "#model = AutoML()\n",
        "#model.fit(X,Y, metric='rmse', task='regression', time_budget=20)"
      ]
    },
    {
      "cell_type": "code",
      "execution_count": null,
      "metadata": {
        "id": "tEGIQidZFygS"
      },
      "outputs": [],
      "source": [
        "#print('Best ML Model: ', model.best_estimator)\n",
        "#print('Best hyperparmeter config: ', model.best_config)\n",
        "#print('Best accuracy on validation data: %f' %(1 - model.best_loss))\n",
        "#print('Training duration of best run: %f s'%(model.best_config_train_time))"
      ]
    },
    {
      "cell_type": "code",
      "execution_count": null,
      "metadata": {
        "id": "N-kE1GsUF10V"
      },
      "outputs": [],
      "source": [
        "#parameters=model.best_config"
      ]
    },
    {
      "cell_type": "code",
      "execution_count": null,
      "metadata": {
        "id": "sMrwKYP1GTRf"
      },
      "outputs": [],
      "source": [
        "#print(parameters)"
      ]
    },
    {
      "cell_type": "code",
      "execution_count": null,
      "metadata": {
        "id": "-6GrjuZ8J0Rs"
      },
      "outputs": [],
      "source": [
        "\n",
        "from sklearn import preprocessing \n",
        "lab_enc = preprocessing.LabelEncoder()\n",
        "X.iloc[:,2]=lab_enc.fit_transform(X.iloc[:, 2])\n"
      ]
    },
    {
      "cell_type": "code",
      "execution_count": null,
      "metadata": {
        "colab": {
          "base_uri": "https://localhost:8080/",
          "height": 270
        },
        "id": "A8YPjm-fM2tD",
        "outputId": "19c28b32-86d8-4ec3-d139-78c5dd35fe6b"
      },
      "outputs": [
        {
          "output_type": "execute_result",
          "data": {
            "text/plain": [
              "   trip_distance  rate_code  store_and_fwd_flag  payment_type  fare_amount  \\\n",
              "0           9.01          1                   0             1         26.0   \n",
              "1           0.20          1                   0             1          3.0   \n",
              "2           9.65          1                   0             1         41.5   \n",
              "3           9.50          1                   0             1         30.0   \n",
              "4           5.80          1                   0             1         21.5   \n",
              "\n",
              "   extra  mta_tax  tip_amount  tolls_amount  imp_surcharge  total_amount  \\\n",
              "0    0.0      0.5        8.14          5.76            0.3         40.70   \n",
              "1    0.0      0.5        0.75          0.00            0.3          4.55   \n",
              "2    0.0      0.5        9.61          5.76            0.3         57.67   \n",
              "3    0.5      0.5        9.25          5.76            0.3         46.31   \n",
              "4    0.5      0.5        4.56          0.00            0.3         27.36   \n",
              "\n",
              "   pickup_location_id  dropoff_location_id  year  month  day  day_of_week  \\\n",
              "0                 262                  138  2018      3    7            2   \n",
              "1                 263                  236  2018      2   25            6   \n",
              "2                 138                  230  2018      1   29            0   \n",
              "3                 186                  138  2018      9   25            1   \n",
              "4                 162                   87  2018      8   20            0   \n",
              "\n",
              "   hour_of_day  trip_duration  \n",
              "0            6         2131.0  \n",
              "1           10         2377.0  \n",
              "2            8         1286.0  \n",
              "3           20         2586.0  \n",
              "4           21         1575.0  "
            ],
            "text/html": [
              "\n",
              "  <div id=\"df-b1431393-f9f2-4683-887d-61ac2d2b530c\">\n",
              "    <div class=\"colab-df-container\">\n",
              "      <div>\n",
              "<style scoped>\n",
              "    .dataframe tbody tr th:only-of-type {\n",
              "        vertical-align: middle;\n",
              "    }\n",
              "\n",
              "    .dataframe tbody tr th {\n",
              "        vertical-align: top;\n",
              "    }\n",
              "\n",
              "    .dataframe thead th {\n",
              "        text-align: right;\n",
              "    }\n",
              "</style>\n",
              "<table border=\"1\" class=\"dataframe\">\n",
              "  <thead>\n",
              "    <tr style=\"text-align: right;\">\n",
              "      <th></th>\n",
              "      <th>trip_distance</th>\n",
              "      <th>rate_code</th>\n",
              "      <th>store_and_fwd_flag</th>\n",
              "      <th>payment_type</th>\n",
              "      <th>fare_amount</th>\n",
              "      <th>extra</th>\n",
              "      <th>mta_tax</th>\n",
              "      <th>tip_amount</th>\n",
              "      <th>tolls_amount</th>\n",
              "      <th>imp_surcharge</th>\n",
              "      <th>total_amount</th>\n",
              "      <th>pickup_location_id</th>\n",
              "      <th>dropoff_location_id</th>\n",
              "      <th>year</th>\n",
              "      <th>month</th>\n",
              "      <th>day</th>\n",
              "      <th>day_of_week</th>\n",
              "      <th>hour_of_day</th>\n",
              "      <th>trip_duration</th>\n",
              "    </tr>\n",
              "  </thead>\n",
              "  <tbody>\n",
              "    <tr>\n",
              "      <th>0</th>\n",
              "      <td>9.01</td>\n",
              "      <td>1</td>\n",
              "      <td>0</td>\n",
              "      <td>1</td>\n",
              "      <td>26.0</td>\n",
              "      <td>0.0</td>\n",
              "      <td>0.5</td>\n",
              "      <td>8.14</td>\n",
              "      <td>5.76</td>\n",
              "      <td>0.3</td>\n",
              "      <td>40.70</td>\n",
              "      <td>262</td>\n",
              "      <td>138</td>\n",
              "      <td>2018</td>\n",
              "      <td>3</td>\n",
              "      <td>7</td>\n",
              "      <td>2</td>\n",
              "      <td>6</td>\n",
              "      <td>2131.0</td>\n",
              "    </tr>\n",
              "    <tr>\n",
              "      <th>1</th>\n",
              "      <td>0.20</td>\n",
              "      <td>1</td>\n",
              "      <td>0</td>\n",
              "      <td>1</td>\n",
              "      <td>3.0</td>\n",
              "      <td>0.0</td>\n",
              "      <td>0.5</td>\n",
              "      <td>0.75</td>\n",
              "      <td>0.00</td>\n",
              "      <td>0.3</td>\n",
              "      <td>4.55</td>\n",
              "      <td>263</td>\n",
              "      <td>236</td>\n",
              "      <td>2018</td>\n",
              "      <td>2</td>\n",
              "      <td>25</td>\n",
              "      <td>6</td>\n",
              "      <td>10</td>\n",
              "      <td>2377.0</td>\n",
              "    </tr>\n",
              "    <tr>\n",
              "      <th>2</th>\n",
              "      <td>9.65</td>\n",
              "      <td>1</td>\n",
              "      <td>0</td>\n",
              "      <td>1</td>\n",
              "      <td>41.5</td>\n",
              "      <td>0.0</td>\n",
              "      <td>0.5</td>\n",
              "      <td>9.61</td>\n",
              "      <td>5.76</td>\n",
              "      <td>0.3</td>\n",
              "      <td>57.67</td>\n",
              "      <td>138</td>\n",
              "      <td>230</td>\n",
              "      <td>2018</td>\n",
              "      <td>1</td>\n",
              "      <td>29</td>\n",
              "      <td>0</td>\n",
              "      <td>8</td>\n",
              "      <td>1286.0</td>\n",
              "    </tr>\n",
              "    <tr>\n",
              "      <th>3</th>\n",
              "      <td>9.50</td>\n",
              "      <td>1</td>\n",
              "      <td>0</td>\n",
              "      <td>1</td>\n",
              "      <td>30.0</td>\n",
              "      <td>0.5</td>\n",
              "      <td>0.5</td>\n",
              "      <td>9.25</td>\n",
              "      <td>5.76</td>\n",
              "      <td>0.3</td>\n",
              "      <td>46.31</td>\n",
              "      <td>186</td>\n",
              "      <td>138</td>\n",
              "      <td>2018</td>\n",
              "      <td>9</td>\n",
              "      <td>25</td>\n",
              "      <td>1</td>\n",
              "      <td>20</td>\n",
              "      <td>2586.0</td>\n",
              "    </tr>\n",
              "    <tr>\n",
              "      <th>4</th>\n",
              "      <td>5.80</td>\n",
              "      <td>1</td>\n",
              "      <td>0</td>\n",
              "      <td>1</td>\n",
              "      <td>21.5</td>\n",
              "      <td>0.5</td>\n",
              "      <td>0.5</td>\n",
              "      <td>4.56</td>\n",
              "      <td>0.00</td>\n",
              "      <td>0.3</td>\n",
              "      <td>27.36</td>\n",
              "      <td>162</td>\n",
              "      <td>87</td>\n",
              "      <td>2018</td>\n",
              "      <td>8</td>\n",
              "      <td>20</td>\n",
              "      <td>0</td>\n",
              "      <td>21</td>\n",
              "      <td>1575.0</td>\n",
              "    </tr>\n",
              "  </tbody>\n",
              "</table>\n",
              "</div>\n",
              "      <button class=\"colab-df-convert\" onclick=\"convertToInteractive('df-b1431393-f9f2-4683-887d-61ac2d2b530c')\"\n",
              "              title=\"Convert this dataframe to an interactive table.\"\n",
              "              style=\"display:none;\">\n",
              "        \n",
              "  <svg xmlns=\"http://www.w3.org/2000/svg\" height=\"24px\"viewBox=\"0 0 24 24\"\n",
              "       width=\"24px\">\n",
              "    <path d=\"M0 0h24v24H0V0z\" fill=\"none\"/>\n",
              "    <path d=\"M18.56 5.44l.94 2.06.94-2.06 2.06-.94-2.06-.94-.94-2.06-.94 2.06-2.06.94zm-11 1L8.5 8.5l.94-2.06 2.06-.94-2.06-.94L8.5 2.5l-.94 2.06-2.06.94zm10 10l.94 2.06.94-2.06 2.06-.94-2.06-.94-.94-2.06-.94 2.06-2.06.94z\"/><path d=\"M17.41 7.96l-1.37-1.37c-.4-.4-.92-.59-1.43-.59-.52 0-1.04.2-1.43.59L10.3 9.45l-7.72 7.72c-.78.78-.78 2.05 0 2.83L4 21.41c.39.39.9.59 1.41.59.51 0 1.02-.2 1.41-.59l7.78-7.78 2.81-2.81c.8-.78.8-2.07 0-2.86zM5.41 20L4 18.59l7.72-7.72 1.47 1.35L5.41 20z\"/>\n",
              "  </svg>\n",
              "      </button>\n",
              "      \n",
              "  <style>\n",
              "    .colab-df-container {\n",
              "      display:flex;\n",
              "      flex-wrap:wrap;\n",
              "      gap: 12px;\n",
              "    }\n",
              "\n",
              "    .colab-df-convert {\n",
              "      background-color: #E8F0FE;\n",
              "      border: none;\n",
              "      border-radius: 50%;\n",
              "      cursor: pointer;\n",
              "      display: none;\n",
              "      fill: #1967D2;\n",
              "      height: 32px;\n",
              "      padding: 0 0 0 0;\n",
              "      width: 32px;\n",
              "    }\n",
              "\n",
              "    .colab-df-convert:hover {\n",
              "      background-color: #E2EBFA;\n",
              "      box-shadow: 0px 1px 2px rgba(60, 64, 67, 0.3), 0px 1px 3px 1px rgba(60, 64, 67, 0.15);\n",
              "      fill: #174EA6;\n",
              "    }\n",
              "\n",
              "    [theme=dark] .colab-df-convert {\n",
              "      background-color: #3B4455;\n",
              "      fill: #D2E3FC;\n",
              "    }\n",
              "\n",
              "    [theme=dark] .colab-df-convert:hover {\n",
              "      background-color: #434B5C;\n",
              "      box-shadow: 0px 1px 3px 1px rgba(0, 0, 0, 0.15);\n",
              "      filter: drop-shadow(0px 1px 2px rgba(0, 0, 0, 0.3));\n",
              "      fill: #FFFFFF;\n",
              "    }\n",
              "  </style>\n",
              "\n",
              "      <script>\n",
              "        const buttonEl =\n",
              "          document.querySelector('#df-b1431393-f9f2-4683-887d-61ac2d2b530c button.colab-df-convert');\n",
              "        buttonEl.style.display =\n",
              "          google.colab.kernel.accessAllowed ? 'block' : 'none';\n",
              "\n",
              "        async function convertToInteractive(key) {\n",
              "          const element = document.querySelector('#df-b1431393-f9f2-4683-887d-61ac2d2b530c');\n",
              "          const dataTable =\n",
              "            await google.colab.kernel.invokeFunction('convertToInteractive',\n",
              "                                                     [key], {});\n",
              "          if (!dataTable) return;\n",
              "\n",
              "          const docLinkHtml = 'Like what you see? Visit the ' +\n",
              "            '<a target=\"_blank\" href=https://colab.research.google.com/notebooks/data_table.ipynb>data table notebook</a>'\n",
              "            + ' to learn more about interactive tables.';\n",
              "          element.innerHTML = '';\n",
              "          dataTable['output_type'] = 'display_data';\n",
              "          await google.colab.output.renderOutput(dataTable, element);\n",
              "          const docLink = document.createElement('div');\n",
              "          docLink.innerHTML = docLinkHtml;\n",
              "          element.appendChild(docLink);\n",
              "        }\n",
              "      </script>\n",
              "    </div>\n",
              "  </div>\n",
              "  "
            ]
          },
          "metadata": {},
          "execution_count": 12
        }
      ],
      "source": [
        "X.head()"
      ]
    },
    {
      "cell_type": "code",
      "execution_count": null,
      "metadata": {
        "id": "JvWf9cN3hGMo"
      },
      "outputs": [],
      "source": [
        "from sklearn import preprocessing \n",
        "#X_n=preprocessing.normalize(X)\n",
        "#print(X_n.shape)"
      ]
    },
    {
      "cell_type": "code",
      "execution_count": null,
      "metadata": {
        "id": "CWlC3EaVka9_"
      },
      "outputs": [],
      "source": [
        "from sklearn.model_selection import train_test_split\n",
        "from sklearn.metrics import mean_squared_error\n",
        "\n",
        "X_train, X_test, y_train, y_test = train_test_split(X, Y, test_size = 0.2, random_state = 42)"
      ]
    },
    {
      "cell_type": "code",
      "source": [
        "from sklearn import preprocessing \n",
        "lab_enc = preprocessing.LabelEncoder()\n",
        "X_tst=test_data\n",
        "X_tst.iloc[:,2]=lab_enc.fit_transform(X_tst.iloc[:,2])"
      ],
      "metadata": {
        "id": "bMQYlexFk8i0"
      },
      "execution_count": null,
      "outputs": []
    },
    {
      "cell_type": "code",
      "execution_count": null,
      "metadata": {
        "id": "dil1h7vvhGRW",
        "colab": {
          "base_uri": "https://localhost:8080/"
        },
        "outputId": "3de091ba-a0b3-4e69-ee7d-642175b5bc6f"
      },
      "outputs": [
        {
          "output_type": "stream",
          "name": "stdout",
          "text": [
            "[04:34:40] WARNING: /workspace/src/objective/regression_obj.cu:152: reg:linear is now deprecated in favor of reg:squarederror.\n",
            "RMSE: 20.314516594648516\n"
          ]
        }
      ],
      "source": [
        "#-------------Best_Final\n",
        "#---Consider This XG model as this is best and run ignore remaining models \n",
        "import xgboost as xg\n",
        "mod = xg.XGBRFRegressor()\n",
        "\n",
        "mod = mod.fit(X,Y)\n",
        "rmse=mod.predict(X_test)\n",
        "predictions = mod.predict(X_tst)\n",
        "from sklearn.metrics import mean_squared_error\n",
        "# rmse\n",
        "print('RMSE:', np.sqrt(mean_squared_error(y_test, rmse)))"
      ]
    },
    {
      "cell_type": "code",
      "source": [
        "#---run this to give predictions\n",
        "XG_pred=pd.DataFrame(predictions)\n",
        "XG_pred.rename(columns = {0:'calculated_total_amount'}, inplace = True)\n",
        "print(XG_pred.columns)\n",
        "XG_pred.to_csv(\"XG_Final_1.csv\",index=False)"
      ],
      "metadata": {
        "colab": {
          "base_uri": "https://localhost:8080/"
        },
        "id": "RunBieVrjN7O",
        "outputId": "e2ee8a67-31d8-4fda-cb16-f69c6103e999"
      },
      "execution_count": null,
      "outputs": [
        {
          "output_type": "stream",
          "name": "stdout",
          "text": [
            "Index(['calculated_total_amount'], dtype='object')\n"
          ]
        }
      ]
    },
    {
      "cell_type": "code",
      "execution_count": null,
      "metadata": {
        "id": "p0azbBp6GYGe"
      },
      "outputs": [],
      "source": [
        "#import lightgbm as lgb\n",
        "#model_lgbm= lgb.LGBMRegressor(num_leaves=5, n_estimators=28, min_child_samples= 26)\n",
        "#model_lgbm.fit(X,Y)"
      ]
    },
    {
      "cell_type": "code",
      "execution_count": null,
      "metadata": {
        "id": "I70W7VFgQ-Xp"
      },
      "outputs": [],
      "source": [
        "#import sklearn.metrics\n",
        "#from sklearn.model_selection import RandomizedSearchCV\n",
        "#param={\"min_child_samples\" : list(range(50)),\"n_estimators\" : list(range(200)),\"num_leaves\" : list(range(0,10))}\n",
        "#clf=RandomizedSearchCV(model_lgbm,param,scoring=\"neg_root_mean_squared_error\") \n",
        "#clf.fit(X,Y)"
      ]
    },
    {
      "cell_type": "code",
      "execution_count": null,
      "metadata": {
        "id": "rFyy4V5zRV_6"
      },
      "outputs": [],
      "source": [
        "#print(clf.best_params_)\n",
        "#print(clf.best_score_)\n"
      ]
    },
    {
      "cell_type": "code",
      "execution_count": null,
      "metadata": {
        "id": "-XVBDL3mPNB6"
      },
      "outputs": [],
      "source": [
        "#from sklearn import preprocessing \n",
        "#lab_enc = preprocessing.LabelEncoder()\n",
        "#X_tst=test_data\n",
        "#X_tst.iloc[:,2]=lab_enc.fit_transform(X_tst.iloc[:,2])"
      ]
    },
    {
      "cell_type": "code",
      "execution_count": null,
      "metadata": {
        "id": "936OLz-pyJsb"
      },
      "outputs": [],
      "source": [
        "#from sklearn.model_selection import train_test_split\n",
        "#from sklearn.metrics import mean_squared_error\n",
        "\n",
        "#X_train, X_test, y_train, y_test = train_test_split(X, Y, test_size = 0.2, random_state = 42)"
      ]
    },
    {
      "cell_type": "code",
      "execution_count": null,
      "metadata": {
        "id": "-RR4FvHkHMfu"
      },
      "outputs": [],
      "source": [
        "#from sklearn import preprocessing\n",
        "# predict the results\n",
        "#y_rmse_lgbm=model_lgbm.predict(X_test)\n",
        "#y_pred=model_lgbm.predict(X_tst)"
      ]
    },
    {
      "cell_type": "code",
      "execution_count": null,
      "metadata": {
        "id": "ZJK3KdwPSDnq"
      },
      "outputs": [],
      "source": [
        "#from sklearn.metrics import mean_squared_error\n",
        "#print(\"RMSE : \", np.sqrt(mean_squared_error(y_test,y_rmse_lgbm)))"
      ]
    },
    {
      "cell_type": "code",
      "execution_count": null,
      "metadata": {
        "id": "DUpyM65RSI2Y"
      },
      "outputs": [],
      "source": [
        "#LGBM_TAXI=pd.DataFrame(y_pred)\n",
        "#LGBM_TAXI.rename(columns = {0:'calculated_total_amount'}, inplace = True)\n",
        "#LGBM_TAXI.to_csv(\"LGBM_TAXI_14.csv\",index=False)"
      ]
    },
    {
      "cell_type": "code",
      "execution_count": null,
      "metadata": {
        "id": "1dDvL5DbVnEi"
      },
      "outputs": [],
      "source": [
        "#-------------------------------Random Forest---------#\n",
        "#from sklearn.ensemble import RandomForestRegressor\n",
        "#rfmodel=RandomForestRegressor(n_estimators= 4, max_features= 0.923187219673215, max_leaf_nodes= 16)\n",
        "#rfmodel.fit(X,Y)"
      ]
    },
    {
      "cell_type": "code",
      "execution_count": null,
      "metadata": {
        "id": "8qbVRftnWy2I"
      },
      "outputs": [],
      "source": [
        "#y_rf_pred=rfmodel.predict(X_tst)"
      ]
    },
    {
      "cell_type": "code",
      "execution_count": null,
      "metadata": {
        "id": "5SwfbxGBWv5o"
      },
      "outputs": [],
      "source": [
        "#RF_TAXI=pd.DataFrame(y_rf_pred)\n",
        "#RF_TAXI.to_csv(\"RF_TAXI_1.csv\")"
      ]
    },
    {
      "cell_type": "code",
      "execution_count": null,
      "metadata": {
        "id": "0IKcDqUUjZR2"
      },
      "outputs": [],
      "source": [
        "#------------------XGBOOST-------------------#"
      ]
    },
    {
      "cell_type": "code",
      "execution_count": null,
      "metadata": {
        "id": "g3OLTggWjbpS"
      },
      "outputs": [],
      "source": [
        "#from xgboost import XGBRegressor\n",
        "#xgmodel=XGBRegressor(reg_lambda= 4,n_estimators= 147,max_depth=4)\n",
        "#xgmodel.fit(X_train,y_train)"
      ]
    },
    {
      "cell_type": "code",
      "source": [
        "#import sklearn.metrics\n",
        "#from sklearn.model_selection import RandomizedSearchCV\n",
        "#param={\"max_depth\" : list(range(30)),\"n_estimators\" : list(range(200)),\"reg_lambda\" : list(range(0,5))}\n",
        "#clf=RandomizedSearchCV(xgmodel,param,cv=3,scoring=\"neg_root_mean_squared_error\")\n",
        "#clf.fit(X_train,y_train)"
      ],
      "metadata": {
        "id": "i-xR30szr77N"
      },
      "execution_count": null,
      "outputs": []
    },
    {
      "cell_type": "code",
      "source": [
        "#print(clf.best_params_)\n",
        "#print(clf.best_score_)"
      ],
      "metadata": {
        "id": "S-TqdCx7syQe"
      },
      "execution_count": null,
      "outputs": []
    },
    {
      "cell_type": "code",
      "execution_count": null,
      "metadata": {
        "id": "LvX5tihXVL65"
      },
      "outputs": [],
      "source": [
        "#import sklearn.metrics\n",
        "#from sklearn.model_selection import RandomizedSearchCV\n",
        "#param_test1 = {\n",
        "# 'max_depth':range(3,10,2),\n",
        "# 'min_child_weight':range(1,6,2)\n",
        "#}\n",
        "#gsearch1 = RandomizedSearchCV(xgmodel,param_test1, scoring='neg_root_mean_squared_error',n_jobs=4,cv=5)\n",
        "#gsearch1.fit(X,Y)\n",
        "#gsearch1.best_params_, gsearch1.best_score_"
      ]
    },
    {
      "cell_type": "code",
      "execution_count": null,
      "metadata": {
        "id": "aMd0AtBZpUha"
      },
      "outputs": [],
      "source": [
        "#param_test2 = {\n",
        "# 'max_depth':[4,5,6],\n",
        "# 'min_child_weight':[4,5,6]\n",
        "#}\n",
        "#gsearch2 = RandomizedSearchCV(xgmodel,param_test2, scoring='neg_root_mean_squared_error',n_jobs=4,cv=5)\n",
        "#gsearch2.fit(X,Y)\n",
        "#gsearch2.best_params_, gsearch2.best_score_"
      ]
    },
    {
      "cell_type": "code",
      "execution_count": null,
      "metadata": {
        "id": "GWxM965ppfoH"
      },
      "outputs": [],
      "source": [
        "#param_test3 = {\n",
        "#'gamma':[i/10.0 for i in range(0,5)]\n",
        "#}\n",
        "#gsearch3 = RandomizedSearchCV(xgmodel,param_test3, scoring='neg_root_mean_squared_error',n_jobs=4,cv=5)\n",
        "#gsearch3.fit(X,Y)\n",
        "#gsearch3.best_params_, gsearch3.best_score_"
      ]
    },
    {
      "cell_type": "code",
      "execution_count": null,
      "metadata": {
        "id": "oOdAaIOSjzeA"
      },
      "outputs": [],
      "source": [
        "#y_pred_xg=xgmodel.predict(X_tst)\n",
        "#y_pred_xg=pd.DataFrame(y_pred_xg)\n",
        "#y_pred_xg.rename(columns = {0:'calculated_total_amount'}, inplace = True)\n",
        "#y_pred_xg_rmse=xgmodel.predict(X_test)"
      ]
    },
    {
      "cell_type": "code",
      "execution_count": null,
      "metadata": {
        "id": "o3qLWgsATK0F"
      },
      "outputs": [],
      "source": [
        "#import sklearn.metrics\n",
        "#from sklearn.model_selection import RandomizedSearchCV\n",
        "#param={\"alpha\" : list(range(0,2))}\n",
        "#clf=RandomizedSearchCV(xgmodel,param,scoring=\"neg_root_mean_squared_error\")\n",
        "#clf.fit(X,Y)"
      ]
    },
    {
      "cell_type": "code",
      "execution_count": null,
      "metadata": {
        "id": "Hg_WECloqc_q"
      },
      "outputs": [],
      "source": [
        "#from sklearn.metrics import mean_squared_error\n",
        "#print(\"RMSE : \", np.sqrt(mean_squared_error(y_test,y_pred_xg_rmse)))"
      ]
    },
    {
      "cell_type": "code",
      "execution_count": null,
      "metadata": {
        "id": "53hAHi4gj7yF"
      },
      "outputs": [],
      "source": [
        "#XG_TAXI=pd.DataFrame(y_pred_xg)\n",
        "#XG_TAXI.to_csv(\"XG_TAXI_12.csv\",index=False)"
      ]
    },
    {
      "cell_type": "code",
      "execution_count": null,
      "metadata": {
        "id": "83nBWr4D3Tjf"
      },
      "outputs": [],
      "source": [
        "#--------------Applying  PCA---------------------------------#"
      ]
    },
    {
      "cell_type": "code",
      "source": [
        "#from sklearn.preprocessing import MinMaxScaler\n",
        "#scaler = MinMaxScaler(feature_range=(0, 1))\n",
        "\n",
        "#X_scaled = scaler.fit_transform(X)\n",
        "#X _scaled= pd.DataFrame(X_scaled)"
      ],
      "metadata": {
        "id": "3cF6OLuE8YTb"
      },
      "execution_count": null,
      "outputs": []
    },
    {
      "cell_type": "code",
      "execution_count": null,
      "metadata": {
        "id": "W_p6eiuv3YKN"
      },
      "outputs": [],
      "source": [
        "#from sklearn.decomposition import PCA\n",
        "\n",
        "# Set the n_components=3\n",
        "#principal=PCA(n_components=3)\n",
        "#principal.fit(X_scaled)\n",
        "#X_PCA=principal.transform(X_scaled)\n",
        " \n",
        "# Check the dimensions of data after PCA\n",
        "#print(X_PCA.shape)"
      ]
    },
    {
      "cell_type": "code",
      "execution_count": null,
      "metadata": {
        "id": "NGWs6iuZyJBx"
      },
      "outputs": [],
      "source": [
        "#---------------------Neural Networks-----------------#"
      ]
    },
    {
      "cell_type": "code",
      "execution_count": null,
      "metadata": {
        "id": "fut9NR3NyLsA"
      },
      "outputs": [],
      "source": [
        "#import math\n",
        "#import pandas as pd\n",
        "#import tensorflow as tf\n",
        "#import matplotlib.pyplot as plt\n",
        "#from tensorflow.keras import Model\n",
        "#from tensorflow.keras import Sequential\n",
        "#from tensorflow.keras.optimizers import Adam\n",
        "#from sklearn.preprocessing import StandardScaler\n",
        "#from tensorflow.keras.layers import Dense, Dropout\n",
        "#from sklearn.model_selection import train_test_split\n",
        "#from tensorflow.keras.losses import MeanSquaredLogarithmicError"
      ]
    },
    {
      "cell_type": "code",
      "execution_count": null,
      "metadata": {
        "id": "8kdiFlTayTHW"
      },
      "outputs": [],
      "source": [
        "#hidden_units1 = 2048\n",
        "#hidden_units2 = 1024\n",
        "#hidden_units3 = 1024\n",
        "#hidden_units4 = 512\n",
        "#hidden_units5 = 64\n",
        "#learning_rate = 0.01\n",
        "# Creating model using the Sequential in tensorflow\n",
        "#def build_model_using_sequential():\n",
        "# model = Sequential([\n",
        "#    Dense(hidden_units1, kernel_initializer='normal', activation='relu',input_dim=X.shape[1]),\n",
        "#    #Dropout(0.2),\n",
        "#    Dense(hidden_units2, kernel_initializer='normal', activation='relu'),\n",
        "#    #Dropout(0.2),\n",
        "#    Dense(hidden_units3, kernel_initializer='normal', activation='relu'),\n",
        "#    #Dropout(0.2),\n",
        "#    Dense(hidden_units4, kernel_initializer='normal', activation='relu'),\n",
        "#    #Dropout(0.2),\n",
        "#    Dense(hidden_units5, kernel_initializer='normal', activation='relu'),\n",
        "#   #Dropout(0.2),\n",
        "#    Dense(1, kernel_initializer='normal', activation='linear')\n",
        "# ])\n",
        "#  return model\n",
        "# build the model\n",
        "#model = build_model_using_sequential()"
      ]
    },
    {
      "cell_type": "markdown",
      "metadata": {
        "id": "Ewmi_vagwRyO"
      },
      "source": []
    },
    {
      "cell_type": "code",
      "execution_count": null,
      "metadata": {
        "id": "kldQcbNTybRH"
      },
      "outputs": [],
      "source": [
        "# loss function\n",
        "#msle = MeanSquaredLogarithmicError()\n",
        "#model.compile(\n",
        "#    loss=\"mean_squared_error\", \n",
        "#    optimizer=\"Adam\", \n",
        "#    metrics=[\"mean_squared_error\"]\n",
        "#)\n",
        "## train the model\n",
        "#history = model.fit(\n",
        "#    X_train, \n",
        "#    y_train, \n",
        "#    batch_size=32,\n",
        "#)"
      ]
    },
    {
      "cell_type": "code",
      "execution_count": null,
      "metadata": {
        "id": "0sKsP6GAyvRL"
      },
      "outputs": [],
      "source": [
        "#X_tst_1=test_data\n",
        "#y_rmse=model.predict(X_test)\n",
        "#y_pred_nn=model.predict(X_tst)\n",
        "#print(y_pred_nn)"
      ]
    },
    {
      "cell_type": "code",
      "execution_count": null,
      "metadata": {
        "id": "ZnGOyYZfxdq5"
      },
      "outputs": [],
      "source": [
        "#from sklearn.metrics import mean_squared_error\n",
        "#print(\"RMSE : \", np.sqrt(mean_squared_error(y_test,y_rmse)))"
      ]
    },
    {
      "cell_type": "code",
      "execution_count": null,
      "metadata": {
        "id": "pJ5x-Z0_yfyP"
      },
      "outputs": [],
      "source": [
        "#NN_PRED=pd.DataFrame(y_pred_nn)\n",
        "#NN_PRED.rename(columns = {0:'calculated_total_amount'}, inplace = True)\n",
        "#NN_PRED.to_csv(\"NN_PRED_20.csv\",index=False)"
      ]
    },
    {
      "cell_type": "code",
      "execution_count": null,
      "metadata": {
        "id": "lIpW-758bnsR"
      },
      "outputs": [],
      "source": [
        "#------------------------Elastic Net--------------#"
      ]
    },
    {
      "cell_type": "code",
      "execution_count": null,
      "metadata": {
        "id": "UQGqmIcKbqhJ"
      },
      "outputs": [],
      "source": [
        "#from sklearn.linear_model import ElasticNet\n",
        "#model_elastic = ElasticNet(alpha=1,max_iter=3000)\n",
        "#model_elastic.fit(X_train,y_train)"
      ]
    },
    {
      "cell_type": "code",
      "source": [
        "#import sklearn.metrics\n",
        "#from sklearn.model_selection import RandomizedSearchCV\n",
        "#param={\"alpha\" : list(range(0,5))}\n",
        "#clf=RandomizedSearchCV(model_elastic,param,cv=3,scoring=\"neg_root_mean_squared_error\")\n",
        "#clf.fit(X_train,y_train)"
      ],
      "metadata": {
        "id": "ViOSfs6CKPX0"
      },
      "execution_count": null,
      "outputs": []
    },
    {
      "cell_type": "code",
      "source": [
        "#print(clf.best_params_)\n",
        "#print(clf.best_score_)"
      ],
      "metadata": {
        "id": "7aOOUvDWKlNt"
      },
      "execution_count": null,
      "outputs": []
    },
    {
      "cell_type": "code",
      "execution_count": null,
      "metadata": {
        "id": "S1Ftn4DCb_bc"
      },
      "outputs": [],
      "source": [
        "#y_pred_elastic=model_elastic.predict(X_tst)\n",
        "#y_pred_elastic_rmse=model_elastic.predict(X_test)\n",
        "#print(y_pred_elastic)"
      ]
    },
    {
      "cell_type": "code",
      "execution_count": null,
      "metadata": {
        "id": "ZKbKRHR3cWGU"
      },
      "outputs": [],
      "source": [
        "#from sklearn.metrics import mean_squared_error\n",
        "#print(\"RMSE : \", np.sqrt(mean_squared_error(y_test,y_pred_elastic_rmse)))"
      ]
    },
    {
      "cell_type": "code",
      "execution_count": null,
      "metadata": {
        "id": "TCkhso-adhdJ"
      },
      "outputs": [],
      "source": [
        "#ELASTIC_PRED=pd.DataFrame(y_pred_elastic)\n",
        "#ELASTIC_PRED.rename(columns = {0:'calculated_total_amount'}, inplace = True)\n",
        "#ELASTIC_PRED.to_csv(\"ELASTIC_2.csv\",index=False)"
      ]
    },
    {
      "cell_type": "code",
      "execution_count": null,
      "metadata": {
        "id": "FqYpncO_8zKn"
      },
      "outputs": [],
      "source": [
        "#---------------Ridge Regression--------------#"
      ]
    },
    {
      "cell_type": "code",
      "execution_count": null,
      "metadata": {
        "id": "agwWHDF-9D-K"
      },
      "outputs": [],
      "source": [
        "#from sklearn.linear_model import Ridge\n",
        "\n",
        "#linridge = Ridge(alpha=4)"
      ]
    },
    {
      "cell_type": "code",
      "source": [
        "#import sklearn.metrics\n",
        "#from sklearn.model_selection import RandomizedSearchCV\n",
        "#param={\"alpha\" : list(range(0,5))}\n",
        "#clf=RandomizedSearchCV(linridge,param,cv=3,scoring=\"neg_root_mean_squared_error\")\n",
        "#clf.fit(X_train,y_train)"
      ],
      "metadata": {
        "id": "8dD66h4fKzOE"
      },
      "execution_count": null,
      "outputs": []
    },
    {
      "cell_type": "code",
      "source": [
        "#print(clf.best_params_)\n",
        "#print(clf.best_score_)"
      ],
      "metadata": {
        "id": "KFF4nbgwK5tn"
      },
      "execution_count": null,
      "outputs": []
    },
    {
      "cell_type": "code",
      "execution_count": null,
      "metadata": {
        "id": "n3HXX_xD-58c"
      },
      "outputs": [],
      "source": [
        "#linridge.fit(X,Y)"
      ]
    },
    {
      "cell_type": "code",
      "execution_count": null,
      "metadata": {
        "id": "xVPKc0AI-9OF"
      },
      "outputs": [],
      "source": [
        "#y_pred_ridge=linridge.predict(X_tst)\n",
        "#y_ridge_rmse=linridge.predict(X_test)\n",
        "#print(y_pred_ridge)"
      ]
    },
    {
      "cell_type": "code",
      "execution_count": null,
      "metadata": {
        "id": "O-JM1Y7p_X-C"
      },
      "outputs": [],
      "source": [
        "#from sklearn.metrics import mean_squared_error\n",
        "#print(\"RMSE : \", np.sqrt(mean_squared_error(y_test,y_ridge_rmse)))"
      ]
    },
    {
      "cell_type": "code",
      "execution_count": null,
      "metadata": {
        "id": "lSoHp-t__mhK"
      },
      "outputs": [],
      "source": [
        "#Ridge_PRED=pd.DataFrame(y_pred_ridge)\n",
        "#Ridge_PRED.to_csv(\"Ridge_2.csv\",index=False)"
      ]
    },
    {
      "cell_type": "code",
      "execution_count": null,
      "metadata": {
        "id": "38S9AATn83ic"
      },
      "outputs": [],
      "source": [
        "#---------------Lasso Regression-----------------#"
      ]
    },
    {
      "cell_type": "code",
      "execution_count": null,
      "metadata": {
        "id": "DY71kM1d9NUH"
      },
      "outputs": [],
      "source": [
        "#from sklearn.linear_model import Lasso\n",
        "\n",
        "# Instantiate a lasso regressor: lasso\n",
        "#lasso = Lasso(alpha=10)\n",
        "\n",
        "# Fit the regressor to the data\n",
        "#lasso.fit(X_train,y_train)"
      ]
    },
    {
      "cell_type": "code",
      "source": [
        "#import sklearn.metrics\n",
        "#from sklearn.model_selection import RandomizedSearchCV\n",
        "#param={\"alpha\" : list(range(0,5))}\n",
        "#clf=RandomizedSearchCV(linridge,param,cv=3,scoring=\"neg_root_mean_squared_error\")\n",
        "#clf.fit(X_train,y_train)"
      ],
      "metadata": {
        "id": "Fve7j5xhLVYe"
      },
      "execution_count": null,
      "outputs": []
    },
    {
      "cell_type": "code",
      "execution_count": null,
      "metadata": {
        "id": "32TCG8edML7V"
      },
      "outputs": [],
      "source": [
        "#print(clf.best_params_)\n",
        "#print(clf.best_score_)\n"
      ]
    },
    {
      "cell_type": "code",
      "execution_count": null,
      "metadata": {
        "id": "42C3KamQ9R_C"
      },
      "outputs": [],
      "source": [
        "#y_pred_lasso=lasso.predict(X_tst)\n",
        "#y_lasso_rmse=lasso.predict(X_test)\n",
        "#print(y_pred_lasso)"
      ]
    },
    {
      "cell_type": "code",
      "execution_count": null,
      "metadata": {
        "id": "MkWKuAGN9s1x"
      },
      "outputs": [],
      "source": [
        "#from sklearn.metrics import mean_squared_error\n",
        "#print(\"RMSE : \", np.sqrt(mean_squared_error(y_test,y_lasso_rmse)))"
      ]
    },
    {
      "cell_type": "code",
      "execution_count": null,
      "metadata": {
        "id": "ZQMrux4E996Z"
      },
      "outputs": [],
      "source": [
        "#LASSO_PRED=pd.DataFrame(y_pred_lasso)\n",
        "#LASSO_PRED.to_csv(\"LASSO_1.csv\",index=False)"
      ]
    },
    {
      "cell_type": "code",
      "execution_count": null,
      "metadata": {
        "id": "QzAkcx6zA2fk"
      },
      "outputs": [],
      "source": []
    },
    {
      "cell_type": "code",
      "execution_count": null,
      "metadata": {
        "id": "AEhmK-y5A2hb"
      },
      "outputs": [],
      "source": [
        "#!pip install xgboost"
      ]
    },
    {
      "cell_type": "code",
      "execution_count": null,
      "metadata": {
        "id": "2PiSEJ5MsUw0"
      },
      "outputs": [],
      "source": [
        "#import xgboost as xg\n",
        "#xg__model = xg.XGBRFRegressor(max_depth = 2, n_estimators= 49, reg_lambda=1.6)\n",
        "#xg__model.fit(X,Y)"
      ]
    },
    {
      "cell_type": "code",
      "execution_count": null,
      "metadata": {
        "id": "ExxfkyNFsjjw"
      },
      "outputs": [],
      "source": [
        "#xg__model.predict(X_tst)\n",
        "#xg_rmse=xg__model.predict(X_test)"
      ]
    },
    {
      "cell_type": "code",
      "execution_count": null,
      "metadata": {
        "id": "R4odcP40ASj2"
      },
      "outputs": [],
      "source": [
        "#import xgboost as xg\n",
        "#mod = xg.XGBRFRegressor(max_depth = 2, n_estimators= 49, reg_lambda=1.6)\n",
        "\n",
        "#mod = mod.fit(X_train,y_train)\n",
        "#rmse=mod.predict(X_test)\n",
        "#predictions = mod.predict(test_data)\n",
        "#from sklearn.metrics import mean_squared_error\n",
        "# rmse\n",
        "#print('RMSE:', np.sqrt(mean_squared_error(y_test, rmse)))"
      ]
    },
    {
      "cell_type": "code",
      "execution_count": null,
      "metadata": {
        "id": "SajkAoEmBGkI"
      },
      "outputs": [],
      "source": [
        "#XG_pred=pd.DataFrame(predictions)\n",
        "#XG_pred.to_csv(\"XG_best_1.csv\",index=False)"
      ]
    },
    {
      "cell_type": "code",
      "execution_count": null,
      "metadata": {
        "id": "D8uO9s9EjNMZ"
      },
      "outputs": [],
      "source": [
        "#import sklearn.metrics\n",
        "#from sklearn.model_selection import RandomizedSearchCV\n",
        "#param={\"max_depth\" : list(range(20)),\"n_estimators\" : list(range(100)),\"reg_lambda\" : list(range(0,2))}\n",
        "#clf=RandomizedSearchCV(mod,param,cv=3,scoring=\"neg_root_mean_squared_error\")\n",
        "#clf.fit(X,Y)"
      ]
    },
    {
      "cell_type": "code",
      "execution_count": null,
      "metadata": {
        "id": "VQR8Ih9ZnTdw"
      },
      "outputs": [],
      "source": [
        "#print(clf.best_params_)\n",
        "\n",
        "#print(clf.best_score_)\n",
        "#best n_estimators=700\n",
        "#------Best is XG_43 and X_47"
      ]
    },
    {
      "cell_type": "code",
      "execution_count": null,
      "metadata": {
        "id": "sVgqr23khK0T"
      },
      "outputs": [],
      "source": [
        "#XG_pred=pd.DataFrame(predictions)\n",
        "#XG_pred.rename(columns = {0:'calculated_total_amount'}, inplace = True)\n",
        "#print(XG_pred.columns)\n",
        "#XG_pred.to_csv(\"XG_47.csv\",index=False)"
      ]
    },
    {
      "cell_type": "code",
      "source": [
        "#--------------Experiment\n",
        "#import xgboost as xg\n",
        "#mod = xg.XGBRFRegressor()\n",
        "\n",
        "#mod = mod.fit(X_train, y_train)\n",
        "#rmse=mod.predict(X_test)\n",
        "#predictions = mod.predict(X_tst)\n",
        "#from sklearn.metrics import mean_squared_error\n",
        "# rmse\n",
        "#print('RMSE:', np.sqrt(mean_squared_error(y_test, rmse)))"
      ],
      "metadata": {
        "id": "9KRp2M3YH8zu"
      },
      "execution_count": null,
      "outputs": []
    },
    {
      "cell_type": "code",
      "source": [
        "#import sklearn.metrics\n",
        "#from sklearn.model_selection import RandomizedSearchCV\n",
        "#param={\"max_depth\" : list(range(30)),\"n_estimators\" : list(range(200)),\"reg_lambda\" : list(range(0,5))}\n",
        "#clf=RandomizedSearchCV(mod,param,cv=3,scoring=\"neg_root_mean_squared_error\")\n",
        "#clf.fit(X,Y)"
      ],
      "metadata": {
        "id": "p6M4GPxmI6R7"
      },
      "execution_count": null,
      "outputs": []
    },
    {
      "cell_type": "code",
      "source": [
        "#print(clf.best_params_)\n",
        "\n",
        "#print(clf.best_score_)"
      ],
      "metadata": {
        "id": "GK9EWf5oJK4l"
      },
      "execution_count": null,
      "outputs": []
    },
    {
      "cell_type": "code",
      "source": [
        "#XG_pred=pd.DataFrame(predictions)\n",
        "#XG_pred.rename(columns = {0:'calculated_total_amount'}, inplace = True)\n",
        "#print(XG_pred.columns)\n",
        "#XG_pred.to_csv(\"XG_63.csv\",index=False)"
      ],
      "metadata": {
        "id": "AdzGxnjrH_Xm"
      },
      "execution_count": null,
      "outputs": []
    },
    {
      "cell_type": "code",
      "execution_count": null,
      "metadata": {
        "id": "o56isnZHN7xR"
      },
      "outputs": [],
      "source": [
        "#-----------------SVM----------------------#"
      ]
    },
    {
      "cell_type": "code",
      "source": [
        "#from sklearn.preprocessing import MinMaxScaler\n",
        "#scaling = MinMaxScaler(feature_range=(-1,1)).fit(X_train)\n",
        "#X_train = scaling.transform(X_train)\n",
        "#X_test = scaling.transform(X_test)\n",
        "#y_train = scaling.transform(y_train)"
      ],
      "metadata": {
        "id": "Sv3o9UMMTpY4"
      },
      "execution_count": null,
      "outputs": []
    },
    {
      "cell_type": "code",
      "execution_count": null,
      "metadata": {
        "id": "egZ9xB-qN_be"
      },
      "outputs": [],
      "source": [
        "#from sklearn import preprocessing\n",
        "#from sklearn.svm import SVC\n",
        "#classifier = SVC()\n",
        "#lab_enc = preprocessing.LabelEncoder()\n",
        "#X_train.iloc[:,2]=lab_enc.fit_transform(X_train.iloc[:, 2])\n",
        "#y_train=lab_enc.fit_transform(y_train)\n",
        "#Y= lab_enc.fit_transform(Y)\n",
        "#classifier.fit(X_train,y_train)"
      ]
    },
    {
      "cell_type": "code",
      "execution_count": null,
      "metadata": {
        "id": "WH2quFK2Q_Wf"
      },
      "outputs": [],
      "source": [
        "#y_pred_svm = classifier.predict(X_tst)\n",
        "#svm_rmse=classifier.predict(X_test)"
      ]
    },
    {
      "cell_type": "code",
      "execution_count": null,
      "metadata": {
        "id": "gPhV-K2yXFgU"
      },
      "outputs": [],
      "source": [
        "#from sklearn.metrics import mean_squared_error\n",
        "#print(\"RMSE : \", np.sqrt(mean_squared_error(y_test,svm_rmse)))"
      ]
    },
    {
      "cell_type": "code",
      "execution_count": null,
      "metadata": {
        "id": "s9tH-kaEaCLs"
      },
      "outputs": [],
      "source": [
        "#SVM_pred=pd.DataFrame(y_pred_svm)\n",
        "#SVM_pred.to_csv(\"SVM.csv\",index=False)"
      ]
    },
    {
      "cell_type": "code",
      "execution_count": null,
      "metadata": {
        "id": "71fBqiPwx59s"
      },
      "outputs": [],
      "source": [
        "#---------Polynomial Regression---------#"
      ]
    },
    {
      "cell_type": "code",
      "execution_count": null,
      "metadata": {
        "id": "K3a-bCRyx-tm"
      },
      "outputs": [],
      "source": [
        "#from sklearn.preprocessing import PolynomialFeatures\n",
        "  \n",
        "#poly = PolynomialFeatures(degree = 4)\n",
        "#poly.fit(X,Y)"
      ]
    },
    {
      "cell_type": "code",
      "execution_count": null,
      "metadata": {
        "id": "Fn4E8FkmyMck"
      },
      "outputs": [],
      "source": [
        "#y_pred_poly = poly.predict(X_tst)\n",
        "#poly_rmse=poly.predict(X_test)"
      ]
    },
    {
      "cell_type": "code",
      "source": [
        "#Poly_pred=pd.DataFrame(y_pred_poly)\n",
        "#Poly_pred.to_csv(\"Poly.csv\",index=False)"
      ],
      "metadata": {
        "id": "XnCgW7aA7HCr"
      },
      "execution_count": null,
      "outputs": []
    },
    {
      "cell_type": "code",
      "source": [
        "#-----------Quantile Regression--------------#"
      ],
      "metadata": {
        "id": "QwTdGLrPGy0W"
      },
      "execution_count": null,
      "outputs": []
    },
    {
      "cell_type": "code",
      "source": [
        "#import statsmodels.api as sm\n",
        "#import statsmodels.formula.api as smf"
      ],
      "metadata": {
        "id": "7qfJ-_lNG1zf"
      },
      "execution_count": null,
      "outputs": []
    },
    {
      "cell_type": "code",
      "source": [
        "# fit the model\n",
        "#model = smf.quantreg(\"\")\n",
        "#model.fit(X_train,y_train)"
      ],
      "metadata": {
        "id": "SYAgDuFlHC-V"
      },
      "execution_count": null,
      "outputs": []
    },
    {
      "cell_type": "code",
      "source": [],
      "metadata": {
        "id": "Thsp6KR-MSg3"
      },
      "execution_count": null,
      "outputs": []
    }
  ],
  "metadata": {
    "colab": {
      "collapsed_sections": [],
      "provenance": [],
      "mount_file_id": "1taW8Wr-SLMqzVLG6x6jui-Q2skmfzZhM",
      "authorship_tag": "ABX9TyN9nFbEi4FSf26g8adzXUkd",
      "include_colab_link": true
    },
    "gpuClass": "standard",
    "kernelspec": {
      "display_name": "Python 3",
      "name": "python3"
    },
    "language_info": {
      "name": "python"
    }
  },
  "nbformat": 4,
  "nbformat_minor": 0
}