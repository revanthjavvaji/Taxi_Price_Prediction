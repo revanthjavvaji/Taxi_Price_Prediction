{
  "cells": [
    {
      "cell_type": "markdown",
      "metadata": {
        "id": "view-in-github",
        "colab_type": "text"
      },
      "source": [
        "<a href=\"https://colab.research.google.com/github/revanthjavvaji/Taxi_Price_Prediction/blob/main/Taxi_Hackathon.ipynb\" target=\"_parent\"><img src=\"https://colab.research.google.com/assets/colab-badge.svg\" alt=\"Open In Colab\"/></a>"
      ]
    },
    {
      "cell_type": "code",
      "execution_count": 40,
      "metadata": {
        "id": "TV7zfdfZCSKk"
      },
      "outputs": [],
      "source": [
        "import numpy as np\n",
        "import pandas as pd "
      ]
    },
    {
      "cell_type": "code",
      "execution_count": 41,
      "metadata": {
        "id": "-9czIceWCcHs"
      },
      "outputs": [],
      "source": [
        "train_data=pd.read_csv(\"/content/train.csv\")\n",
        "test_data=pd.read_csv(\"/content/test.csv\")"
      ]
    },
    {
      "cell_type": "code",
      "execution_count": 42,
      "metadata": {
        "colab": {
          "base_uri": "https://localhost:8080/",
          "height": 270
        },
        "id": "9vBjKxp1C2rV",
        "outputId": "90ff35b5-4014-45de-f8ef-cdc91b22eaa1"
      },
      "outputs": [
        {
          "output_type": "execute_result",
          "data": {
            "text/plain": [
              "   trip_distance  rate_code store_and_fwd_flag  payment_type  fare_amount  \\\n",
              "0           9.01          1                  N             1         26.0   \n",
              "1           0.20          1                  N             1          3.0   \n",
              "2           9.65          1                  N             1         41.5   \n",
              "3           9.50          1                  N             1         30.0   \n",
              "4           5.80          1                  N             1         21.5   \n",
              "\n",
              "   extra  mta_tax  tip_amount  tolls_amount  imp_surcharge  total_amount  \\\n",
              "0    0.0      0.5        8.14          5.76            0.3         40.70   \n",
              "1    0.0      0.5        0.75          0.00            0.3          4.55   \n",
              "2    0.0      0.5        9.61          5.76            0.3         57.67   \n",
              "3    0.5      0.5        9.25          5.76            0.3         46.31   \n",
              "4    0.5      0.5        4.56          0.00            0.3         27.36   \n",
              "\n",
              "   pickup_location_id  dropoff_location_id  year  month  day  day_of_week  \\\n",
              "0                 262                  138  2018      3    7            2   \n",
              "1                 263                  236  2018      2   25            6   \n",
              "2                 138                  230  2018      1   29            0   \n",
              "3                 186                  138  2018      9   25            1   \n",
              "4                 162                   87  2018      8   20            0   \n",
              "\n",
              "   hour_of_day  trip_duration  calculated_total_amount  \n",
              "0            6         2131.0                    24.30  \n",
              "1           10         2377.0                    37.40  \n",
              "2            8         1286.0                    30.36  \n",
              "3           20         2586.0                     4.30  \n",
              "4           21         1575.0                    23.80  "
            ],
            "text/html": [
              "\n",
              "  <div id=\"df-6bde5b68-82e7-4d54-9495-4614ef16369f\">\n",
              "    <div class=\"colab-df-container\">\n",
              "      <div>\n",
              "<style scoped>\n",
              "    .dataframe tbody tr th:only-of-type {\n",
              "        vertical-align: middle;\n",
              "    }\n",
              "\n",
              "    .dataframe tbody tr th {\n",
              "        vertical-align: top;\n",
              "    }\n",
              "\n",
              "    .dataframe thead th {\n",
              "        text-align: right;\n",
              "    }\n",
              "</style>\n",
              "<table border=\"1\" class=\"dataframe\">\n",
              "  <thead>\n",
              "    <tr style=\"text-align: right;\">\n",
              "      <th></th>\n",
              "      <th>trip_distance</th>\n",
              "      <th>rate_code</th>\n",
              "      <th>store_and_fwd_flag</th>\n",
              "      <th>payment_type</th>\n",
              "      <th>fare_amount</th>\n",
              "      <th>extra</th>\n",
              "      <th>mta_tax</th>\n",
              "      <th>tip_amount</th>\n",
              "      <th>tolls_amount</th>\n",
              "      <th>imp_surcharge</th>\n",
              "      <th>total_amount</th>\n",
              "      <th>pickup_location_id</th>\n",
              "      <th>dropoff_location_id</th>\n",
              "      <th>year</th>\n",
              "      <th>month</th>\n",
              "      <th>day</th>\n",
              "      <th>day_of_week</th>\n",
              "      <th>hour_of_day</th>\n",
              "      <th>trip_duration</th>\n",
              "      <th>calculated_total_amount</th>\n",
              "    </tr>\n",
              "  </thead>\n",
              "  <tbody>\n",
              "    <tr>\n",
              "      <th>0</th>\n",
              "      <td>9.01</td>\n",
              "      <td>1</td>\n",
              "      <td>N</td>\n",
              "      <td>1</td>\n",
              "      <td>26.0</td>\n",
              "      <td>0.0</td>\n",
              "      <td>0.5</td>\n",
              "      <td>8.14</td>\n",
              "      <td>5.76</td>\n",
              "      <td>0.3</td>\n",
              "      <td>40.70</td>\n",
              "      <td>262</td>\n",
              "      <td>138</td>\n",
              "      <td>2018</td>\n",
              "      <td>3</td>\n",
              "      <td>7</td>\n",
              "      <td>2</td>\n",
              "      <td>6</td>\n",
              "      <td>2131.0</td>\n",
              "      <td>24.30</td>\n",
              "    </tr>\n",
              "    <tr>\n",
              "      <th>1</th>\n",
              "      <td>0.20</td>\n",
              "      <td>1</td>\n",
              "      <td>N</td>\n",
              "      <td>1</td>\n",
              "      <td>3.0</td>\n",
              "      <td>0.0</td>\n",
              "      <td>0.5</td>\n",
              "      <td>0.75</td>\n",
              "      <td>0.00</td>\n",
              "      <td>0.3</td>\n",
              "      <td>4.55</td>\n",
              "      <td>263</td>\n",
              "      <td>236</td>\n",
              "      <td>2018</td>\n",
              "      <td>2</td>\n",
              "      <td>25</td>\n",
              "      <td>6</td>\n",
              "      <td>10</td>\n",
              "      <td>2377.0</td>\n",
              "      <td>37.40</td>\n",
              "    </tr>\n",
              "    <tr>\n",
              "      <th>2</th>\n",
              "      <td>9.65</td>\n",
              "      <td>1</td>\n",
              "      <td>N</td>\n",
              "      <td>1</td>\n",
              "      <td>41.5</td>\n",
              "      <td>0.0</td>\n",
              "      <td>0.5</td>\n",
              "      <td>9.61</td>\n",
              "      <td>5.76</td>\n",
              "      <td>0.3</td>\n",
              "      <td>57.67</td>\n",
              "      <td>138</td>\n",
              "      <td>230</td>\n",
              "      <td>2018</td>\n",
              "      <td>1</td>\n",
              "      <td>29</td>\n",
              "      <td>0</td>\n",
              "      <td>8</td>\n",
              "      <td>1286.0</td>\n",
              "      <td>30.36</td>\n",
              "    </tr>\n",
              "    <tr>\n",
              "      <th>3</th>\n",
              "      <td>9.50</td>\n",
              "      <td>1</td>\n",
              "      <td>N</td>\n",
              "      <td>1</td>\n",
              "      <td>30.0</td>\n",
              "      <td>0.5</td>\n",
              "      <td>0.5</td>\n",
              "      <td>9.25</td>\n",
              "      <td>5.76</td>\n",
              "      <td>0.3</td>\n",
              "      <td>46.31</td>\n",
              "      <td>186</td>\n",
              "      <td>138</td>\n",
              "      <td>2018</td>\n",
              "      <td>9</td>\n",
              "      <td>25</td>\n",
              "      <td>1</td>\n",
              "      <td>20</td>\n",
              "      <td>2586.0</td>\n",
              "      <td>4.30</td>\n",
              "    </tr>\n",
              "    <tr>\n",
              "      <th>4</th>\n",
              "      <td>5.80</td>\n",
              "      <td>1</td>\n",
              "      <td>N</td>\n",
              "      <td>1</td>\n",
              "      <td>21.5</td>\n",
              "      <td>0.5</td>\n",
              "      <td>0.5</td>\n",
              "      <td>4.56</td>\n",
              "      <td>0.00</td>\n",
              "      <td>0.3</td>\n",
              "      <td>27.36</td>\n",
              "      <td>162</td>\n",
              "      <td>87</td>\n",
              "      <td>2018</td>\n",
              "      <td>8</td>\n",
              "      <td>20</td>\n",
              "      <td>0</td>\n",
              "      <td>21</td>\n",
              "      <td>1575.0</td>\n",
              "      <td>23.80</td>\n",
              "    </tr>\n",
              "  </tbody>\n",
              "</table>\n",
              "</div>\n",
              "      <button class=\"colab-df-convert\" onclick=\"convertToInteractive('df-6bde5b68-82e7-4d54-9495-4614ef16369f')\"\n",
              "              title=\"Convert this dataframe to an interactive table.\"\n",
              "              style=\"display:none;\">\n",
              "        \n",
              "  <svg xmlns=\"http://www.w3.org/2000/svg\" height=\"24px\"viewBox=\"0 0 24 24\"\n",
              "       width=\"24px\">\n",
              "    <path d=\"M0 0h24v24H0V0z\" fill=\"none\"/>\n",
              "    <path d=\"M18.56 5.44l.94 2.06.94-2.06 2.06-.94-2.06-.94-.94-2.06-.94 2.06-2.06.94zm-11 1L8.5 8.5l.94-2.06 2.06-.94-2.06-.94L8.5 2.5l-.94 2.06-2.06.94zm10 10l.94 2.06.94-2.06 2.06-.94-2.06-.94-.94-2.06-.94 2.06-2.06.94z\"/><path d=\"M17.41 7.96l-1.37-1.37c-.4-.4-.92-.59-1.43-.59-.52 0-1.04.2-1.43.59L10.3 9.45l-7.72 7.72c-.78.78-.78 2.05 0 2.83L4 21.41c.39.39.9.59 1.41.59.51 0 1.02-.2 1.41-.59l7.78-7.78 2.81-2.81c.8-.78.8-2.07 0-2.86zM5.41 20L4 18.59l7.72-7.72 1.47 1.35L5.41 20z\"/>\n",
              "  </svg>\n",
              "      </button>\n",
              "      \n",
              "  <style>\n",
              "    .colab-df-container {\n",
              "      display:flex;\n",
              "      flex-wrap:wrap;\n",
              "      gap: 12px;\n",
              "    }\n",
              "\n",
              "    .colab-df-convert {\n",
              "      background-color: #E8F0FE;\n",
              "      border: none;\n",
              "      border-radius: 50%;\n",
              "      cursor: pointer;\n",
              "      display: none;\n",
              "      fill: #1967D2;\n",
              "      height: 32px;\n",
              "      padding: 0 0 0 0;\n",
              "      width: 32px;\n",
              "    }\n",
              "\n",
              "    .colab-df-convert:hover {\n",
              "      background-color: #E2EBFA;\n",
              "      box-shadow: 0px 1px 2px rgba(60, 64, 67, 0.3), 0px 1px 3px 1px rgba(60, 64, 67, 0.15);\n",
              "      fill: #174EA6;\n",
              "    }\n",
              "\n",
              "    [theme=dark] .colab-df-convert {\n",
              "      background-color: #3B4455;\n",
              "      fill: #D2E3FC;\n",
              "    }\n",
              "\n",
              "    [theme=dark] .colab-df-convert:hover {\n",
              "      background-color: #434B5C;\n",
              "      box-shadow: 0px 1px 3px 1px rgba(0, 0, 0, 0.15);\n",
              "      filter: drop-shadow(0px 1px 2px rgba(0, 0, 0, 0.3));\n",
              "      fill: #FFFFFF;\n",
              "    }\n",
              "  </style>\n",
              "\n",
              "      <script>\n",
              "        const buttonEl =\n",
              "          document.querySelector('#df-6bde5b68-82e7-4d54-9495-4614ef16369f button.colab-df-convert');\n",
              "        buttonEl.style.display =\n",
              "          google.colab.kernel.accessAllowed ? 'block' : 'none';\n",
              "\n",
              "        async function convertToInteractive(key) {\n",
              "          const element = document.querySelector('#df-6bde5b68-82e7-4d54-9495-4614ef16369f');\n",
              "          const dataTable =\n",
              "            await google.colab.kernel.invokeFunction('convertToInteractive',\n",
              "                                                     [key], {});\n",
              "          if (!dataTable) return;\n",
              "\n",
              "          const docLinkHtml = 'Like what you see? Visit the ' +\n",
              "            '<a target=\"_blank\" href=https://colab.research.google.com/notebooks/data_table.ipynb>data table notebook</a>'\n",
              "            + ' to learn more about interactive tables.';\n",
              "          element.innerHTML = '';\n",
              "          dataTable['output_type'] = 'display_data';\n",
              "          await google.colab.output.renderOutput(dataTable, element);\n",
              "          const docLink = document.createElement('div');\n",
              "          docLink.innerHTML = docLinkHtml;\n",
              "          element.appendChild(docLink);\n",
              "        }\n",
              "      </script>\n",
              "    </div>\n",
              "  </div>\n",
              "  "
            ]
          },
          "metadata": {},
          "execution_count": 42
        }
      ],
      "source": [
        "train_data.head()"
      ]
    },
    {
      "cell_type": "code",
      "execution_count": 43,
      "metadata": {
        "colab": {
          "base_uri": "https://localhost:8080/",
          "height": 270
        },
        "id": "pbF4lPgQC2ux",
        "outputId": "f144aa87-f8eb-4da6-bdcd-bfb684ed39f5"
      },
      "outputs": [
        {
          "output_type": "execute_result",
          "data": {
            "text/plain": [
              "   trip_distance  rate_code store_and_fwd_flag  payment_type  fare_amount  \\\n",
              "0          15.70          1                  N             2         45.0   \n",
              "1           7.30          1                  N             1         25.5   \n",
              "2          14.87          1                  N             1         40.5   \n",
              "3           2.90          1                  N             2         22.0   \n",
              "4           8.96          1                  N             1         32.0   \n",
              "\n",
              "   extra  mta_tax  tip_amount  tolls_amount  imp_surcharge  total_amount  \\\n",
              "0    0.0      0.5        0.00          0.00            0.3         45.80   \n",
              "1    0.0      0.5        7.89          0.00            0.3         34.19   \n",
              "2    0.5      0.5        8.36          0.00            0.3         50.16   \n",
              "3    0.0      0.5        0.00          0.00            0.3         22.80   \n",
              "4    0.0      0.5        0.00          5.76            0.3         38.56   \n",
              "\n",
              "   pickup_location_id  dropoff_location_id  year  month  day  day_of_week  \\\n",
              "0                 132                  146  2018     10   20            5   \n",
              "1                 186                   69  2018      2   24            5   \n",
              "2                 138                   89  2018      9   11            1   \n",
              "3                  90                  162  2018      6    7            3   \n",
              "4                 138                  186  2018      4   20            4   \n",
              "\n",
              "   hour_of_day  trip_duration  \n",
              "0           16         3967.0  \n",
              "1           15         1491.0  \n",
              "2           22         1395.0  \n",
              "3           11         1742.0  \n",
              "4           10         1623.0  "
            ],
            "text/html": [
              "\n",
              "  <div id=\"df-5e1faed0-ff73-446b-b347-56b34ae05e22\">\n",
              "    <div class=\"colab-df-container\">\n",
              "      <div>\n",
              "<style scoped>\n",
              "    .dataframe tbody tr th:only-of-type {\n",
              "        vertical-align: middle;\n",
              "    }\n",
              "\n",
              "    .dataframe tbody tr th {\n",
              "        vertical-align: top;\n",
              "    }\n",
              "\n",
              "    .dataframe thead th {\n",
              "        text-align: right;\n",
              "    }\n",
              "</style>\n",
              "<table border=\"1\" class=\"dataframe\">\n",
              "  <thead>\n",
              "    <tr style=\"text-align: right;\">\n",
              "      <th></th>\n",
              "      <th>trip_distance</th>\n",
              "      <th>rate_code</th>\n",
              "      <th>store_and_fwd_flag</th>\n",
              "      <th>payment_type</th>\n",
              "      <th>fare_amount</th>\n",
              "      <th>extra</th>\n",
              "      <th>mta_tax</th>\n",
              "      <th>tip_amount</th>\n",
              "      <th>tolls_amount</th>\n",
              "      <th>imp_surcharge</th>\n",
              "      <th>total_amount</th>\n",
              "      <th>pickup_location_id</th>\n",
              "      <th>dropoff_location_id</th>\n",
              "      <th>year</th>\n",
              "      <th>month</th>\n",
              "      <th>day</th>\n",
              "      <th>day_of_week</th>\n",
              "      <th>hour_of_day</th>\n",
              "      <th>trip_duration</th>\n",
              "    </tr>\n",
              "  </thead>\n",
              "  <tbody>\n",
              "    <tr>\n",
              "      <th>0</th>\n",
              "      <td>15.70</td>\n",
              "      <td>1</td>\n",
              "      <td>N</td>\n",
              "      <td>2</td>\n",
              "      <td>45.0</td>\n",
              "      <td>0.0</td>\n",
              "      <td>0.5</td>\n",
              "      <td>0.00</td>\n",
              "      <td>0.00</td>\n",
              "      <td>0.3</td>\n",
              "      <td>45.80</td>\n",
              "      <td>132</td>\n",
              "      <td>146</td>\n",
              "      <td>2018</td>\n",
              "      <td>10</td>\n",
              "      <td>20</td>\n",
              "      <td>5</td>\n",
              "      <td>16</td>\n",
              "      <td>3967.0</td>\n",
              "    </tr>\n",
              "    <tr>\n",
              "      <th>1</th>\n",
              "      <td>7.30</td>\n",
              "      <td>1</td>\n",
              "      <td>N</td>\n",
              "      <td>1</td>\n",
              "      <td>25.5</td>\n",
              "      <td>0.0</td>\n",
              "      <td>0.5</td>\n",
              "      <td>7.89</td>\n",
              "      <td>0.00</td>\n",
              "      <td>0.3</td>\n",
              "      <td>34.19</td>\n",
              "      <td>186</td>\n",
              "      <td>69</td>\n",
              "      <td>2018</td>\n",
              "      <td>2</td>\n",
              "      <td>24</td>\n",
              "      <td>5</td>\n",
              "      <td>15</td>\n",
              "      <td>1491.0</td>\n",
              "    </tr>\n",
              "    <tr>\n",
              "      <th>2</th>\n",
              "      <td>14.87</td>\n",
              "      <td>1</td>\n",
              "      <td>N</td>\n",
              "      <td>1</td>\n",
              "      <td>40.5</td>\n",
              "      <td>0.5</td>\n",
              "      <td>0.5</td>\n",
              "      <td>8.36</td>\n",
              "      <td>0.00</td>\n",
              "      <td>0.3</td>\n",
              "      <td>50.16</td>\n",
              "      <td>138</td>\n",
              "      <td>89</td>\n",
              "      <td>2018</td>\n",
              "      <td>9</td>\n",
              "      <td>11</td>\n",
              "      <td>1</td>\n",
              "      <td>22</td>\n",
              "      <td>1395.0</td>\n",
              "    </tr>\n",
              "    <tr>\n",
              "      <th>3</th>\n",
              "      <td>2.90</td>\n",
              "      <td>1</td>\n",
              "      <td>N</td>\n",
              "      <td>2</td>\n",
              "      <td>22.0</td>\n",
              "      <td>0.0</td>\n",
              "      <td>0.5</td>\n",
              "      <td>0.00</td>\n",
              "      <td>0.00</td>\n",
              "      <td>0.3</td>\n",
              "      <td>22.80</td>\n",
              "      <td>90</td>\n",
              "      <td>162</td>\n",
              "      <td>2018</td>\n",
              "      <td>6</td>\n",
              "      <td>7</td>\n",
              "      <td>3</td>\n",
              "      <td>11</td>\n",
              "      <td>1742.0</td>\n",
              "    </tr>\n",
              "    <tr>\n",
              "      <th>4</th>\n",
              "      <td>8.96</td>\n",
              "      <td>1</td>\n",
              "      <td>N</td>\n",
              "      <td>1</td>\n",
              "      <td>32.0</td>\n",
              "      <td>0.0</td>\n",
              "      <td>0.5</td>\n",
              "      <td>0.00</td>\n",
              "      <td>5.76</td>\n",
              "      <td>0.3</td>\n",
              "      <td>38.56</td>\n",
              "      <td>138</td>\n",
              "      <td>186</td>\n",
              "      <td>2018</td>\n",
              "      <td>4</td>\n",
              "      <td>20</td>\n",
              "      <td>4</td>\n",
              "      <td>10</td>\n",
              "      <td>1623.0</td>\n",
              "    </tr>\n",
              "  </tbody>\n",
              "</table>\n",
              "</div>\n",
              "      <button class=\"colab-df-convert\" onclick=\"convertToInteractive('df-5e1faed0-ff73-446b-b347-56b34ae05e22')\"\n",
              "              title=\"Convert this dataframe to an interactive table.\"\n",
              "              style=\"display:none;\">\n",
              "        \n",
              "  <svg xmlns=\"http://www.w3.org/2000/svg\" height=\"24px\"viewBox=\"0 0 24 24\"\n",
              "       width=\"24px\">\n",
              "    <path d=\"M0 0h24v24H0V0z\" fill=\"none\"/>\n",
              "    <path d=\"M18.56 5.44l.94 2.06.94-2.06 2.06-.94-2.06-.94-.94-2.06-.94 2.06-2.06.94zm-11 1L8.5 8.5l.94-2.06 2.06-.94-2.06-.94L8.5 2.5l-.94 2.06-2.06.94zm10 10l.94 2.06.94-2.06 2.06-.94-2.06-.94-.94-2.06-.94 2.06-2.06.94z\"/><path d=\"M17.41 7.96l-1.37-1.37c-.4-.4-.92-.59-1.43-.59-.52 0-1.04.2-1.43.59L10.3 9.45l-7.72 7.72c-.78.78-.78 2.05 0 2.83L4 21.41c.39.39.9.59 1.41.59.51 0 1.02-.2 1.41-.59l7.78-7.78 2.81-2.81c.8-.78.8-2.07 0-2.86zM5.41 20L4 18.59l7.72-7.72 1.47 1.35L5.41 20z\"/>\n",
              "  </svg>\n",
              "      </button>\n",
              "      \n",
              "  <style>\n",
              "    .colab-df-container {\n",
              "      display:flex;\n",
              "      flex-wrap:wrap;\n",
              "      gap: 12px;\n",
              "    }\n",
              "\n",
              "    .colab-df-convert {\n",
              "      background-color: #E8F0FE;\n",
              "      border: none;\n",
              "      border-radius: 50%;\n",
              "      cursor: pointer;\n",
              "      display: none;\n",
              "      fill: #1967D2;\n",
              "      height: 32px;\n",
              "      padding: 0 0 0 0;\n",
              "      width: 32px;\n",
              "    }\n",
              "\n",
              "    .colab-df-convert:hover {\n",
              "      background-color: #E2EBFA;\n",
              "      box-shadow: 0px 1px 2px rgba(60, 64, 67, 0.3), 0px 1px 3px 1px rgba(60, 64, 67, 0.15);\n",
              "      fill: #174EA6;\n",
              "    }\n",
              "\n",
              "    [theme=dark] .colab-df-convert {\n",
              "      background-color: #3B4455;\n",
              "      fill: #D2E3FC;\n",
              "    }\n",
              "\n",
              "    [theme=dark] .colab-df-convert:hover {\n",
              "      background-color: #434B5C;\n",
              "      box-shadow: 0px 1px 3px 1px rgba(0, 0, 0, 0.15);\n",
              "      filter: drop-shadow(0px 1px 2px rgba(0, 0, 0, 0.3));\n",
              "      fill: #FFFFFF;\n",
              "    }\n",
              "  </style>\n",
              "\n",
              "      <script>\n",
              "        const buttonEl =\n",
              "          document.querySelector('#df-5e1faed0-ff73-446b-b347-56b34ae05e22 button.colab-df-convert');\n",
              "        buttonEl.style.display =\n",
              "          google.colab.kernel.accessAllowed ? 'block' : 'none';\n",
              "\n",
              "        async function convertToInteractive(key) {\n",
              "          const element = document.querySelector('#df-5e1faed0-ff73-446b-b347-56b34ae05e22');\n",
              "          const dataTable =\n",
              "            await google.colab.kernel.invokeFunction('convertToInteractive',\n",
              "                                                     [key], {});\n",
              "          if (!dataTable) return;\n",
              "\n",
              "          const docLinkHtml = 'Like what you see? Visit the ' +\n",
              "            '<a target=\"_blank\" href=https://colab.research.google.com/notebooks/data_table.ipynb>data table notebook</a>'\n",
              "            + ' to learn more about interactive tables.';\n",
              "          element.innerHTML = '';\n",
              "          dataTable['output_type'] = 'display_data';\n",
              "          await google.colab.output.renderOutput(dataTable, element);\n",
              "          const docLink = document.createElement('div');\n",
              "          docLink.innerHTML = docLinkHtml;\n",
              "          element.appendChild(docLink);\n",
              "        }\n",
              "      </script>\n",
              "    </div>\n",
              "  </div>\n",
              "  "
            ]
          },
          "metadata": {},
          "execution_count": 43
        }
      ],
      "source": [
        "test_data.head()"
      ]
    },
    {
      "cell_type": "code",
      "execution_count": 44,
      "metadata": {
        "colab": {
          "base_uri": "https://localhost:8080/"
        },
        "id": "MtDZ3riFDDLz",
        "outputId": "dfbd84d2-ed73-4139-c041-52884e0e682a"
      },
      "outputs": [
        {
          "output_type": "stream",
          "name": "stdout",
          "text": [
            "(35000, 20)\n"
          ]
        }
      ],
      "source": [
        "print(train_data.shape)"
      ]
    },
    {
      "cell_type": "code",
      "execution_count": 45,
      "metadata": {
        "colab": {
          "base_uri": "https://localhost:8080/"
        },
        "id": "--HrtphgDDPR",
        "outputId": "5e1b86a3-f2a9-4f1b-a320-3e1d171298a2"
      },
      "outputs": [
        {
          "output_type": "stream",
          "name": "stdout",
          "text": [
            "(15000, 19)\n"
          ]
        }
      ],
      "source": [
        "print(test_data.shape)"
      ]
    },
    {
      "cell_type": "code",
      "source": [
        "X=train_data.drop([\"calculated_total_amount\"],axis=1,inplace=False) ##Input\n",
        "X.head()"
      ],
      "metadata": {
        "colab": {
          "base_uri": "https://localhost:8080/",
          "height": 270
        },
        "id": "Wlg6uLaj7Xtk",
        "outputId": "d76a9337-f99c-414f-a43b-e3bc78b74d27"
      },
      "execution_count": 46,
      "outputs": [
        {
          "output_type": "execute_result",
          "data": {
            "text/plain": [
              "   trip_distance  rate_code store_and_fwd_flag  payment_type  fare_amount  \\\n",
              "0           9.01          1                  N             1         26.0   \n",
              "1           0.20          1                  N             1          3.0   \n",
              "2           9.65          1                  N             1         41.5   \n",
              "3           9.50          1                  N             1         30.0   \n",
              "4           5.80          1                  N             1         21.5   \n",
              "\n",
              "   extra  mta_tax  tip_amount  tolls_amount  imp_surcharge  total_amount  \\\n",
              "0    0.0      0.5        8.14          5.76            0.3         40.70   \n",
              "1    0.0      0.5        0.75          0.00            0.3          4.55   \n",
              "2    0.0      0.5        9.61          5.76            0.3         57.67   \n",
              "3    0.5      0.5        9.25          5.76            0.3         46.31   \n",
              "4    0.5      0.5        4.56          0.00            0.3         27.36   \n",
              "\n",
              "   pickup_location_id  dropoff_location_id  year  month  day  day_of_week  \\\n",
              "0                 262                  138  2018      3    7            2   \n",
              "1                 263                  236  2018      2   25            6   \n",
              "2                 138                  230  2018      1   29            0   \n",
              "3                 186                  138  2018      9   25            1   \n",
              "4                 162                   87  2018      8   20            0   \n",
              "\n",
              "   hour_of_day  trip_duration  \n",
              "0            6         2131.0  \n",
              "1           10         2377.0  \n",
              "2            8         1286.0  \n",
              "3           20         2586.0  \n",
              "4           21         1575.0  "
            ],
            "text/html": [
              "\n",
              "  <div id=\"df-c613e5ef-800c-42b6-b51c-eb8a37feeb3e\">\n",
              "    <div class=\"colab-df-container\">\n",
              "      <div>\n",
              "<style scoped>\n",
              "    .dataframe tbody tr th:only-of-type {\n",
              "        vertical-align: middle;\n",
              "    }\n",
              "\n",
              "    .dataframe tbody tr th {\n",
              "        vertical-align: top;\n",
              "    }\n",
              "\n",
              "    .dataframe thead th {\n",
              "        text-align: right;\n",
              "    }\n",
              "</style>\n",
              "<table border=\"1\" class=\"dataframe\">\n",
              "  <thead>\n",
              "    <tr style=\"text-align: right;\">\n",
              "      <th></th>\n",
              "      <th>trip_distance</th>\n",
              "      <th>rate_code</th>\n",
              "      <th>store_and_fwd_flag</th>\n",
              "      <th>payment_type</th>\n",
              "      <th>fare_amount</th>\n",
              "      <th>extra</th>\n",
              "      <th>mta_tax</th>\n",
              "      <th>tip_amount</th>\n",
              "      <th>tolls_amount</th>\n",
              "      <th>imp_surcharge</th>\n",
              "      <th>total_amount</th>\n",
              "      <th>pickup_location_id</th>\n",
              "      <th>dropoff_location_id</th>\n",
              "      <th>year</th>\n",
              "      <th>month</th>\n",
              "      <th>day</th>\n",
              "      <th>day_of_week</th>\n",
              "      <th>hour_of_day</th>\n",
              "      <th>trip_duration</th>\n",
              "    </tr>\n",
              "  </thead>\n",
              "  <tbody>\n",
              "    <tr>\n",
              "      <th>0</th>\n",
              "      <td>9.01</td>\n",
              "      <td>1</td>\n",
              "      <td>N</td>\n",
              "      <td>1</td>\n",
              "      <td>26.0</td>\n",
              "      <td>0.0</td>\n",
              "      <td>0.5</td>\n",
              "      <td>8.14</td>\n",
              "      <td>5.76</td>\n",
              "      <td>0.3</td>\n",
              "      <td>40.70</td>\n",
              "      <td>262</td>\n",
              "      <td>138</td>\n",
              "      <td>2018</td>\n",
              "      <td>3</td>\n",
              "      <td>7</td>\n",
              "      <td>2</td>\n",
              "      <td>6</td>\n",
              "      <td>2131.0</td>\n",
              "    </tr>\n",
              "    <tr>\n",
              "      <th>1</th>\n",
              "      <td>0.20</td>\n",
              "      <td>1</td>\n",
              "      <td>N</td>\n",
              "      <td>1</td>\n",
              "      <td>3.0</td>\n",
              "      <td>0.0</td>\n",
              "      <td>0.5</td>\n",
              "      <td>0.75</td>\n",
              "      <td>0.00</td>\n",
              "      <td>0.3</td>\n",
              "      <td>4.55</td>\n",
              "      <td>263</td>\n",
              "      <td>236</td>\n",
              "      <td>2018</td>\n",
              "      <td>2</td>\n",
              "      <td>25</td>\n",
              "      <td>6</td>\n",
              "      <td>10</td>\n",
              "      <td>2377.0</td>\n",
              "    </tr>\n",
              "    <tr>\n",
              "      <th>2</th>\n",
              "      <td>9.65</td>\n",
              "      <td>1</td>\n",
              "      <td>N</td>\n",
              "      <td>1</td>\n",
              "      <td>41.5</td>\n",
              "      <td>0.0</td>\n",
              "      <td>0.5</td>\n",
              "      <td>9.61</td>\n",
              "      <td>5.76</td>\n",
              "      <td>0.3</td>\n",
              "      <td>57.67</td>\n",
              "      <td>138</td>\n",
              "      <td>230</td>\n",
              "      <td>2018</td>\n",
              "      <td>1</td>\n",
              "      <td>29</td>\n",
              "      <td>0</td>\n",
              "      <td>8</td>\n",
              "      <td>1286.0</td>\n",
              "    </tr>\n",
              "    <tr>\n",
              "      <th>3</th>\n",
              "      <td>9.50</td>\n",
              "      <td>1</td>\n",
              "      <td>N</td>\n",
              "      <td>1</td>\n",
              "      <td>30.0</td>\n",
              "      <td>0.5</td>\n",
              "      <td>0.5</td>\n",
              "      <td>9.25</td>\n",
              "      <td>5.76</td>\n",
              "      <td>0.3</td>\n",
              "      <td>46.31</td>\n",
              "      <td>186</td>\n",
              "      <td>138</td>\n",
              "      <td>2018</td>\n",
              "      <td>9</td>\n",
              "      <td>25</td>\n",
              "      <td>1</td>\n",
              "      <td>20</td>\n",
              "      <td>2586.0</td>\n",
              "    </tr>\n",
              "    <tr>\n",
              "      <th>4</th>\n",
              "      <td>5.80</td>\n",
              "      <td>1</td>\n",
              "      <td>N</td>\n",
              "      <td>1</td>\n",
              "      <td>21.5</td>\n",
              "      <td>0.5</td>\n",
              "      <td>0.5</td>\n",
              "      <td>4.56</td>\n",
              "      <td>0.00</td>\n",
              "      <td>0.3</td>\n",
              "      <td>27.36</td>\n",
              "      <td>162</td>\n",
              "      <td>87</td>\n",
              "      <td>2018</td>\n",
              "      <td>8</td>\n",
              "      <td>20</td>\n",
              "      <td>0</td>\n",
              "      <td>21</td>\n",
              "      <td>1575.0</td>\n",
              "    </tr>\n",
              "  </tbody>\n",
              "</table>\n",
              "</div>\n",
              "      <button class=\"colab-df-convert\" onclick=\"convertToInteractive('df-c613e5ef-800c-42b6-b51c-eb8a37feeb3e')\"\n",
              "              title=\"Convert this dataframe to an interactive table.\"\n",
              "              style=\"display:none;\">\n",
              "        \n",
              "  <svg xmlns=\"http://www.w3.org/2000/svg\" height=\"24px\"viewBox=\"0 0 24 24\"\n",
              "       width=\"24px\">\n",
              "    <path d=\"M0 0h24v24H0V0z\" fill=\"none\"/>\n",
              "    <path d=\"M18.56 5.44l.94 2.06.94-2.06 2.06-.94-2.06-.94-.94-2.06-.94 2.06-2.06.94zm-11 1L8.5 8.5l.94-2.06 2.06-.94-2.06-.94L8.5 2.5l-.94 2.06-2.06.94zm10 10l.94 2.06.94-2.06 2.06-.94-2.06-.94-.94-2.06-.94 2.06-2.06.94z\"/><path d=\"M17.41 7.96l-1.37-1.37c-.4-.4-.92-.59-1.43-.59-.52 0-1.04.2-1.43.59L10.3 9.45l-7.72 7.72c-.78.78-.78 2.05 0 2.83L4 21.41c.39.39.9.59 1.41.59.51 0 1.02-.2 1.41-.59l7.78-7.78 2.81-2.81c.8-.78.8-2.07 0-2.86zM5.41 20L4 18.59l7.72-7.72 1.47 1.35L5.41 20z\"/>\n",
              "  </svg>\n",
              "      </button>\n",
              "      \n",
              "  <style>\n",
              "    .colab-df-container {\n",
              "      display:flex;\n",
              "      flex-wrap:wrap;\n",
              "      gap: 12px;\n",
              "    }\n",
              "\n",
              "    .colab-df-convert {\n",
              "      background-color: #E8F0FE;\n",
              "      border: none;\n",
              "      border-radius: 50%;\n",
              "      cursor: pointer;\n",
              "      display: none;\n",
              "      fill: #1967D2;\n",
              "      height: 32px;\n",
              "      padding: 0 0 0 0;\n",
              "      width: 32px;\n",
              "    }\n",
              "\n",
              "    .colab-df-convert:hover {\n",
              "      background-color: #E2EBFA;\n",
              "      box-shadow: 0px 1px 2px rgba(60, 64, 67, 0.3), 0px 1px 3px 1px rgba(60, 64, 67, 0.15);\n",
              "      fill: #174EA6;\n",
              "    }\n",
              "\n",
              "    [theme=dark] .colab-df-convert {\n",
              "      background-color: #3B4455;\n",
              "      fill: #D2E3FC;\n",
              "    }\n",
              "\n",
              "    [theme=dark] .colab-df-convert:hover {\n",
              "      background-color: #434B5C;\n",
              "      box-shadow: 0px 1px 3px 1px rgba(0, 0, 0, 0.15);\n",
              "      filter: drop-shadow(0px 1px 2px rgba(0, 0, 0, 0.3));\n",
              "      fill: #FFFFFF;\n",
              "    }\n",
              "  </style>\n",
              "\n",
              "      <script>\n",
              "        const buttonEl =\n",
              "          document.querySelector('#df-c613e5ef-800c-42b6-b51c-eb8a37feeb3e button.colab-df-convert');\n",
              "        buttonEl.style.display =\n",
              "          google.colab.kernel.accessAllowed ? 'block' : 'none';\n",
              "\n",
              "        async function convertToInteractive(key) {\n",
              "          const element = document.querySelector('#df-c613e5ef-800c-42b6-b51c-eb8a37feeb3e');\n",
              "          const dataTable =\n",
              "            await google.colab.kernel.invokeFunction('convertToInteractive',\n",
              "                                                     [key], {});\n",
              "          if (!dataTable) return;\n",
              "\n",
              "          const docLinkHtml = 'Like what you see? Visit the ' +\n",
              "            '<a target=\"_blank\" href=https://colab.research.google.com/notebooks/data_table.ipynb>data table notebook</a>'\n",
              "            + ' to learn more about interactive tables.';\n",
              "          element.innerHTML = '';\n",
              "          dataTable['output_type'] = 'display_data';\n",
              "          await google.colab.output.renderOutput(dataTable, element);\n",
              "          const docLink = document.createElement('div');\n",
              "          docLink.innerHTML = docLinkHtml;\n",
              "          element.appendChild(docLink);\n",
              "        }\n",
              "      </script>\n",
              "    </div>\n",
              "  </div>\n",
              "  "
            ]
          },
          "metadata": {},
          "execution_count": 46
        }
      ]
    },
    {
      "cell_type": "code",
      "execution_count": 47,
      "metadata": {
        "id": "eDneUbL3rWY4"
      },
      "outputs": [],
      "source": [
        "from sklearn.preprocessing import MinMaxScaler\n",
        "scaler = MinMaxScaler(feature_range=(0, 1))\n",
        "\n",
        "#X_scaled = scaler.fit_transform(X)\n",
        "#X _scaled= pd.DataFrame(X_scaled)"
      ]
    },
    {
      "cell_type": "code",
      "execution_count": 48,
      "metadata": {
        "colab": {
          "base_uri": "https://localhost:8080/",
          "height": 270
        },
        "id": "GwTzwh5-DnSC",
        "outputId": "d782aa70-328c-4686-9782-287433e89796"
      },
      "outputs": [
        {
          "output_type": "execute_result",
          "data": {
            "text/plain": [
              "   trip_distance  rate_code store_and_fwd_flag  payment_type  fare_amount  \\\n",
              "0           9.01          1                  N             1         26.0   \n",
              "1           0.20          1                  N             1          3.0   \n",
              "2           9.65          1                  N             1         41.5   \n",
              "3           9.50          1                  N             1         30.0   \n",
              "4           5.80          1                  N             1         21.5   \n",
              "\n",
              "   extra  mta_tax  tip_amount  tolls_amount  imp_surcharge  total_amount  \\\n",
              "0    0.0      0.5        8.14          5.76            0.3         40.70   \n",
              "1    0.0      0.5        0.75          0.00            0.3          4.55   \n",
              "2    0.0      0.5        9.61          5.76            0.3         57.67   \n",
              "3    0.5      0.5        9.25          5.76            0.3         46.31   \n",
              "4    0.5      0.5        4.56          0.00            0.3         27.36   \n",
              "\n",
              "   pickup_location_id  dropoff_location_id  year  month  day  day_of_week  \\\n",
              "0                 262                  138  2018      3    7            2   \n",
              "1                 263                  236  2018      2   25            6   \n",
              "2                 138                  230  2018      1   29            0   \n",
              "3                 186                  138  2018      9   25            1   \n",
              "4                 162                   87  2018      8   20            0   \n",
              "\n",
              "   hour_of_day  trip_duration  \n",
              "0            6         2131.0  \n",
              "1           10         2377.0  \n",
              "2            8         1286.0  \n",
              "3           20         2586.0  \n",
              "4           21         1575.0  "
            ],
            "text/html": [
              "\n",
              "  <div id=\"df-df10932e-dbea-4ffa-ae66-51599f865dad\">\n",
              "    <div class=\"colab-df-container\">\n",
              "      <div>\n",
              "<style scoped>\n",
              "    .dataframe tbody tr th:only-of-type {\n",
              "        vertical-align: middle;\n",
              "    }\n",
              "\n",
              "    .dataframe tbody tr th {\n",
              "        vertical-align: top;\n",
              "    }\n",
              "\n",
              "    .dataframe thead th {\n",
              "        text-align: right;\n",
              "    }\n",
              "</style>\n",
              "<table border=\"1\" class=\"dataframe\">\n",
              "  <thead>\n",
              "    <tr style=\"text-align: right;\">\n",
              "      <th></th>\n",
              "      <th>trip_distance</th>\n",
              "      <th>rate_code</th>\n",
              "      <th>store_and_fwd_flag</th>\n",
              "      <th>payment_type</th>\n",
              "      <th>fare_amount</th>\n",
              "      <th>extra</th>\n",
              "      <th>mta_tax</th>\n",
              "      <th>tip_amount</th>\n",
              "      <th>tolls_amount</th>\n",
              "      <th>imp_surcharge</th>\n",
              "      <th>total_amount</th>\n",
              "      <th>pickup_location_id</th>\n",
              "      <th>dropoff_location_id</th>\n",
              "      <th>year</th>\n",
              "      <th>month</th>\n",
              "      <th>day</th>\n",
              "      <th>day_of_week</th>\n",
              "      <th>hour_of_day</th>\n",
              "      <th>trip_duration</th>\n",
              "    </tr>\n",
              "  </thead>\n",
              "  <tbody>\n",
              "    <tr>\n",
              "      <th>0</th>\n",
              "      <td>9.01</td>\n",
              "      <td>1</td>\n",
              "      <td>N</td>\n",
              "      <td>1</td>\n",
              "      <td>26.0</td>\n",
              "      <td>0.0</td>\n",
              "      <td>0.5</td>\n",
              "      <td>8.14</td>\n",
              "      <td>5.76</td>\n",
              "      <td>0.3</td>\n",
              "      <td>40.70</td>\n",
              "      <td>262</td>\n",
              "      <td>138</td>\n",
              "      <td>2018</td>\n",
              "      <td>3</td>\n",
              "      <td>7</td>\n",
              "      <td>2</td>\n",
              "      <td>6</td>\n",
              "      <td>2131.0</td>\n",
              "    </tr>\n",
              "    <tr>\n",
              "      <th>1</th>\n",
              "      <td>0.20</td>\n",
              "      <td>1</td>\n",
              "      <td>N</td>\n",
              "      <td>1</td>\n",
              "      <td>3.0</td>\n",
              "      <td>0.0</td>\n",
              "      <td>0.5</td>\n",
              "      <td>0.75</td>\n",
              "      <td>0.00</td>\n",
              "      <td>0.3</td>\n",
              "      <td>4.55</td>\n",
              "      <td>263</td>\n",
              "      <td>236</td>\n",
              "      <td>2018</td>\n",
              "      <td>2</td>\n",
              "      <td>25</td>\n",
              "      <td>6</td>\n",
              "      <td>10</td>\n",
              "      <td>2377.0</td>\n",
              "    </tr>\n",
              "    <tr>\n",
              "      <th>2</th>\n",
              "      <td>9.65</td>\n",
              "      <td>1</td>\n",
              "      <td>N</td>\n",
              "      <td>1</td>\n",
              "      <td>41.5</td>\n",
              "      <td>0.0</td>\n",
              "      <td>0.5</td>\n",
              "      <td>9.61</td>\n",
              "      <td>5.76</td>\n",
              "      <td>0.3</td>\n",
              "      <td>57.67</td>\n",
              "      <td>138</td>\n",
              "      <td>230</td>\n",
              "      <td>2018</td>\n",
              "      <td>1</td>\n",
              "      <td>29</td>\n",
              "      <td>0</td>\n",
              "      <td>8</td>\n",
              "      <td>1286.0</td>\n",
              "    </tr>\n",
              "    <tr>\n",
              "      <th>3</th>\n",
              "      <td>9.50</td>\n",
              "      <td>1</td>\n",
              "      <td>N</td>\n",
              "      <td>1</td>\n",
              "      <td>30.0</td>\n",
              "      <td>0.5</td>\n",
              "      <td>0.5</td>\n",
              "      <td>9.25</td>\n",
              "      <td>5.76</td>\n",
              "      <td>0.3</td>\n",
              "      <td>46.31</td>\n",
              "      <td>186</td>\n",
              "      <td>138</td>\n",
              "      <td>2018</td>\n",
              "      <td>9</td>\n",
              "      <td>25</td>\n",
              "      <td>1</td>\n",
              "      <td>20</td>\n",
              "      <td>2586.0</td>\n",
              "    </tr>\n",
              "    <tr>\n",
              "      <th>4</th>\n",
              "      <td>5.80</td>\n",
              "      <td>1</td>\n",
              "      <td>N</td>\n",
              "      <td>1</td>\n",
              "      <td>21.5</td>\n",
              "      <td>0.5</td>\n",
              "      <td>0.5</td>\n",
              "      <td>4.56</td>\n",
              "      <td>0.00</td>\n",
              "      <td>0.3</td>\n",
              "      <td>27.36</td>\n",
              "      <td>162</td>\n",
              "      <td>87</td>\n",
              "      <td>2018</td>\n",
              "      <td>8</td>\n",
              "      <td>20</td>\n",
              "      <td>0</td>\n",
              "      <td>21</td>\n",
              "      <td>1575.0</td>\n",
              "    </tr>\n",
              "  </tbody>\n",
              "</table>\n",
              "</div>\n",
              "      <button class=\"colab-df-convert\" onclick=\"convertToInteractive('df-df10932e-dbea-4ffa-ae66-51599f865dad')\"\n",
              "              title=\"Convert this dataframe to an interactive table.\"\n",
              "              style=\"display:none;\">\n",
              "        \n",
              "  <svg xmlns=\"http://www.w3.org/2000/svg\" height=\"24px\"viewBox=\"0 0 24 24\"\n",
              "       width=\"24px\">\n",
              "    <path d=\"M0 0h24v24H0V0z\" fill=\"none\"/>\n",
              "    <path d=\"M18.56 5.44l.94 2.06.94-2.06 2.06-.94-2.06-.94-.94-2.06-.94 2.06-2.06.94zm-11 1L8.5 8.5l.94-2.06 2.06-.94-2.06-.94L8.5 2.5l-.94 2.06-2.06.94zm10 10l.94 2.06.94-2.06 2.06-.94-2.06-.94-.94-2.06-.94 2.06-2.06.94z\"/><path d=\"M17.41 7.96l-1.37-1.37c-.4-.4-.92-.59-1.43-.59-.52 0-1.04.2-1.43.59L10.3 9.45l-7.72 7.72c-.78.78-.78 2.05 0 2.83L4 21.41c.39.39.9.59 1.41.59.51 0 1.02-.2 1.41-.59l7.78-7.78 2.81-2.81c.8-.78.8-2.07 0-2.86zM5.41 20L4 18.59l7.72-7.72 1.47 1.35L5.41 20z\"/>\n",
              "  </svg>\n",
              "      </button>\n",
              "      \n",
              "  <style>\n",
              "    .colab-df-container {\n",
              "      display:flex;\n",
              "      flex-wrap:wrap;\n",
              "      gap: 12px;\n",
              "    }\n",
              "\n",
              "    .colab-df-convert {\n",
              "      background-color: #E8F0FE;\n",
              "      border: none;\n",
              "      border-radius: 50%;\n",
              "      cursor: pointer;\n",
              "      display: none;\n",
              "      fill: #1967D2;\n",
              "      height: 32px;\n",
              "      padding: 0 0 0 0;\n",
              "      width: 32px;\n",
              "    }\n",
              "\n",
              "    .colab-df-convert:hover {\n",
              "      background-color: #E2EBFA;\n",
              "      box-shadow: 0px 1px 2px rgba(60, 64, 67, 0.3), 0px 1px 3px 1px rgba(60, 64, 67, 0.15);\n",
              "      fill: #174EA6;\n",
              "    }\n",
              "\n",
              "    [theme=dark] .colab-df-convert {\n",
              "      background-color: #3B4455;\n",
              "      fill: #D2E3FC;\n",
              "    }\n",
              "\n",
              "    [theme=dark] .colab-df-convert:hover {\n",
              "      background-color: #434B5C;\n",
              "      box-shadow: 0px 1px 3px 1px rgba(0, 0, 0, 0.15);\n",
              "      filter: drop-shadow(0px 1px 2px rgba(0, 0, 0, 0.3));\n",
              "      fill: #FFFFFF;\n",
              "    }\n",
              "  </style>\n",
              "\n",
              "      <script>\n",
              "        const buttonEl =\n",
              "          document.querySelector('#df-df10932e-dbea-4ffa-ae66-51599f865dad button.colab-df-convert');\n",
              "        buttonEl.style.display =\n",
              "          google.colab.kernel.accessAllowed ? 'block' : 'none';\n",
              "\n",
              "        async function convertToInteractive(key) {\n",
              "          const element = document.querySelector('#df-df10932e-dbea-4ffa-ae66-51599f865dad');\n",
              "          const dataTable =\n",
              "            await google.colab.kernel.invokeFunction('convertToInteractive',\n",
              "                                                     [key], {});\n",
              "          if (!dataTable) return;\n",
              "\n",
              "          const docLinkHtml = 'Like what you see? Visit the ' +\n",
              "            '<a target=\"_blank\" href=https://colab.research.google.com/notebooks/data_table.ipynb>data table notebook</a>'\n",
              "            + ' to learn more about interactive tables.';\n",
              "          element.innerHTML = '';\n",
              "          dataTable['output_type'] = 'display_data';\n",
              "          await google.colab.output.renderOutput(dataTable, element);\n",
              "          const docLink = document.createElement('div');\n",
              "          docLink.innerHTML = docLinkHtml;\n",
              "          element.appendChild(docLink);\n",
              "        }\n",
              "      </script>\n",
              "    </div>\n",
              "  </div>\n",
              "  "
            ]
          },
          "metadata": {},
          "execution_count": 48
        }
      ],
      "source": [
        "X=train_data.drop([\"calculated_total_amount\"],axis=1,inplace=False) ##Input\n",
        "X.head()"
      ]
    },
    {
      "cell_type": "code",
      "execution_count": 49,
      "metadata": {
        "colab": {
          "base_uri": "https://localhost:8080/"
        },
        "id": "WpZ3JIjGDnVS",
        "outputId": "0ec51059-6608-442f-e0c3-9e88021c64a0"
      },
      "outputs": [
        {
          "output_type": "execute_result",
          "data": {
            "text/plain": [
              "0    24.30\n",
              "1    37.40\n",
              "2    30.36\n",
              "3     4.30\n",
              "4    23.80\n",
              "Name: calculated_total_amount, dtype: float64"
            ]
          },
          "metadata": {},
          "execution_count": 49
        }
      ],
      "source": [
        "Y=train_data[\"calculated_total_amount\"]  # OUTPUT\n",
        "Y.head()\n"
      ]
    },
    {
      "cell_type": "code",
      "source": [
        "\n",
        "from sklearn import preprocessing \n",
        "lab_enc = preprocessing.LabelEncoder()\n",
        "X.iloc[:,2]=lab_enc.fit_transform(X.iloc[:, 2])"
      ],
      "metadata": {
        "id": "N1wCmEO0SXmX"
      },
      "execution_count": 50,
      "outputs": []
    },
    {
      "cell_type": "code",
      "source": [
        "from sklearn.model_selection import train_test_split\n",
        "from sklearn.metrics import mean_squared_error\n",
        "\n",
        "X_train, X_test, y_train, y_test = train_test_split(X, Y, test_size = 0.2, random_state = 42)"
      ],
      "metadata": {
        "id": "J-N3ZgBXSCnX"
      },
      "execution_count": 51,
      "outputs": []
    },
    {
      "cell_type": "code",
      "source": [
        "from sklearn import preprocessing \n",
        "lab_enc = preprocessing.LabelEncoder()\n",
        "X_tst=test_data\n",
        "X_tst.iloc[:,2]=lab_enc.fit_transform(X_tst.iloc[:,2])"
      ],
      "metadata": {
        "id": "ed2sYeqpSKvv"
      },
      "execution_count": 52,
      "outputs": []
    },
    {
      "cell_type": "code",
      "source": [],
      "metadata": {
        "id": "6w-w56uuSK5f"
      },
      "execution_count": 52,
      "outputs": []
    },
    {
      "cell_type": "markdown",
      "source": [],
      "metadata": {
        "id": "_R1mXAy7pK50"
      }
    },
    {
      "cell_type": "code",
      "source": [
        "#---------------Linear regression---------#"
      ],
      "metadata": {
        "id": "J529Ch3vY7sJ"
      },
      "execution_count": 53,
      "outputs": []
    },
    {
      "cell_type": "code",
      "source": [
        "from sklearn.linear_model import LinearRegression\n",
        "#create linear regression object\n",
        "reg = LinearRegression()\n",
        "  \n",
        "# train the model using the training sets\n",
        "reg.fit(X_train, y_train)"
      ],
      "metadata": {
        "id": "6JM73n-RY_HU",
        "colab": {
          "base_uri": "https://localhost:8080/"
        },
        "outputId": "d4e17a9a-759c-4f55-86a3-37d0a3e39091"
      },
      "execution_count": 54,
      "outputs": [
        {
          "output_type": "execute_result",
          "data": {
            "text/plain": [
              "LinearRegression()"
            ]
          },
          "metadata": {},
          "execution_count": 54
        }
      ]
    },
    {
      "cell_type": "code",
      "source": [
        "y_pred_LR=reg.predict(X_tst)\n",
        "rmse_linrig=reg.predict(X_test)"
      ],
      "metadata": {
        "id": "Osx9HR35ZX5N"
      },
      "execution_count": 55,
      "outputs": []
    },
    {
      "cell_type": "code",
      "source": [
        "from sklearn.metrics import mean_squared_error\n",
        "print(\"RMSE : \", np.sqrt(mean_squared_error(y_test,rmse_linrig)))"
      ],
      "metadata": {
        "id": "qo6rQ-LJZwAK",
        "colab": {
          "base_uri": "https://localhost:8080/"
        },
        "outputId": "3ac58c97-ff4a-42b1-bc9e-0d292a469a27"
      },
      "execution_count": 56,
      "outputs": [
        {
          "output_type": "stream",
          "name": "stdout",
          "text": [
            "RMSE :  20.34669184726276\n"
          ]
        }
      ]
    },
    {
      "cell_type": "code",
      "source": [
        "LR=pd.DataFrame(y_pred_LR)\n",
        "LR.rename(columns = {0:'calculated_total_amount'}, inplace = True)\n",
        "LR.to_csv(\"LR.csv\",index=False)"
      ],
      "metadata": {
        "id": "mPlMOLhXZ49t"
      },
      "execution_count": 57,
      "outputs": []
    },
    {
      "cell_type": "code",
      "source": [
        "#-----------------RANSAC Regression-------------#"
      ],
      "metadata": {
        "id": "eLu1BKUDbTrz"
      },
      "execution_count": 58,
      "outputs": []
    },
    {
      "cell_type": "code",
      "source": [
        "from sklearn.linear_model import RANSACRegressor\n",
        "model_ransac=RANSACRegressor()\n",
        "model_ransac.fit(X_train,y_train)"
      ],
      "metadata": {
        "id": "1IZI5B92bXk_",
        "colab": {
          "base_uri": "https://localhost:8080/"
        },
        "outputId": "7c0ad836-fb8e-49a4-f814-0879b5b5b88c"
      },
      "execution_count": 59,
      "outputs": [
        {
          "output_type": "execute_result",
          "data": {
            "text/plain": [
              "RANSACRegressor()"
            ]
          },
          "metadata": {},
          "execution_count": 59
        }
      ]
    },
    {
      "cell_type": "code",
      "source": [
        "y_pred_ransac=model_ransac.predict(X_tst)\n",
        "rmse_ransac=model_ransac.predict(X_test)"
      ],
      "metadata": {
        "id": "kFU9pEckbyNo"
      },
      "execution_count": 60,
      "outputs": []
    },
    {
      "cell_type": "code",
      "source": [
        "from sklearn.metrics import mean_squared_error\n",
        "print(\"RMSE : \", np.sqrt(mean_squared_error(y_test,rmse_ransac)))"
      ],
      "metadata": {
        "id": "-z6XUFk5byQT",
        "colab": {
          "base_uri": "https://localhost:8080/"
        },
        "outputId": "e7dfc40c-a146-4640-d46b-c5686d2bd39a"
      },
      "execution_count": 61,
      "outputs": [
        {
          "output_type": "stream",
          "name": "stdout",
          "text": [
            "RMSE :  26.7216710207808\n"
          ]
        }
      ]
    },
    {
      "cell_type": "code",
      "source": [
        "RANSAC=pd.DataFrame(y_pred_ransac)\n",
        "RANSAC.rename(columns = {0:'calculated_total_amount'}, inplace = True)\n",
        "RANSAC.to_csv(\"RANSAC.csv\",index=False)"
      ],
      "metadata": {
        "id": "fidJkKEwcG43"
      },
      "execution_count": 62,
      "outputs": []
    },
    {
      "cell_type": "code",
      "execution_count": 63,
      "metadata": {
        "id": "6J33bWptDPCP",
        "colab": {
          "base_uri": "https://localhost:8080/"
        },
        "outputId": "935be105-360a-458c-f0a7-e9789f3e8945"
      },
      "outputs": [
        {
          "output_type": "stream",
          "name": "stdout",
          "text": [
            "Looking in indexes: https://pypi.org/simple, https://us-python.pkg.dev/colab-wheels/public/simple/\n",
            "Collecting flaml\n",
            "  Downloading FLAML-1.0.13-py3-none-any.whl (205 kB)\n",
            "\u001b[K     |████████████████████████████████| 205 kB 6.4 MB/s \n",
            "\u001b[?25hRequirement already satisfied: scipy>=1.4.1 in /usr/local/lib/python3.7/dist-packages (from flaml) (1.7.3)\n",
            "Requirement already satisfied: xgboost>=0.90 in /usr/local/lib/python3.7/dist-packages (from flaml) (0.90)\n",
            "Requirement already satisfied: NumPy>=1.17.0rc1 in /usr/local/lib/python3.7/dist-packages (from flaml) (1.21.6)\n",
            "Requirement already satisfied: scikit-learn>=0.24 in /usr/local/lib/python3.7/dist-packages (from flaml) (1.0.2)\n",
            "Collecting lightgbm>=2.3.1\n",
            "  Downloading lightgbm-3.3.3-py3-none-manylinux1_x86_64.whl (2.0 MB)\n",
            "\u001b[K     |████████████████████████████████| 2.0 MB 69.4 MB/s \n",
            "\u001b[?25hRequirement already satisfied: pandas>=1.1.4 in /usr/local/lib/python3.7/dist-packages (from flaml) (1.3.5)\n",
            "Requirement already satisfied: wheel in /usr/local/lib/python3.7/dist-packages (from lightgbm>=2.3.1->flaml) (0.38.3)\n",
            "Requirement already satisfied: python-dateutil>=2.7.3 in /usr/local/lib/python3.7/dist-packages (from pandas>=1.1.4->flaml) (2.8.2)\n",
            "Requirement already satisfied: pytz>=2017.3 in /usr/local/lib/python3.7/dist-packages (from pandas>=1.1.4->flaml) (2022.6)\n",
            "Requirement already satisfied: six>=1.5 in /usr/local/lib/python3.7/dist-packages (from python-dateutil>=2.7.3->pandas>=1.1.4->flaml) (1.15.0)\n",
            "Requirement already satisfied: threadpoolctl>=2.0.0 in /usr/local/lib/python3.7/dist-packages (from scikit-learn>=0.24->flaml) (3.1.0)\n",
            "Requirement already satisfied: joblib>=0.11 in /usr/local/lib/python3.7/dist-packages (from scikit-learn>=0.24->flaml) (1.2.0)\n",
            "Installing collected packages: lightgbm, flaml\n",
            "  Attempting uninstall: lightgbm\n",
            "    Found existing installation: lightgbm 2.2.3\n",
            "    Uninstalling lightgbm-2.2.3:\n",
            "      Successfully uninstalled lightgbm-2.2.3\n",
            "Successfully installed flaml-1.0.13 lightgbm-3.3.3\n"
          ]
        },
        {
          "output_type": "stream",
          "name": "stderr",
          "text": [
            "[flaml.automl: 11-12 10:01:39] {2600} INFO - task = regression\n",
            "INFO:flaml.automl:task = regression\n",
            "[flaml.automl: 11-12 10:01:39] {2602} INFO - Data split method: uniform\n",
            "INFO:flaml.automl:Data split method: uniform\n",
            "[flaml.automl: 11-12 10:01:39] {2605} INFO - Evaluation method: holdout\n",
            "INFO:flaml.automl:Evaluation method: holdout\n",
            "[flaml.automl: 11-12 10:01:39] {2727} INFO - Minimizing error metric: rmse\n",
            "INFO:flaml.automl:Minimizing error metric: rmse\n",
            "[flaml.automl: 11-12 10:01:39] {2869} INFO - List of ML learners in AutoML Run: ['lgbm', 'rf', 'xgboost', 'extra_tree', 'xgb_limitdepth']\n",
            "INFO:flaml.automl:List of ML learners in AutoML Run: ['lgbm', 'rf', 'xgboost', 'extra_tree', 'xgb_limitdepth']\n",
            "[flaml.automl: 11-12 10:01:39] {3164} INFO - iteration 0, current learner lgbm\n",
            "INFO:flaml.automl:iteration 0, current learner lgbm\n",
            "[flaml.automl: 11-12 10:01:39] {3298} INFO - Estimated sufficient time budget=884s. Estimated necessary time budget=6s.\n",
            "INFO:flaml.automl:Estimated sufficient time budget=884s. Estimated necessary time budget=6s.\n",
            "[flaml.automl: 11-12 10:01:39] {3350} INFO -  at 0.2s,\testimator lgbm's best error=20.2920,\tbest estimator lgbm's best error=20.2920\n",
            "INFO:flaml.automl: at 0.2s,\testimator lgbm's best error=20.2920,\tbest estimator lgbm's best error=20.2920\n",
            "[flaml.automl: 11-12 10:01:39] {3164} INFO - iteration 1, current learner lgbm\n",
            "INFO:flaml.automl:iteration 1, current learner lgbm\n",
            "[flaml.automl: 11-12 10:01:39] {3350} INFO -  at 0.3s,\testimator lgbm's best error=20.2920,\tbest estimator lgbm's best error=20.2920\n",
            "INFO:flaml.automl: at 0.3s,\testimator lgbm's best error=20.2920,\tbest estimator lgbm's best error=20.2920\n",
            "[flaml.automl: 11-12 10:01:39] {3164} INFO - iteration 2, current learner lgbm\n",
            "INFO:flaml.automl:iteration 2, current learner lgbm\n",
            "[flaml.automl: 11-12 10:01:39] {3350} INFO -  at 0.4s,\testimator lgbm's best error=20.2920,\tbest estimator lgbm's best error=20.2920\n",
            "INFO:flaml.automl: at 0.4s,\testimator lgbm's best error=20.2920,\tbest estimator lgbm's best error=20.2920\n",
            "[flaml.automl: 11-12 10:01:39] {3164} INFO - iteration 3, current learner lgbm\n",
            "INFO:flaml.automl:iteration 3, current learner lgbm\n",
            "[flaml.automl: 11-12 10:01:39] {3350} INFO -  at 0.4s,\testimator lgbm's best error=20.2920,\tbest estimator lgbm's best error=20.2920\n",
            "INFO:flaml.automl: at 0.4s,\testimator lgbm's best error=20.2920,\tbest estimator lgbm's best error=20.2920\n",
            "[flaml.automl: 11-12 10:01:39] {3164} INFO - iteration 4, current learner xgboost\n",
            "INFO:flaml.automl:iteration 4, current learner xgboost\n",
            "[flaml.automl: 11-12 10:01:40] {3350} INFO -  at 0.7s,\testimator xgboost's best error=33.7383,\tbest estimator lgbm's best error=20.2920\n",
            "INFO:flaml.automl: at 0.7s,\testimator xgboost's best error=33.7383,\tbest estimator lgbm's best error=20.2920\n",
            "[flaml.automl: 11-12 10:01:40] {3164} INFO - iteration 5, current learner extra_tree\n",
            "INFO:flaml.automl:iteration 5, current learner extra_tree\n",
            "[flaml.automl: 11-12 10:01:40] {3350} INFO -  at 1.0s,\testimator extra_tree's best error=20.3078,\tbest estimator lgbm's best error=20.2920\n",
            "INFO:flaml.automl: at 1.0s,\testimator extra_tree's best error=20.3078,\tbest estimator lgbm's best error=20.2920\n",
            "[flaml.automl: 11-12 10:01:40] {3164} INFO - iteration 6, current learner rf\n",
            "INFO:flaml.automl:iteration 6, current learner rf\n",
            "[flaml.automl: 11-12 10:01:40] {3350} INFO -  at 1.3s,\testimator rf's best error=20.2957,\tbest estimator lgbm's best error=20.2920\n",
            "INFO:flaml.automl: at 1.3s,\testimator rf's best error=20.2957,\tbest estimator lgbm's best error=20.2920\n",
            "[flaml.automl: 11-12 10:01:40] {3164} INFO - iteration 7, current learner lgbm\n",
            "INFO:flaml.automl:iteration 7, current learner lgbm\n",
            "[flaml.automl: 11-12 10:01:40] {3350} INFO -  at 1.4s,\testimator lgbm's best error=20.2920,\tbest estimator lgbm's best error=20.2920\n",
            "INFO:flaml.automl: at 1.4s,\testimator lgbm's best error=20.2920,\tbest estimator lgbm's best error=20.2920\n",
            "[flaml.automl: 11-12 10:01:40] {3164} INFO - iteration 8, current learner lgbm\n",
            "INFO:flaml.automl:iteration 8, current learner lgbm\n",
            "[flaml.automl: 11-12 10:01:40] {3350} INFO -  at 1.5s,\testimator lgbm's best error=20.2907,\tbest estimator lgbm's best error=20.2907\n",
            "INFO:flaml.automl: at 1.5s,\testimator lgbm's best error=20.2907,\tbest estimator lgbm's best error=20.2907\n",
            "[flaml.automl: 11-12 10:01:40] {3164} INFO - iteration 9, current learner lgbm\n",
            "INFO:flaml.automl:iteration 9, current learner lgbm\n",
            "[flaml.automl: 11-12 10:01:40] {3350} INFO -  at 1.5s,\testimator lgbm's best error=20.2907,\tbest estimator lgbm's best error=20.2907\n",
            "INFO:flaml.automl: at 1.5s,\testimator lgbm's best error=20.2907,\tbest estimator lgbm's best error=20.2907\n",
            "[flaml.automl: 11-12 10:01:40] {3164} INFO - iteration 10, current learner lgbm\n",
            "INFO:flaml.automl:iteration 10, current learner lgbm\n",
            "[flaml.automl: 11-12 10:01:40] {3350} INFO -  at 1.6s,\testimator lgbm's best error=20.2907,\tbest estimator lgbm's best error=20.2907\n",
            "INFO:flaml.automl: at 1.6s,\testimator lgbm's best error=20.2907,\tbest estimator lgbm's best error=20.2907\n",
            "[flaml.automl: 11-12 10:01:40] {3164} INFO - iteration 11, current learner rf\n",
            "INFO:flaml.automl:iteration 11, current learner rf\n",
            "[flaml.automl: 11-12 10:01:41] {3350} INFO -  at 2.0s,\testimator rf's best error=20.2957,\tbest estimator lgbm's best error=20.2907\n",
            "INFO:flaml.automl: at 2.0s,\testimator rf's best error=20.2957,\tbest estimator lgbm's best error=20.2907\n",
            "[flaml.automl: 11-12 10:01:41] {3164} INFO - iteration 12, current learner rf\n",
            "INFO:flaml.automl:iteration 12, current learner rf\n",
            "[flaml.automl: 11-12 10:01:42] {3350} INFO -  at 2.8s,\testimator rf's best error=20.2957,\tbest estimator lgbm's best error=20.2907\n",
            "INFO:flaml.automl: at 2.8s,\testimator rf's best error=20.2957,\tbest estimator lgbm's best error=20.2907\n",
            "[flaml.automl: 11-12 10:01:42] {3164} INFO - iteration 13, current learner xgboost\n",
            "INFO:flaml.automl:iteration 13, current learner xgboost\n",
            "[flaml.automl: 11-12 10:01:42] {3350} INFO -  at 2.9s,\testimator xgboost's best error=33.7383,\tbest estimator lgbm's best error=20.2907\n",
            "INFO:flaml.automl: at 2.9s,\testimator xgboost's best error=33.7383,\tbest estimator lgbm's best error=20.2907\n",
            "[flaml.automl: 11-12 10:01:42] {3164} INFO - iteration 14, current learner xgboost\n",
            "INFO:flaml.automl:iteration 14, current learner xgboost\n",
            "[flaml.automl: 11-12 10:01:42] {3350} INFO -  at 3.1s,\testimator xgboost's best error=23.8260,\tbest estimator lgbm's best error=20.2907\n",
            "INFO:flaml.automl: at 3.1s,\testimator xgboost's best error=23.8260,\tbest estimator lgbm's best error=20.2907\n",
            "[flaml.automl: 11-12 10:01:42] {3164} INFO - iteration 15, current learner xgboost\n",
            "INFO:flaml.automl:iteration 15, current learner xgboost\n",
            "[flaml.automl: 11-12 10:01:42] {3350} INFO -  at 3.2s,\testimator xgboost's best error=20.3198,\tbest estimator lgbm's best error=20.2907\n",
            "INFO:flaml.automl: at 3.2s,\testimator xgboost's best error=20.3198,\tbest estimator lgbm's best error=20.2907\n",
            "[flaml.automl: 11-12 10:01:42] {3164} INFO - iteration 16, current learner lgbm\n",
            "INFO:flaml.automl:iteration 16, current learner lgbm\n",
            "[flaml.automl: 11-12 10:01:42] {3350} INFO -  at 3.3s,\testimator lgbm's best error=20.2907,\tbest estimator lgbm's best error=20.2907\n",
            "INFO:flaml.automl: at 3.3s,\testimator lgbm's best error=20.2907,\tbest estimator lgbm's best error=20.2907\n",
            "[flaml.automl: 11-12 10:01:42] {3164} INFO - iteration 17, current learner extra_tree\n",
            "INFO:flaml.automl:iteration 17, current learner extra_tree\n",
            "[flaml.automl: 11-12 10:01:43] {3350} INFO -  at 3.6s,\testimator extra_tree's best error=20.3078,\tbest estimator lgbm's best error=20.2907\n",
            "INFO:flaml.automl: at 3.6s,\testimator extra_tree's best error=20.3078,\tbest estimator lgbm's best error=20.2907\n",
            "[flaml.automl: 11-12 10:01:43] {3164} INFO - iteration 18, current learner lgbm\n",
            "INFO:flaml.automl:iteration 18, current learner lgbm\n",
            "[flaml.automl: 11-12 10:01:43] {3350} INFO -  at 3.7s,\testimator lgbm's best error=20.2907,\tbest estimator lgbm's best error=20.2907\n",
            "INFO:flaml.automl: at 3.7s,\testimator lgbm's best error=20.2907,\tbest estimator lgbm's best error=20.2907\n",
            "[flaml.automl: 11-12 10:01:43] {3164} INFO - iteration 19, current learner xgboost\n",
            "INFO:flaml.automl:iteration 19, current learner xgboost\n",
            "[flaml.automl: 11-12 10:01:43] {3350} INFO -  at 3.8s,\testimator xgboost's best error=20.3198,\tbest estimator lgbm's best error=20.2907\n",
            "INFO:flaml.automl: at 3.8s,\testimator xgboost's best error=20.3198,\tbest estimator lgbm's best error=20.2907\n",
            "[flaml.automl: 11-12 10:01:43] {3164} INFO - iteration 20, current learner xgboost\n",
            "INFO:flaml.automl:iteration 20, current learner xgboost\n",
            "[flaml.automl: 11-12 10:01:43] {3350} INFO -  at 4.0s,\testimator xgboost's best error=20.3198,\tbest estimator lgbm's best error=20.2907\n",
            "INFO:flaml.automl: at 4.0s,\testimator xgboost's best error=20.3198,\tbest estimator lgbm's best error=20.2907\n",
            "[flaml.automl: 11-12 10:01:43] {3164} INFO - iteration 21, current learner xgboost\n",
            "INFO:flaml.automl:iteration 21, current learner xgboost\n",
            "[flaml.automl: 11-12 10:01:43] {3350} INFO -  at 4.2s,\testimator xgboost's best error=20.3198,\tbest estimator lgbm's best error=20.2907\n",
            "INFO:flaml.automl: at 4.2s,\testimator xgboost's best error=20.3198,\tbest estimator lgbm's best error=20.2907\n",
            "[flaml.automl: 11-12 10:01:43] {3164} INFO - iteration 22, current learner lgbm\n",
            "INFO:flaml.automl:iteration 22, current learner lgbm\n",
            "[flaml.automl: 11-12 10:01:43] {3350} INFO -  at 4.3s,\testimator lgbm's best error=20.2907,\tbest estimator lgbm's best error=20.2907\n",
            "INFO:flaml.automl: at 4.3s,\testimator lgbm's best error=20.2907,\tbest estimator lgbm's best error=20.2907\n",
            "[flaml.automl: 11-12 10:01:43] {3164} INFO - iteration 23, current learner lgbm\n",
            "INFO:flaml.automl:iteration 23, current learner lgbm\n",
            "[flaml.automl: 11-12 10:01:43] {3350} INFO -  at 4.4s,\testimator lgbm's best error=20.2907,\tbest estimator lgbm's best error=20.2907\n",
            "INFO:flaml.automl: at 4.4s,\testimator lgbm's best error=20.2907,\tbest estimator lgbm's best error=20.2907\n",
            "[flaml.automl: 11-12 10:01:43] {3164} INFO - iteration 24, current learner extra_tree\n",
            "INFO:flaml.automl:iteration 24, current learner extra_tree\n",
            "[flaml.automl: 11-12 10:01:44] {3350} INFO -  at 4.8s,\testimator extra_tree's best error=20.3032,\tbest estimator lgbm's best error=20.2907\n",
            "INFO:flaml.automl: at 4.8s,\testimator extra_tree's best error=20.3032,\tbest estimator lgbm's best error=20.2907\n",
            "[flaml.automl: 11-12 10:01:44] {3164} INFO - iteration 25, current learner extra_tree\n",
            "INFO:flaml.automl:iteration 25, current learner extra_tree\n",
            "[flaml.automl: 11-12 10:01:44] {3350} INFO -  at 5.3s,\testimator extra_tree's best error=20.3032,\tbest estimator lgbm's best error=20.2907\n",
            "INFO:flaml.automl: at 5.3s,\testimator extra_tree's best error=20.3032,\tbest estimator lgbm's best error=20.2907\n",
            "[flaml.automl: 11-12 10:01:44] {3164} INFO - iteration 26, current learner lgbm\n",
            "INFO:flaml.automl:iteration 26, current learner lgbm\n",
            "[flaml.automl: 11-12 10:01:44] {3350} INFO -  at 5.3s,\testimator lgbm's best error=20.2907,\tbest estimator lgbm's best error=20.2907\n",
            "INFO:flaml.automl: at 5.3s,\testimator lgbm's best error=20.2907,\tbest estimator lgbm's best error=20.2907\n",
            "[flaml.automl: 11-12 10:01:44] {3164} INFO - iteration 27, current learner xgboost\n",
            "INFO:flaml.automl:iteration 27, current learner xgboost\n",
            "[flaml.automl: 11-12 10:01:44] {3350} INFO -  at 5.6s,\testimator xgboost's best error=20.3190,\tbest estimator lgbm's best error=20.2907\n",
            "INFO:flaml.automl: at 5.6s,\testimator xgboost's best error=20.3190,\tbest estimator lgbm's best error=20.2907\n",
            "[flaml.automl: 11-12 10:01:44] {3164} INFO - iteration 28, current learner rf\n",
            "INFO:flaml.automl:iteration 28, current learner rf\n",
            "[flaml.automl: 11-12 10:01:45] {3350} INFO -  at 6.0s,\testimator rf's best error=20.2957,\tbest estimator lgbm's best error=20.2907\n",
            "INFO:flaml.automl: at 6.0s,\testimator rf's best error=20.2957,\tbest estimator lgbm's best error=20.2907\n",
            "[flaml.automl: 11-12 10:01:45] {3164} INFO - iteration 29, current learner rf\n",
            "INFO:flaml.automl:iteration 29, current learner rf\n",
            "[flaml.automl: 11-12 10:01:45] {3350} INFO -  at 6.5s,\testimator rf's best error=20.2957,\tbest estimator lgbm's best error=20.2907\n",
            "INFO:flaml.automl: at 6.5s,\testimator rf's best error=20.2957,\tbest estimator lgbm's best error=20.2907\n",
            "[flaml.automl: 11-12 10:01:45] {3164} INFO - iteration 30, current learner lgbm\n",
            "INFO:flaml.automl:iteration 30, current learner lgbm\n",
            "[flaml.automl: 11-12 10:01:45] {3350} INFO -  at 6.6s,\testimator lgbm's best error=20.2907,\tbest estimator lgbm's best error=20.2907\n",
            "INFO:flaml.automl: at 6.6s,\testimator lgbm's best error=20.2907,\tbest estimator lgbm's best error=20.2907\n",
            "[flaml.automl: 11-12 10:01:46] {3164} INFO - iteration 31, current learner lgbm\n",
            "INFO:flaml.automl:iteration 31, current learner lgbm\n",
            "[flaml.automl: 11-12 10:01:46] {3350} INFO -  at 6.7s,\testimator lgbm's best error=20.2907,\tbest estimator lgbm's best error=20.2907\n",
            "INFO:flaml.automl: at 6.7s,\testimator lgbm's best error=20.2907,\tbest estimator lgbm's best error=20.2907\n",
            "[flaml.automl: 11-12 10:01:46] {3164} INFO - iteration 32, current learner lgbm\n",
            "INFO:flaml.automl:iteration 32, current learner lgbm\n",
            "[flaml.automl: 11-12 10:01:46] {3350} INFO -  at 6.7s,\testimator lgbm's best error=20.2907,\tbest estimator lgbm's best error=20.2907\n",
            "INFO:flaml.automl: at 6.7s,\testimator lgbm's best error=20.2907,\tbest estimator lgbm's best error=20.2907\n",
            "[flaml.automl: 11-12 10:01:46] {3164} INFO - iteration 33, current learner rf\n",
            "INFO:flaml.automl:iteration 33, current learner rf\n",
            "[flaml.automl: 11-12 10:01:46] {3350} INFO -  at 7.2s,\testimator rf's best error=20.2957,\tbest estimator lgbm's best error=20.2907\n",
            "INFO:flaml.automl: at 7.2s,\testimator rf's best error=20.2957,\tbest estimator lgbm's best error=20.2907\n",
            "[flaml.automl: 11-12 10:01:46] {3164} INFO - iteration 34, current learner lgbm\n",
            "INFO:flaml.automl:iteration 34, current learner lgbm\n",
            "[flaml.automl: 11-12 10:01:46] {3350} INFO -  at 7.2s,\testimator lgbm's best error=20.2907,\tbest estimator lgbm's best error=20.2907\n",
            "INFO:flaml.automl: at 7.2s,\testimator lgbm's best error=20.2907,\tbest estimator lgbm's best error=20.2907\n",
            "[flaml.automl: 11-12 10:01:46] {3164} INFO - iteration 35, current learner lgbm\n",
            "INFO:flaml.automl:iteration 35, current learner lgbm\n",
            "[flaml.automl: 11-12 10:01:46] {3350} INFO -  at 7.3s,\testimator lgbm's best error=20.2907,\tbest estimator lgbm's best error=20.2907\n",
            "INFO:flaml.automl: at 7.3s,\testimator lgbm's best error=20.2907,\tbest estimator lgbm's best error=20.2907\n",
            "[flaml.automl: 11-12 10:01:46] {3164} INFO - iteration 36, current learner extra_tree\n",
            "INFO:flaml.automl:iteration 36, current learner extra_tree\n",
            "[flaml.automl: 11-12 10:01:47] {3350} INFO -  at 7.7s,\testimator extra_tree's best error=20.3026,\tbest estimator lgbm's best error=20.2907\n",
            "INFO:flaml.automl: at 7.7s,\testimator extra_tree's best error=20.3026,\tbest estimator lgbm's best error=20.2907\n",
            "[flaml.automl: 11-12 10:01:47] {3164} INFO - iteration 37, current learner lgbm\n",
            "INFO:flaml.automl:iteration 37, current learner lgbm\n",
            "[flaml.automl: 11-12 10:01:47] {3350} INFO -  at 7.8s,\testimator lgbm's best error=20.2907,\tbest estimator lgbm's best error=20.2907\n",
            "INFO:flaml.automl: at 7.8s,\testimator lgbm's best error=20.2907,\tbest estimator lgbm's best error=20.2907\n",
            "[flaml.automl: 11-12 10:01:47] {3164} INFO - iteration 38, current learner lgbm\n",
            "INFO:flaml.automl:iteration 38, current learner lgbm\n",
            "[flaml.automl: 11-12 10:01:47] {3350} INFO -  at 7.9s,\testimator lgbm's best error=20.2907,\tbest estimator lgbm's best error=20.2907\n",
            "INFO:flaml.automl: at 7.9s,\testimator lgbm's best error=20.2907,\tbest estimator lgbm's best error=20.2907\n",
            "[flaml.automl: 11-12 10:01:47] {3164} INFO - iteration 39, current learner lgbm\n",
            "INFO:flaml.automl:iteration 39, current learner lgbm\n",
            "[flaml.automl: 11-12 10:01:47] {3350} INFO -  at 8.0s,\testimator lgbm's best error=20.2907,\tbest estimator lgbm's best error=20.2907\n",
            "INFO:flaml.automl: at 8.0s,\testimator lgbm's best error=20.2907,\tbest estimator lgbm's best error=20.2907\n",
            "[flaml.automl: 11-12 10:01:47] {3164} INFO - iteration 40, current learner lgbm\n",
            "INFO:flaml.automl:iteration 40, current learner lgbm\n",
            "[flaml.automl: 11-12 10:01:47] {3350} INFO -  at 8.0s,\testimator lgbm's best error=20.2907,\tbest estimator lgbm's best error=20.2907\n",
            "INFO:flaml.automl: at 8.0s,\testimator lgbm's best error=20.2907,\tbest estimator lgbm's best error=20.2907\n",
            "[flaml.automl: 11-12 10:01:47] {3164} INFO - iteration 41, current learner rf\n",
            "INFO:flaml.automl:iteration 41, current learner rf\n",
            "[flaml.automl: 11-12 10:01:47] {3350} INFO -  at 8.6s,\testimator rf's best error=20.2957,\tbest estimator lgbm's best error=20.2907\n",
            "INFO:flaml.automl: at 8.6s,\testimator rf's best error=20.2957,\tbest estimator lgbm's best error=20.2907\n",
            "[flaml.automl: 11-12 10:01:47] {3164} INFO - iteration 42, current learner lgbm\n",
            "INFO:flaml.automl:iteration 42, current learner lgbm\n",
            "[flaml.automl: 11-12 10:01:48] {3350} INFO -  at 8.7s,\testimator lgbm's best error=20.2907,\tbest estimator lgbm's best error=20.2907\n",
            "INFO:flaml.automl: at 8.7s,\testimator lgbm's best error=20.2907,\tbest estimator lgbm's best error=20.2907\n",
            "[flaml.automl: 11-12 10:01:48] {3164} INFO - iteration 43, current learner rf\n",
            "INFO:flaml.automl:iteration 43, current learner rf\n",
            "[flaml.automl: 11-12 10:01:48] {3350} INFO -  at 9.1s,\testimator rf's best error=20.2957,\tbest estimator lgbm's best error=20.2907\n",
            "INFO:flaml.automl: at 9.1s,\testimator rf's best error=20.2957,\tbest estimator lgbm's best error=20.2907\n",
            "[flaml.automl: 11-12 10:01:48] {3164} INFO - iteration 44, current learner extra_tree\n",
            "INFO:flaml.automl:iteration 44, current learner extra_tree\n",
            "[flaml.automl: 11-12 10:01:49] {3350} INFO -  at 9.6s,\testimator extra_tree's best error=20.3026,\tbest estimator lgbm's best error=20.2907\n",
            "INFO:flaml.automl: at 9.6s,\testimator extra_tree's best error=20.3026,\tbest estimator lgbm's best error=20.2907\n",
            "[flaml.automl: 11-12 10:01:49] {3164} INFO - iteration 45, current learner rf\n",
            "INFO:flaml.automl:iteration 45, current learner rf\n",
            "[flaml.automl: 11-12 10:01:49] {3350} INFO -  at 10.4s,\testimator rf's best error=20.2957,\tbest estimator lgbm's best error=20.2907\n",
            "INFO:flaml.automl: at 10.4s,\testimator rf's best error=20.2957,\tbest estimator lgbm's best error=20.2907\n",
            "[flaml.automl: 11-12 10:01:49] {3164} INFO - iteration 46, current learner lgbm\n",
            "INFO:flaml.automl:iteration 46, current learner lgbm\n",
            "[flaml.automl: 11-12 10:01:50] {3350} INFO -  at 10.7s,\testimator lgbm's best error=20.2907,\tbest estimator lgbm's best error=20.2907\n",
            "INFO:flaml.automl: at 10.7s,\testimator lgbm's best error=20.2907,\tbest estimator lgbm's best error=20.2907\n",
            "[flaml.automl: 11-12 10:01:50] {3164} INFO - iteration 47, current learner rf\n",
            "INFO:flaml.automl:iteration 47, current learner rf\n",
            "[flaml.automl: 11-12 10:01:50] {3350} INFO -  at 11.1s,\testimator rf's best error=20.2957,\tbest estimator lgbm's best error=20.2907\n",
            "INFO:flaml.automl: at 11.1s,\testimator rf's best error=20.2957,\tbest estimator lgbm's best error=20.2907\n",
            "[flaml.automl: 11-12 10:01:50] {3164} INFO - iteration 48, current learner lgbm\n",
            "INFO:flaml.automl:iteration 48, current learner lgbm\n",
            "[flaml.automl: 11-12 10:01:50] {3350} INFO -  at 11.1s,\testimator lgbm's best error=20.2907,\tbest estimator lgbm's best error=20.2907\n",
            "INFO:flaml.automl: at 11.1s,\testimator lgbm's best error=20.2907,\tbest estimator lgbm's best error=20.2907\n",
            "[flaml.automl: 11-12 10:01:50] {3164} INFO - iteration 49, current learner lgbm\n",
            "INFO:flaml.automl:iteration 49, current learner lgbm\n",
            "[flaml.automl: 11-12 10:01:50] {3350} INFO -  at 11.2s,\testimator lgbm's best error=20.2907,\tbest estimator lgbm's best error=20.2907\n",
            "INFO:flaml.automl: at 11.2s,\testimator lgbm's best error=20.2907,\tbest estimator lgbm's best error=20.2907\n",
            "[flaml.automl: 11-12 10:01:50] {3164} INFO - iteration 50, current learner rf\n",
            "INFO:flaml.automl:iteration 50, current learner rf\n",
            "[flaml.automl: 11-12 10:01:50] {3350} INFO -  at 11.5s,\testimator rf's best error=20.2957,\tbest estimator lgbm's best error=20.2907\n",
            "INFO:flaml.automl: at 11.5s,\testimator rf's best error=20.2957,\tbest estimator lgbm's best error=20.2907\n",
            "[flaml.automl: 11-12 10:01:50] {3164} INFO - iteration 51, current learner lgbm\n",
            "INFO:flaml.automl:iteration 51, current learner lgbm\n",
            "[flaml.automl: 11-12 10:01:51] {3350} INFO -  at 11.6s,\testimator lgbm's best error=20.2907,\tbest estimator lgbm's best error=20.2907\n",
            "INFO:flaml.automl: at 11.6s,\testimator lgbm's best error=20.2907,\tbest estimator lgbm's best error=20.2907\n",
            "[flaml.automl: 11-12 10:01:51] {3164} INFO - iteration 52, current learner lgbm\n",
            "INFO:flaml.automl:iteration 52, current learner lgbm\n",
            "[flaml.automl: 11-12 10:01:51] {3350} INFO -  at 11.7s,\testimator lgbm's best error=20.2907,\tbest estimator lgbm's best error=20.2907\n",
            "INFO:flaml.automl: at 11.7s,\testimator lgbm's best error=20.2907,\tbest estimator lgbm's best error=20.2907\n",
            "[flaml.automl: 11-12 10:01:51] {3164} INFO - iteration 53, current learner lgbm\n",
            "INFO:flaml.automl:iteration 53, current learner lgbm\n",
            "[flaml.automl: 11-12 10:01:51] {3350} INFO -  at 11.8s,\testimator lgbm's best error=20.2907,\tbest estimator lgbm's best error=20.2907\n",
            "INFO:flaml.automl: at 11.8s,\testimator lgbm's best error=20.2907,\tbest estimator lgbm's best error=20.2907\n",
            "[flaml.automl: 11-12 10:01:51] {3164} INFO - iteration 54, current learner lgbm\n",
            "INFO:flaml.automl:iteration 54, current learner lgbm\n",
            "[flaml.automl: 11-12 10:01:51] {3350} INFO -  at 11.8s,\testimator lgbm's best error=20.2907,\tbest estimator lgbm's best error=20.2907\n",
            "INFO:flaml.automl: at 11.8s,\testimator lgbm's best error=20.2907,\tbest estimator lgbm's best error=20.2907\n",
            "[flaml.automl: 11-12 10:01:51] {3164} INFO - iteration 55, current learner lgbm\n",
            "INFO:flaml.automl:iteration 55, current learner lgbm\n",
            "[flaml.automl: 11-12 10:01:51] {3350} INFO -  at 11.9s,\testimator lgbm's best error=20.2907,\tbest estimator lgbm's best error=20.2907\n",
            "INFO:flaml.automl: at 11.9s,\testimator lgbm's best error=20.2907,\tbest estimator lgbm's best error=20.2907\n",
            "[flaml.automl: 11-12 10:01:51] {3164} INFO - iteration 56, current learner lgbm\n",
            "INFO:flaml.automl:iteration 56, current learner lgbm\n",
            "[flaml.automl: 11-12 10:01:51] {3350} INFO -  at 12.0s,\testimator lgbm's best error=20.2907,\tbest estimator lgbm's best error=20.2907\n",
            "INFO:flaml.automl: at 12.0s,\testimator lgbm's best error=20.2907,\tbest estimator lgbm's best error=20.2907\n",
            "[flaml.automl: 11-12 10:01:51] {3164} INFO - iteration 57, current learner lgbm\n",
            "INFO:flaml.automl:iteration 57, current learner lgbm\n",
            "[flaml.automl: 11-12 10:01:51] {3350} INFO -  at 12.1s,\testimator lgbm's best error=20.2907,\tbest estimator lgbm's best error=20.2907\n",
            "INFO:flaml.automl: at 12.1s,\testimator lgbm's best error=20.2907,\tbest estimator lgbm's best error=20.2907\n",
            "[flaml.automl: 11-12 10:01:51] {3164} INFO - iteration 58, current learner lgbm\n",
            "INFO:flaml.automl:iteration 58, current learner lgbm\n",
            "[flaml.automl: 11-12 10:01:51] {3350} INFO -  at 12.1s,\testimator lgbm's best error=20.2907,\tbest estimator lgbm's best error=20.2907\n",
            "INFO:flaml.automl: at 12.1s,\testimator lgbm's best error=20.2907,\tbest estimator lgbm's best error=20.2907\n",
            "[flaml.automl: 11-12 10:01:51] {3164} INFO - iteration 59, current learner lgbm\n",
            "INFO:flaml.automl:iteration 59, current learner lgbm\n",
            "[flaml.automl: 11-12 10:01:51] {3350} INFO -  at 12.2s,\testimator lgbm's best error=20.2907,\tbest estimator lgbm's best error=20.2907\n",
            "INFO:flaml.automl: at 12.2s,\testimator lgbm's best error=20.2907,\tbest estimator lgbm's best error=20.2907\n",
            "[flaml.automl: 11-12 10:01:51] {3164} INFO - iteration 60, current learner lgbm\n",
            "INFO:flaml.automl:iteration 60, current learner lgbm\n",
            "[flaml.automl: 11-12 10:01:51] {3350} INFO -  at 12.3s,\testimator lgbm's best error=20.2907,\tbest estimator lgbm's best error=20.2907\n",
            "INFO:flaml.automl: at 12.3s,\testimator lgbm's best error=20.2907,\tbest estimator lgbm's best error=20.2907\n",
            "[flaml.automl: 11-12 10:01:51] {3164} INFO - iteration 61, current learner lgbm\n",
            "INFO:flaml.automl:iteration 61, current learner lgbm\n",
            "[flaml.automl: 11-12 10:01:51] {3350} INFO -  at 12.4s,\testimator lgbm's best error=20.2907,\tbest estimator lgbm's best error=20.2907\n",
            "INFO:flaml.automl: at 12.4s,\testimator lgbm's best error=20.2907,\tbest estimator lgbm's best error=20.2907\n",
            "[flaml.automl: 11-12 10:01:51] {3164} INFO - iteration 62, current learner lgbm\n",
            "INFO:flaml.automl:iteration 62, current learner lgbm\n",
            "[flaml.automl: 11-12 10:01:51] {3350} INFO -  at 12.4s,\testimator lgbm's best error=20.2907,\tbest estimator lgbm's best error=20.2907\n",
            "INFO:flaml.automl: at 12.4s,\testimator lgbm's best error=20.2907,\tbest estimator lgbm's best error=20.2907\n",
            "[flaml.automl: 11-12 10:01:51] {3164} INFO - iteration 63, current learner rf\n",
            "INFO:flaml.automl:iteration 63, current learner rf\n",
            "[flaml.automl: 11-12 10:01:52] {3350} INFO -  at 12.8s,\testimator rf's best error=20.2957,\tbest estimator lgbm's best error=20.2907\n",
            "INFO:flaml.automl: at 12.8s,\testimator rf's best error=20.2957,\tbest estimator lgbm's best error=20.2907\n",
            "[flaml.automl: 11-12 10:01:52] {3164} INFO - iteration 64, current learner lgbm\n",
            "INFO:flaml.automl:iteration 64, current learner lgbm\n",
            "[flaml.automl: 11-12 10:01:52] {3350} INFO -  at 12.8s,\testimator lgbm's best error=20.2890,\tbest estimator lgbm's best error=20.2890\n",
            "INFO:flaml.automl: at 12.8s,\testimator lgbm's best error=20.2890,\tbest estimator lgbm's best error=20.2890\n",
            "[flaml.automl: 11-12 10:01:52] {3164} INFO - iteration 65, current learner lgbm\n",
            "INFO:flaml.automl:iteration 65, current learner lgbm\n",
            "[flaml.automl: 11-12 10:01:52] {3350} INFO -  at 12.9s,\testimator lgbm's best error=20.2890,\tbest estimator lgbm's best error=20.2890\n",
            "INFO:flaml.automl: at 12.9s,\testimator lgbm's best error=20.2890,\tbest estimator lgbm's best error=20.2890\n",
            "[flaml.automl: 11-12 10:01:52] {3164} INFO - iteration 66, current learner rf\n",
            "INFO:flaml.automl:iteration 66, current learner rf\n",
            "[flaml.automl: 11-12 10:01:52] {3350} INFO -  at 13.2s,\testimator rf's best error=20.2957,\tbest estimator lgbm's best error=20.2890\n",
            "INFO:flaml.automl: at 13.2s,\testimator rf's best error=20.2957,\tbest estimator lgbm's best error=20.2890\n",
            "[flaml.automl: 11-12 10:01:52] {3164} INFO - iteration 67, current learner lgbm\n",
            "INFO:flaml.automl:iteration 67, current learner lgbm\n",
            "[flaml.automl: 11-12 10:01:52] {3350} INFO -  at 13.3s,\testimator lgbm's best error=20.2890,\tbest estimator lgbm's best error=20.2890\n",
            "INFO:flaml.automl: at 13.3s,\testimator lgbm's best error=20.2890,\tbest estimator lgbm's best error=20.2890\n",
            "[flaml.automl: 11-12 10:01:52] {3164} INFO - iteration 68, current learner lgbm\n",
            "INFO:flaml.automl:iteration 68, current learner lgbm\n",
            "[flaml.automl: 11-12 10:01:52] {3350} INFO -  at 13.4s,\testimator lgbm's best error=20.2890,\tbest estimator lgbm's best error=20.2890\n",
            "INFO:flaml.automl: at 13.4s,\testimator lgbm's best error=20.2890,\tbest estimator lgbm's best error=20.2890\n",
            "[flaml.automl: 11-12 10:01:52] {3164} INFO - iteration 69, current learner lgbm\n",
            "INFO:flaml.automl:iteration 69, current learner lgbm\n",
            "[flaml.automl: 11-12 10:01:52] {3350} INFO -  at 13.5s,\testimator lgbm's best error=20.2890,\tbest estimator lgbm's best error=20.2890\n",
            "INFO:flaml.automl: at 13.5s,\testimator lgbm's best error=20.2890,\tbest estimator lgbm's best error=20.2890\n",
            "[flaml.automl: 11-12 10:01:52] {3164} INFO - iteration 70, current learner rf\n",
            "INFO:flaml.automl:iteration 70, current learner rf\n",
            "[flaml.automl: 11-12 10:01:53] {3350} INFO -  at 13.9s,\testimator rf's best error=20.2957,\tbest estimator lgbm's best error=20.2890\n",
            "INFO:flaml.automl: at 13.9s,\testimator rf's best error=20.2957,\tbest estimator lgbm's best error=20.2890\n",
            "[flaml.automl: 11-12 10:01:53] {3164} INFO - iteration 71, current learner lgbm\n",
            "INFO:flaml.automl:iteration 71, current learner lgbm\n",
            "[flaml.automl: 11-12 10:01:53] {3350} INFO -  at 14.0s,\testimator lgbm's best error=20.2890,\tbest estimator lgbm's best error=20.2890\n",
            "INFO:flaml.automl: at 14.0s,\testimator lgbm's best error=20.2890,\tbest estimator lgbm's best error=20.2890\n",
            "[flaml.automl: 11-12 10:01:53] {3164} INFO - iteration 72, current learner xgboost\n",
            "INFO:flaml.automl:iteration 72, current learner xgboost\n",
            "[flaml.automl: 11-12 10:01:53] {3350} INFO -  at 14.1s,\testimator xgboost's best error=20.3190,\tbest estimator lgbm's best error=20.2890\n",
            "INFO:flaml.automl: at 14.1s,\testimator xgboost's best error=20.3190,\tbest estimator lgbm's best error=20.2890\n",
            "[flaml.automl: 11-12 10:01:53] {3164} INFO - iteration 73, current learner lgbm\n",
            "INFO:flaml.automl:iteration 73, current learner lgbm\n",
            "[flaml.automl: 11-12 10:01:53] {3350} INFO -  at 14.2s,\testimator lgbm's best error=20.2890,\tbest estimator lgbm's best error=20.2890\n",
            "INFO:flaml.automl: at 14.2s,\testimator lgbm's best error=20.2890,\tbest estimator lgbm's best error=20.2890\n",
            "[flaml.automl: 11-12 10:01:53] {3164} INFO - iteration 74, current learner rf\n",
            "INFO:flaml.automl:iteration 74, current learner rf\n",
            "[flaml.automl: 11-12 10:01:54] {3350} INFO -  at 14.6s,\testimator rf's best error=20.2565,\tbest estimator rf's best error=20.2565\n",
            "INFO:flaml.automl: at 14.6s,\testimator rf's best error=20.2565,\tbest estimator rf's best error=20.2565\n",
            "[flaml.automl: 11-12 10:01:54] {3164} INFO - iteration 75, current learner xgb_limitdepth\n",
            "INFO:flaml.automl:iteration 75, current learner xgb_limitdepth\n",
            "[flaml.automl: 11-12 10:01:54] {3350} INFO -  at 15.1s,\testimator xgb_limitdepth's best error=20.4070,\tbest estimator rf's best error=20.2565\n",
            "INFO:flaml.automl: at 15.1s,\testimator xgb_limitdepth's best error=20.4070,\tbest estimator rf's best error=20.2565\n",
            "[flaml.automl: 11-12 10:01:54] {3164} INFO - iteration 76, current learner xgb_limitdepth\n",
            "INFO:flaml.automl:iteration 76, current learner xgb_limitdepth\n",
            "[flaml.automl: 11-12 10:01:54] {3350} INFO -  at 15.4s,\testimator xgb_limitdepth's best error=20.4070,\tbest estimator rf's best error=20.2565\n",
            "INFO:flaml.automl: at 15.4s,\testimator xgb_limitdepth's best error=20.4070,\tbest estimator rf's best error=20.2565\n",
            "[flaml.automl: 11-12 10:01:54] {3164} INFO - iteration 77, current learner xgb_limitdepth\n",
            "INFO:flaml.automl:iteration 77, current learner xgb_limitdepth\n",
            "[flaml.automl: 11-12 10:01:55] {3350} INFO -  at 16.0s,\testimator xgb_limitdepth's best error=20.4070,\tbest estimator rf's best error=20.2565\n",
            "INFO:flaml.automl: at 16.0s,\testimator xgb_limitdepth's best error=20.4070,\tbest estimator rf's best error=20.2565\n",
            "[flaml.automl: 11-12 10:01:55] {3164} INFO - iteration 78, current learner xgb_limitdepth\n",
            "INFO:flaml.automl:iteration 78, current learner xgb_limitdepth\n",
            "[flaml.automl: 11-12 10:01:55] {3350} INFO -  at 16.4s,\testimator xgb_limitdepth's best error=20.4070,\tbest estimator rf's best error=20.2565\n",
            "INFO:flaml.automl: at 16.4s,\testimator xgb_limitdepth's best error=20.4070,\tbest estimator rf's best error=20.2565\n",
            "[flaml.automl: 11-12 10:01:55] {3164} INFO - iteration 79, current learner xgb_limitdepth\n",
            "INFO:flaml.automl:iteration 79, current learner xgb_limitdepth\n",
            "[flaml.automl: 11-12 10:01:56] {3350} INFO -  at 16.9s,\testimator xgb_limitdepth's best error=20.4070,\tbest estimator rf's best error=20.2565\n",
            "INFO:flaml.automl: at 16.9s,\testimator xgb_limitdepth's best error=20.4070,\tbest estimator rf's best error=20.2565\n",
            "[flaml.automl: 11-12 10:01:56] {3164} INFO - iteration 80, current learner rf\n",
            "INFO:flaml.automl:iteration 80, current learner rf\n",
            "[flaml.automl: 11-12 10:01:56] {3350} INFO -  at 17.2s,\testimator rf's best error=20.2565,\tbest estimator rf's best error=20.2565\n",
            "INFO:flaml.automl: at 17.2s,\testimator rf's best error=20.2565,\tbest estimator rf's best error=20.2565\n",
            "[flaml.automl: 11-12 10:01:56] {3164} INFO - iteration 81, current learner xgb_limitdepth\n",
            "INFO:flaml.automl:iteration 81, current learner xgb_limitdepth\n",
            "[flaml.automl: 11-12 10:01:56] {3350} INFO -  at 17.4s,\testimator xgb_limitdepth's best error=20.4070,\tbest estimator rf's best error=20.2565\n",
            "INFO:flaml.automl: at 17.4s,\testimator xgb_limitdepth's best error=20.4070,\tbest estimator rf's best error=20.2565\n",
            "[flaml.automl: 11-12 10:01:56] {3164} INFO - iteration 82, current learner xgb_limitdepth\n",
            "INFO:flaml.automl:iteration 82, current learner xgb_limitdepth\n",
            "[flaml.automl: 11-12 10:01:57] {3350} INFO -  at 18.3s,\testimator xgb_limitdepth's best error=20.4070,\tbest estimator rf's best error=20.2565\n",
            "INFO:flaml.automl: at 18.3s,\testimator xgb_limitdepth's best error=20.4070,\tbest estimator rf's best error=20.2565\n",
            "[flaml.automl: 11-12 10:01:57] {3164} INFO - iteration 83, current learner xgb_limitdepth\n",
            "INFO:flaml.automl:iteration 83, current learner xgb_limitdepth\n",
            "[flaml.automl: 11-12 10:01:58] {3350} INFO -  at 18.9s,\testimator xgb_limitdepth's best error=20.4070,\tbest estimator rf's best error=20.2565\n",
            "INFO:flaml.automl: at 18.9s,\testimator xgb_limitdepth's best error=20.4070,\tbest estimator rf's best error=20.2565\n",
            "[flaml.automl: 11-12 10:01:58] {3164} INFO - iteration 84, current learner xgb_limitdepth\n",
            "INFO:flaml.automl:iteration 84, current learner xgb_limitdepth\n",
            "[flaml.automl: 11-12 10:01:58] {3350} INFO -  at 19.3s,\testimator xgb_limitdepth's best error=20.4070,\tbest estimator rf's best error=20.2565\n",
            "INFO:flaml.automl: at 19.3s,\testimator xgb_limitdepth's best error=20.4070,\tbest estimator rf's best error=20.2565\n",
            "[flaml.automl: 11-12 10:01:58] {3164} INFO - iteration 85, current learner xgb_limitdepth\n",
            "INFO:flaml.automl:iteration 85, current learner xgb_limitdepth\n",
            "[flaml.automl: 11-12 10:01:59] {3350} INFO -  at 19.8s,\testimator xgb_limitdepth's best error=20.4070,\tbest estimator rf's best error=20.2565\n",
            "INFO:flaml.automl: at 19.8s,\testimator xgb_limitdepth's best error=20.4070,\tbest estimator rf's best error=20.2565\n",
            "[flaml.automl: 11-12 10:01:59] {3164} INFO - iteration 86, current learner lgbm\n",
            "INFO:flaml.automl:iteration 86, current learner lgbm\n",
            "[flaml.automl: 11-12 10:01:59] {3350} INFO -  at 19.9s,\testimator lgbm's best error=20.2890,\tbest estimator rf's best error=20.2565\n",
            "INFO:flaml.automl: at 19.9s,\testimator lgbm's best error=20.2890,\tbest estimator rf's best error=20.2565\n",
            "[flaml.automl: 11-12 10:01:59] {3164} INFO - iteration 87, current learner lgbm\n",
            "INFO:flaml.automl:iteration 87, current learner lgbm\n",
            "[flaml.automl: 11-12 10:01:59] {3350} INFO -  at 20.0s,\testimator lgbm's best error=20.2883,\tbest estimator rf's best error=20.2565\n",
            "INFO:flaml.automl: at 20.0s,\testimator lgbm's best error=20.2883,\tbest estimator rf's best error=20.2565\n",
            "[flaml.automl: 11-12 10:01:59] {3610} INFO - retrain rf for 0.3s\n",
            "INFO:flaml.automl:retrain rf for 0.3s\n",
            "[flaml.automl: 11-12 10:01:59] {3615} INFO - retrained model: RandomForestRegressor(max_features=0.1, max_leaf_nodes=16, n_estimators=8,\n",
            "                      n_jobs=-1)\n",
            "INFO:flaml.automl:retrained model: RandomForestRegressor(max_features=0.1, max_leaf_nodes=16, n_estimators=8,\n",
            "                      n_jobs=-1)\n",
            "[flaml.automl: 11-12 10:01:59] {2900} INFO - fit succeeded\n",
            "INFO:flaml.automl:fit succeeded\n",
            "[flaml.automl: 11-12 10:01:59] {2902} INFO - Time taken to find the best model: 14.624692916870117\n",
            "INFO:flaml.automl:Time taken to find the best model: 14.624692916870117\n",
            "[flaml.automl: 11-12 10:01:59] {2916} WARNING - Time taken to find the best model is 73% of the provided time budget and not all estimators' hyperparameter search converged. Consider increasing the time budget.\n",
            "WARNING:flaml.automl:Time taken to find the best model is 73% of the provided time budget and not all estimators' hyperparameter search converged. Consider increasing the time budget.\n"
          ]
        }
      ],
      "source": [
        "!pip install flaml\n",
        "from sklearn.model_selection import train_test_split\n",
        "from flaml import AutoML\n",
        "model = AutoML()\n",
        "model.fit(X,Y, metric='rmse', task='regression', time_budget=20)"
      ]
    },
    {
      "cell_type": "code",
      "execution_count": 64,
      "metadata": {
        "id": "tEGIQidZFygS",
        "colab": {
          "base_uri": "https://localhost:8080/"
        },
        "outputId": "59e775f6-4b91-40f0-bb50-47480de4394b"
      },
      "outputs": [
        {
          "output_type": "stream",
          "name": "stdout",
          "text": [
            "Best ML Model:  rf\n",
            "Best hyperparmeter config:  {'n_estimators': 8, 'max_leaves': 16, 'max_features': 0.1}\n",
            "Best accuracy on validation data: -19.256545\n",
            "Training duration of best run: 0.317936 s\n"
          ]
        }
      ],
      "source": [
        "print('Best ML Model: ', model.best_estimator)\n",
        "print('Best hyperparmeter config: ', model.best_config)\n",
        "print('Best accuracy on validation data: %f' %(1 - model.best_loss))\n",
        "print('Training duration of best run: %f s'%(model.best_config_train_time))"
      ]
    },
    {
      "cell_type": "code",
      "execution_count": 65,
      "metadata": {
        "id": "N-kE1GsUF10V"
      },
      "outputs": [],
      "source": [
        "parameters=model.best_config"
      ]
    },
    {
      "cell_type": "code",
      "execution_count": 66,
      "metadata": {
        "id": "sMrwKYP1GTRf",
        "colab": {
          "base_uri": "https://localhost:8080/"
        },
        "outputId": "4a5fb673-b3fa-4c54-8fb2-dbb3908a7d43"
      },
      "outputs": [
        {
          "output_type": "stream",
          "name": "stdout",
          "text": [
            "{'n_estimators': 8, 'max_leaves': 16, 'max_features': 0.1}\n"
          ]
        }
      ],
      "source": [
        "print(parameters)"
      ]
    },
    {
      "cell_type": "code",
      "execution_count": 67,
      "metadata": {
        "id": "-6GrjuZ8J0Rs"
      },
      "outputs": [],
      "source": [
        "\n",
        "from sklearn import preprocessing \n",
        "lab_enc = preprocessing.LabelEncoder()\n",
        "X.iloc[:,2]=lab_enc.fit_transform(X.iloc[:, 2])\n"
      ]
    },
    {
      "cell_type": "code",
      "execution_count": 68,
      "metadata": {
        "colab": {
          "base_uri": "https://localhost:8080/",
          "height": 270
        },
        "id": "A8YPjm-fM2tD",
        "outputId": "98dab8d4-2b43-44ef-e272-bf19d657d419"
      },
      "outputs": [
        {
          "output_type": "execute_result",
          "data": {
            "text/plain": [
              "   trip_distance  rate_code  store_and_fwd_flag  payment_type  fare_amount  \\\n",
              "0           9.01          1                   0             1         26.0   \n",
              "1           0.20          1                   0             1          3.0   \n",
              "2           9.65          1                   0             1         41.5   \n",
              "3           9.50          1                   0             1         30.0   \n",
              "4           5.80          1                   0             1         21.5   \n",
              "\n",
              "   extra  mta_tax  tip_amount  tolls_amount  imp_surcharge  total_amount  \\\n",
              "0    0.0      0.5        8.14          5.76            0.3         40.70   \n",
              "1    0.0      0.5        0.75          0.00            0.3          4.55   \n",
              "2    0.0      0.5        9.61          5.76            0.3         57.67   \n",
              "3    0.5      0.5        9.25          5.76            0.3         46.31   \n",
              "4    0.5      0.5        4.56          0.00            0.3         27.36   \n",
              "\n",
              "   pickup_location_id  dropoff_location_id  year  month  day  day_of_week  \\\n",
              "0                 262                  138  2018      3    7            2   \n",
              "1                 263                  236  2018      2   25            6   \n",
              "2                 138                  230  2018      1   29            0   \n",
              "3                 186                  138  2018      9   25            1   \n",
              "4                 162                   87  2018      8   20            0   \n",
              "\n",
              "   hour_of_day  trip_duration  \n",
              "0            6         2131.0  \n",
              "1           10         2377.0  \n",
              "2            8         1286.0  \n",
              "3           20         2586.0  \n",
              "4           21         1575.0  "
            ],
            "text/html": [
              "\n",
              "  <div id=\"df-f357c392-0f23-4ed6-9eab-78ec8bcb0e76\">\n",
              "    <div class=\"colab-df-container\">\n",
              "      <div>\n",
              "<style scoped>\n",
              "    .dataframe tbody tr th:only-of-type {\n",
              "        vertical-align: middle;\n",
              "    }\n",
              "\n",
              "    .dataframe tbody tr th {\n",
              "        vertical-align: top;\n",
              "    }\n",
              "\n",
              "    .dataframe thead th {\n",
              "        text-align: right;\n",
              "    }\n",
              "</style>\n",
              "<table border=\"1\" class=\"dataframe\">\n",
              "  <thead>\n",
              "    <tr style=\"text-align: right;\">\n",
              "      <th></th>\n",
              "      <th>trip_distance</th>\n",
              "      <th>rate_code</th>\n",
              "      <th>store_and_fwd_flag</th>\n",
              "      <th>payment_type</th>\n",
              "      <th>fare_amount</th>\n",
              "      <th>extra</th>\n",
              "      <th>mta_tax</th>\n",
              "      <th>tip_amount</th>\n",
              "      <th>tolls_amount</th>\n",
              "      <th>imp_surcharge</th>\n",
              "      <th>total_amount</th>\n",
              "      <th>pickup_location_id</th>\n",
              "      <th>dropoff_location_id</th>\n",
              "      <th>year</th>\n",
              "      <th>month</th>\n",
              "      <th>day</th>\n",
              "      <th>day_of_week</th>\n",
              "      <th>hour_of_day</th>\n",
              "      <th>trip_duration</th>\n",
              "    </tr>\n",
              "  </thead>\n",
              "  <tbody>\n",
              "    <tr>\n",
              "      <th>0</th>\n",
              "      <td>9.01</td>\n",
              "      <td>1</td>\n",
              "      <td>0</td>\n",
              "      <td>1</td>\n",
              "      <td>26.0</td>\n",
              "      <td>0.0</td>\n",
              "      <td>0.5</td>\n",
              "      <td>8.14</td>\n",
              "      <td>5.76</td>\n",
              "      <td>0.3</td>\n",
              "      <td>40.70</td>\n",
              "      <td>262</td>\n",
              "      <td>138</td>\n",
              "      <td>2018</td>\n",
              "      <td>3</td>\n",
              "      <td>7</td>\n",
              "      <td>2</td>\n",
              "      <td>6</td>\n",
              "      <td>2131.0</td>\n",
              "    </tr>\n",
              "    <tr>\n",
              "      <th>1</th>\n",
              "      <td>0.20</td>\n",
              "      <td>1</td>\n",
              "      <td>0</td>\n",
              "      <td>1</td>\n",
              "      <td>3.0</td>\n",
              "      <td>0.0</td>\n",
              "      <td>0.5</td>\n",
              "      <td>0.75</td>\n",
              "      <td>0.00</td>\n",
              "      <td>0.3</td>\n",
              "      <td>4.55</td>\n",
              "      <td>263</td>\n",
              "      <td>236</td>\n",
              "      <td>2018</td>\n",
              "      <td>2</td>\n",
              "      <td>25</td>\n",
              "      <td>6</td>\n",
              "      <td>10</td>\n",
              "      <td>2377.0</td>\n",
              "    </tr>\n",
              "    <tr>\n",
              "      <th>2</th>\n",
              "      <td>9.65</td>\n",
              "      <td>1</td>\n",
              "      <td>0</td>\n",
              "      <td>1</td>\n",
              "      <td>41.5</td>\n",
              "      <td>0.0</td>\n",
              "      <td>0.5</td>\n",
              "      <td>9.61</td>\n",
              "      <td>5.76</td>\n",
              "      <td>0.3</td>\n",
              "      <td>57.67</td>\n",
              "      <td>138</td>\n",
              "      <td>230</td>\n",
              "      <td>2018</td>\n",
              "      <td>1</td>\n",
              "      <td>29</td>\n",
              "      <td>0</td>\n",
              "      <td>8</td>\n",
              "      <td>1286.0</td>\n",
              "    </tr>\n",
              "    <tr>\n",
              "      <th>3</th>\n",
              "      <td>9.50</td>\n",
              "      <td>1</td>\n",
              "      <td>0</td>\n",
              "      <td>1</td>\n",
              "      <td>30.0</td>\n",
              "      <td>0.5</td>\n",
              "      <td>0.5</td>\n",
              "      <td>9.25</td>\n",
              "      <td>5.76</td>\n",
              "      <td>0.3</td>\n",
              "      <td>46.31</td>\n",
              "      <td>186</td>\n",
              "      <td>138</td>\n",
              "      <td>2018</td>\n",
              "      <td>9</td>\n",
              "      <td>25</td>\n",
              "      <td>1</td>\n",
              "      <td>20</td>\n",
              "      <td>2586.0</td>\n",
              "    </tr>\n",
              "    <tr>\n",
              "      <th>4</th>\n",
              "      <td>5.80</td>\n",
              "      <td>1</td>\n",
              "      <td>0</td>\n",
              "      <td>1</td>\n",
              "      <td>21.5</td>\n",
              "      <td>0.5</td>\n",
              "      <td>0.5</td>\n",
              "      <td>4.56</td>\n",
              "      <td>0.00</td>\n",
              "      <td>0.3</td>\n",
              "      <td>27.36</td>\n",
              "      <td>162</td>\n",
              "      <td>87</td>\n",
              "      <td>2018</td>\n",
              "      <td>8</td>\n",
              "      <td>20</td>\n",
              "      <td>0</td>\n",
              "      <td>21</td>\n",
              "      <td>1575.0</td>\n",
              "    </tr>\n",
              "  </tbody>\n",
              "</table>\n",
              "</div>\n",
              "      <button class=\"colab-df-convert\" onclick=\"convertToInteractive('df-f357c392-0f23-4ed6-9eab-78ec8bcb0e76')\"\n",
              "              title=\"Convert this dataframe to an interactive table.\"\n",
              "              style=\"display:none;\">\n",
              "        \n",
              "  <svg xmlns=\"http://www.w3.org/2000/svg\" height=\"24px\"viewBox=\"0 0 24 24\"\n",
              "       width=\"24px\">\n",
              "    <path d=\"M0 0h24v24H0V0z\" fill=\"none\"/>\n",
              "    <path d=\"M18.56 5.44l.94 2.06.94-2.06 2.06-.94-2.06-.94-.94-2.06-.94 2.06-2.06.94zm-11 1L8.5 8.5l.94-2.06 2.06-.94-2.06-.94L8.5 2.5l-.94 2.06-2.06.94zm10 10l.94 2.06.94-2.06 2.06-.94-2.06-.94-.94-2.06-.94 2.06-2.06.94z\"/><path d=\"M17.41 7.96l-1.37-1.37c-.4-.4-.92-.59-1.43-.59-.52 0-1.04.2-1.43.59L10.3 9.45l-7.72 7.72c-.78.78-.78 2.05 0 2.83L4 21.41c.39.39.9.59 1.41.59.51 0 1.02-.2 1.41-.59l7.78-7.78 2.81-2.81c.8-.78.8-2.07 0-2.86zM5.41 20L4 18.59l7.72-7.72 1.47 1.35L5.41 20z\"/>\n",
              "  </svg>\n",
              "      </button>\n",
              "      \n",
              "  <style>\n",
              "    .colab-df-container {\n",
              "      display:flex;\n",
              "      flex-wrap:wrap;\n",
              "      gap: 12px;\n",
              "    }\n",
              "\n",
              "    .colab-df-convert {\n",
              "      background-color: #E8F0FE;\n",
              "      border: none;\n",
              "      border-radius: 50%;\n",
              "      cursor: pointer;\n",
              "      display: none;\n",
              "      fill: #1967D2;\n",
              "      height: 32px;\n",
              "      padding: 0 0 0 0;\n",
              "      width: 32px;\n",
              "    }\n",
              "\n",
              "    .colab-df-convert:hover {\n",
              "      background-color: #E2EBFA;\n",
              "      box-shadow: 0px 1px 2px rgba(60, 64, 67, 0.3), 0px 1px 3px 1px rgba(60, 64, 67, 0.15);\n",
              "      fill: #174EA6;\n",
              "    }\n",
              "\n",
              "    [theme=dark] .colab-df-convert {\n",
              "      background-color: #3B4455;\n",
              "      fill: #D2E3FC;\n",
              "    }\n",
              "\n",
              "    [theme=dark] .colab-df-convert:hover {\n",
              "      background-color: #434B5C;\n",
              "      box-shadow: 0px 1px 3px 1px rgba(0, 0, 0, 0.15);\n",
              "      filter: drop-shadow(0px 1px 2px rgba(0, 0, 0, 0.3));\n",
              "      fill: #FFFFFF;\n",
              "    }\n",
              "  </style>\n",
              "\n",
              "      <script>\n",
              "        const buttonEl =\n",
              "          document.querySelector('#df-f357c392-0f23-4ed6-9eab-78ec8bcb0e76 button.colab-df-convert');\n",
              "        buttonEl.style.display =\n",
              "          google.colab.kernel.accessAllowed ? 'block' : 'none';\n",
              "\n",
              "        async function convertToInteractive(key) {\n",
              "          const element = document.querySelector('#df-f357c392-0f23-4ed6-9eab-78ec8bcb0e76');\n",
              "          const dataTable =\n",
              "            await google.colab.kernel.invokeFunction('convertToInteractive',\n",
              "                                                     [key], {});\n",
              "          if (!dataTable) return;\n",
              "\n",
              "          const docLinkHtml = 'Like what you see? Visit the ' +\n",
              "            '<a target=\"_blank\" href=https://colab.research.google.com/notebooks/data_table.ipynb>data table notebook</a>'\n",
              "            + ' to learn more about interactive tables.';\n",
              "          element.innerHTML = '';\n",
              "          dataTable['output_type'] = 'display_data';\n",
              "          await google.colab.output.renderOutput(dataTable, element);\n",
              "          const docLink = document.createElement('div');\n",
              "          docLink.innerHTML = docLinkHtml;\n",
              "          element.appendChild(docLink);\n",
              "        }\n",
              "      </script>\n",
              "    </div>\n",
              "  </div>\n",
              "  "
            ]
          },
          "metadata": {},
          "execution_count": 68
        }
      ],
      "source": [
        "X.head()"
      ]
    },
    {
      "cell_type": "code",
      "execution_count": 69,
      "metadata": {
        "id": "JvWf9cN3hGMo",
        "colab": {
          "base_uri": "https://localhost:8080/"
        },
        "outputId": "e213448d-f0de-4cb6-f15b-810515eced9e"
      },
      "outputs": [
        {
          "output_type": "stream",
          "name": "stdout",
          "text": [
            "(35000, 19)\n"
          ]
        }
      ],
      "source": [
        "from sklearn import preprocessing \n",
        "X_n=preprocessing.normalize(X)\n",
        "print(X_n.shape)"
      ]
    },
    {
      "cell_type": "code",
      "execution_count": 70,
      "metadata": {
        "id": "CWlC3EaVka9_"
      },
      "outputs": [],
      "source": [
        "from sklearn.model_selection import train_test_split\n",
        "from sklearn.metrics import mean_squared_error\n",
        "\n",
        "X_train, X_test, y_train, y_test = train_test_split(X, Y, test_size = 0.2, random_state = 42)"
      ]
    },
    {
      "cell_type": "code",
      "source": [
        "from sklearn import preprocessing \n",
        "lab_enc = preprocessing.LabelEncoder()\n",
        "X_tst=test_data\n",
        "X_tst.iloc[:,2]=lab_enc.fit_transform(X_tst.iloc[:,2])"
      ],
      "metadata": {
        "id": "bMQYlexFk8i0"
      },
      "execution_count": 71,
      "outputs": []
    },
    {
      "cell_type": "code",
      "execution_count": 72,
      "metadata": {
        "id": "dil1h7vvhGRW",
        "colab": {
          "base_uri": "https://localhost:8080/"
        },
        "outputId": "581cb1d3-365c-4b2a-8789-c2f92a43aacf"
      },
      "outputs": [
        {
          "output_type": "stream",
          "name": "stdout",
          "text": [
            "[10:01:59] WARNING: /workspace/src/objective/regression_obj.cu:152: reg:linear is now deprecated in favor of reg:squarederror.\n",
            "RMSE: 20.314516594648516\n"
          ]
        }
      ],
      "source": [
        "#-------------Best_Final\n",
        "#---Consider This XG model as this is best and run ignore remaining models \n",
        "import xgboost as xg\n",
        "mod = xg.XGBRFRegressor()\n",
        "\n",
        "mod = mod.fit(X,Y)\n",
        "rmse=mod.predict(X_test)\n",
        "predictions = mod.predict(X_tst)\n",
        "from sklearn.metrics import mean_squared_error\n",
        "# rmse\n",
        "print('RMSE:', np.sqrt(mean_squared_error(y_test, rmse)))"
      ]
    },
    {
      "cell_type": "code",
      "source": [
        "#---run this to give predictions\n",
        "XG_pred=pd.DataFrame(predictions)\n",
        "XG_pred.rename(columns = {0:'calculated_total_amount'}, inplace = True)\n",
        "print(XG_pred.columns)\n",
        "XG_pred.to_csv(\"XG_Final_1.csv\",index=False)"
      ],
      "metadata": {
        "colab": {
          "base_uri": "https://localhost:8080/"
        },
        "id": "RunBieVrjN7O",
        "outputId": "1e10fedc-a12b-46c7-83ef-04044bfa418a"
      },
      "execution_count": 73,
      "outputs": [
        {
          "output_type": "stream",
          "name": "stdout",
          "text": [
            "Index(['calculated_total_amount'], dtype='object')\n"
          ]
        }
      ]
    },
    {
      "cell_type": "code",
      "execution_count": 74,
      "metadata": {
        "id": "p0azbBp6GYGe",
        "colab": {
          "base_uri": "https://localhost:8080/"
        },
        "outputId": "4bcda6df-ff19-4dfb-ddfb-d4621c0f5c8b"
      },
      "outputs": [
        {
          "output_type": "execute_result",
          "data": {
            "text/plain": [
              "LGBMRegressor(min_child_samples=26, n_estimators=28, num_leaves=5)"
            ]
          },
          "metadata": {},
          "execution_count": 74
        }
      ],
      "source": [
        "import lightgbm as lgb\n",
        "model_lgbm= lgb.LGBMRegressor(num_leaves=5, n_estimators=28, min_child_samples= 26)\n",
        "model_lgbm.fit(X,Y)"
      ]
    },
    {
      "cell_type": "code",
      "execution_count": 75,
      "metadata": {
        "id": "I70W7VFgQ-Xp",
        "colab": {
          "base_uri": "https://localhost:8080/"
        },
        "outputId": "8b1abb0c-1b7c-4b71-9d50-dd2f15014b39"
      },
      "outputs": [
        {
          "output_type": "stream",
          "name": "stderr",
          "text": [
            "/usr/local/lib/python3.7/dist-packages/sklearn/model_selection/_validation.py:372: FitFailedWarning: \n",
            "5 fits failed out of a total of 50.\n",
            "The score on these train-test partitions for these parameters will be set to nan.\n",
            "If these failures are not expected, you can try to debug them by setting error_score='raise'.\n",
            "\n",
            "Below are more details about the failures:\n",
            "--------------------------------------------------------------------------------\n",
            "5 fits failed with the following error:\n",
            "Traceback (most recent call last):\n",
            "  File \"/usr/local/lib/python3.7/dist-packages/sklearn/model_selection/_validation.py\", line 680, in _fit_and_score\n",
            "    estimator.fit(X_train, y_train, **fit_params)\n",
            "  File \"/usr/local/lib/python3.7/dist-packages/lightgbm/sklearn.py\", line 899, in fit\n",
            "    categorical_feature=categorical_feature, callbacks=callbacks, init_model=init_model)\n",
            "  File \"/usr/local/lib/python3.7/dist-packages/lightgbm/sklearn.py\", line 758, in fit\n",
            "    callbacks=callbacks\n",
            "  File \"/usr/local/lib/python3.7/dist-packages/lightgbm/engine.py\", line 271, in train\n",
            "    booster = Booster(params=params, train_set=train_set)\n",
            "  File \"/usr/local/lib/python3.7/dist-packages/lightgbm/basic.py\", line 2605, in __init__\n",
            "    train_set.construct()\n",
            "  File \"/usr/local/lib/python3.7/dist-packages/lightgbm/basic.py\", line 1819, in construct\n",
            "    categorical_feature=self.categorical_feature, params=self.params)\n",
            "  File \"/usr/local/lib/python3.7/dist-packages/lightgbm/basic.py\", line 1538, in _lazy_init\n",
            "    self.__init_from_np2d(data, params_str, ref_dataset)\n",
            "  File \"/usr/local/lib/python3.7/dist-packages/lightgbm/basic.py\", line 1667, in __init_from_np2d\n",
            "    ctypes.byref(self.handle)))\n",
            "  File \"/usr/local/lib/python3.7/dist-packages/lightgbm/basic.py\", line 125, in _safe_call\n",
            "    raise LightGBMError(_LIB.LGBM_GetLastError().decode('utf-8'))\n",
            "lightgbm.basic.LightGBMError: Check failed: (num_leaves) > (1) at /__w/1/s/python-package/compile/src/io/config_auto.cpp, line 334 .\n",
            "\n",
            "\n",
            "  warnings.warn(some_fits_failed_message, FitFailedWarning)\n",
            "/usr/local/lib/python3.7/dist-packages/sklearn/model_selection/_search.py:972: UserWarning: One or more of the test scores are non-finite: [-19.13726097 -19.15426661 -19.13442005 -19.16135332 -19.16422014\n",
            " -19.16364994 -19.14034646 -19.17553596          nan -19.16880861]\n",
            "  category=UserWarning,\n"
          ]
        },
        {
          "output_type": "execute_result",
          "data": {
            "text/plain": [
              "RandomizedSearchCV(estimator=LGBMRegressor(min_child_samples=26,\n",
              "                                           n_estimators=28, num_leaves=5),\n",
              "                   param_distributions={'min_child_samples': [0, 1, 2, 3, 4, 5,\n",
              "                                                              6, 7, 8, 9, 10,\n",
              "                                                              11, 12, 13, 14,\n",
              "                                                              15, 16, 17, 18,\n",
              "                                                              19, 20, 21, 22,\n",
              "                                                              23, 24, 25, 26,\n",
              "                                                              27, 28, 29, ...],\n",
              "                                        'n_estimators': [0, 1, 2, 3, 4, 5, 6, 7,\n",
              "                                                         8, 9, 10, 11, 12, 13,\n",
              "                                                         14, 15, 16, 17, 18, 19,\n",
              "                                                         20, 21, 22, 23, 24, 25,\n",
              "                                                         26, 27, 28, 29, ...],\n",
              "                                        'num_leaves': [0, 1, 2, 3, 4, 5, 6, 7,\n",
              "                                                       8, 9]},\n",
              "                   scoring='neg_root_mean_squared_error')"
            ]
          },
          "metadata": {},
          "execution_count": 75
        }
      ],
      "source": [
        "import sklearn.metrics\n",
        "from sklearn.model_selection import RandomizedSearchCV\n",
        "param={\"min_child_samples\" : list(range(50)),\"n_estimators\" : list(range(200)),\"num_leaves\" : list(range(0,10))}\n",
        "clf=RandomizedSearchCV(model_lgbm,param,scoring=\"neg_root_mean_squared_error\") \n",
        "clf.fit(X,Y)"
      ]
    },
    {
      "cell_type": "code",
      "execution_count": 76,
      "metadata": {
        "id": "rFyy4V5zRV_6",
        "colab": {
          "base_uri": "https://localhost:8080/"
        },
        "outputId": "01171c60-f3db-4dc0-ea4f-2777c453049e"
      },
      "outputs": [
        {
          "output_type": "stream",
          "name": "stdout",
          "text": [
            "{'num_leaves': 3, 'n_estimators': 71, 'min_child_samples': 33}\n",
            "-19.13442004504836\n"
          ]
        }
      ],
      "source": [
        "print(clf.best_params_)\n",
        "print(clf.best_score_)\n"
      ]
    },
    {
      "cell_type": "code",
      "execution_count": 77,
      "metadata": {
        "id": "-XVBDL3mPNB6"
      },
      "outputs": [],
      "source": [
        "from sklearn import preprocessing \n",
        "lab_enc = preprocessing.LabelEncoder()\n",
        "X_tst=test_data\n",
        "X_tst.iloc[:,2]=lab_enc.fit_transform(X_tst.iloc[:,2])"
      ]
    },
    {
      "cell_type": "code",
      "execution_count": 78,
      "metadata": {
        "id": "936OLz-pyJsb"
      },
      "outputs": [],
      "source": [
        "from sklearn.model_selection import train_test_split\n",
        "from sklearn.metrics import mean_squared_error\n",
        "\n",
        "X_train, X_test, y_train, y_test = train_test_split(X, Y, test_size = 0.2, random_state = 42)"
      ]
    },
    {
      "cell_type": "code",
      "execution_count": 79,
      "metadata": {
        "id": "-RR4FvHkHMfu"
      },
      "outputs": [],
      "source": [
        "from sklearn import preprocessing\n",
        " #predict the results\n",
        "y_rmse_lgbm=model_lgbm.predict(X_test)\n",
        "y_pred=model_lgbm.predict(X_tst)"
      ]
    },
    {
      "cell_type": "code",
      "execution_count": 80,
      "metadata": {
        "id": "ZJK3KdwPSDnq",
        "colab": {
          "base_uri": "https://localhost:8080/"
        },
        "outputId": "1af3f006-bf30-4817-a996-75def34b9d53"
      },
      "outputs": [
        {
          "output_type": "stream",
          "name": "stdout",
          "text": [
            "RMSE :  20.27128397698109\n"
          ]
        }
      ],
      "source": [
        "from sklearn.metrics import mean_squared_error\n",
        "print(\"RMSE : \", np.sqrt(mean_squared_error(y_test,y_rmse_lgbm)))"
      ]
    },
    {
      "cell_type": "code",
      "execution_count": 81,
      "metadata": {
        "id": "DUpyM65RSI2Y"
      },
      "outputs": [],
      "source": [
        "LGBM_TAXI=pd.DataFrame(y_pred)\n",
        "LGBM_TAXI.rename(columns = {0:'calculated_total_amount'}, inplace = True)\n",
        "LGBM_TAXI.to_csv(\"LGBM_TAXI_14.csv\",index=False)"
      ]
    },
    {
      "cell_type": "code",
      "execution_count": 82,
      "metadata": {
        "id": "1dDvL5DbVnEi",
        "colab": {
          "base_uri": "https://localhost:8080/"
        },
        "outputId": "f6fe973d-793f-4a55-86d2-73327c53d4b4"
      },
      "outputs": [
        {
          "output_type": "execute_result",
          "data": {
            "text/plain": [
              "RandomForestRegressor(max_features=0.923187219673215, max_leaf_nodes=16,\n",
              "                      n_estimators=4)"
            ]
          },
          "metadata": {},
          "execution_count": 82
        }
      ],
      "source": [
        "#-------------------------------Random Forest---------#\n",
        "from sklearn.ensemble import RandomForestRegressor\n",
        "rfmodel=RandomForestRegressor(n_estimators= 4, max_features= 0.923187219673215, max_leaf_nodes= 16)\n",
        "rfmodel.fit(X,Y)"
      ]
    },
    {
      "cell_type": "code",
      "execution_count": 83,
      "metadata": {
        "id": "8qbVRftnWy2I"
      },
      "outputs": [],
      "source": [
        "y_rf_pred=rfmodel.predict(X_tst)"
      ]
    },
    {
      "cell_type": "code",
      "execution_count": 84,
      "metadata": {
        "id": "5SwfbxGBWv5o"
      },
      "outputs": [],
      "source": [
        "RF_TAXI=pd.DataFrame(y_rf_pred)\n",
        "RF_TAXI.to_csv(\"RF_TAXI_1.csv\")"
      ]
    },
    {
      "cell_type": "code",
      "execution_count": 85,
      "metadata": {
        "id": "0IKcDqUUjZR2"
      },
      "outputs": [],
      "source": [
        "#------------------XGBOOST-------------------#"
      ]
    },
    {
      "cell_type": "code",
      "execution_count": 86,
      "metadata": {
        "id": "g3OLTggWjbpS",
        "colab": {
          "base_uri": "https://localhost:8080/"
        },
        "outputId": "434673af-f327-4e33-d132-cda281ce7dab"
      },
      "outputs": [
        {
          "output_type": "stream",
          "name": "stdout",
          "text": [
            "[10:02:12] WARNING: /workspace/src/objective/regression_obj.cu:152: reg:linear is now deprecated in favor of reg:squarederror.\n"
          ]
        },
        {
          "output_type": "execute_result",
          "data": {
            "text/plain": [
              "XGBRegressor(max_depth=4, n_estimators=147, reg_lambda=4)"
            ]
          },
          "metadata": {},
          "execution_count": 86
        }
      ],
      "source": [
        "from xgboost import XGBRegressor\n",
        "xgmodel=XGBRegressor(reg_lambda= 4,n_estimators= 147,max_depth=4)\n",
        "xgmodel.fit(X_train,y_train)"
      ]
    },
    {
      "cell_type": "code",
      "source": [
        "import sklearn.metrics\n",
        "from sklearn.model_selection import RandomizedSearchCV\n",
        "param={\"max_depth\" : list(range(30)),\"n_estimators\" : list(range(200)),\"reg_lambda\" : list(range(0,5))}\n",
        "clf=RandomizedSearchCV(xgmodel,param,cv=3,scoring=\"neg_root_mean_squared_error\")\n",
        "clf.fit(X_train,y_train)"
      ],
      "metadata": {
        "id": "i-xR30szr77N",
        "colab": {
          "base_uri": "https://localhost:8080/"
        },
        "outputId": "47416ead-3e36-4d23-a9e1-827c48c5da7a"
      },
      "execution_count": 87,
      "outputs": [
        {
          "output_type": "stream",
          "name": "stdout",
          "text": [
            "[10:02:15] WARNING: /workspace/src/objective/regression_obj.cu:152: reg:linear is now deprecated in favor of reg:squarederror.\n",
            "[10:02:52] WARNING: /workspace/src/objective/regression_obj.cu:152: reg:linear is now deprecated in favor of reg:squarederror.\n",
            "[10:03:17] WARNING: /workspace/src/objective/regression_obj.cu:152: reg:linear is now deprecated in favor of reg:squarederror.\n",
            "[10:03:44] WARNING: /workspace/src/objective/regression_obj.cu:152: reg:linear is now deprecated in favor of reg:squarederror.\n",
            "[10:03:49] WARNING: /workspace/src/objective/regression_obj.cu:152: reg:linear is now deprecated in favor of reg:squarederror.\n",
            "[10:03:54] WARNING: /workspace/src/objective/regression_obj.cu:152: reg:linear is now deprecated in favor of reg:squarederror.\n",
            "[10:03:59] WARNING: /workspace/src/objective/regression_obj.cu:152: reg:linear is now deprecated in favor of reg:squarederror.\n",
            "[10:04:23] WARNING: /workspace/src/objective/regression_obj.cu:152: reg:linear is now deprecated in favor of reg:squarederror.\n",
            "[10:04:48] WARNING: /workspace/src/objective/regression_obj.cu:152: reg:linear is now deprecated in favor of reg:squarederror.\n",
            "[10:05:15] WARNING: /workspace/src/objective/regression_obj.cu:152: reg:linear is now deprecated in favor of reg:squarederror.\n",
            "[10:05:20] WARNING: /workspace/src/objective/regression_obj.cu:152: reg:linear is now deprecated in favor of reg:squarederror.\n",
            "[10:05:25] WARNING: /workspace/src/objective/regression_obj.cu:152: reg:linear is now deprecated in favor of reg:squarederror.\n",
            "[10:05:30] WARNING: /workspace/src/objective/regression_obj.cu:152: reg:linear is now deprecated in favor of reg:squarederror.\n",
            "[10:05:54] WARNING: /workspace/src/objective/regression_obj.cu:152: reg:linear is now deprecated in favor of reg:squarederror.\n",
            "[10:06:17] WARNING: /workspace/src/objective/regression_obj.cu:152: reg:linear is now deprecated in favor of reg:squarederror.\n",
            "[10:06:42] WARNING: /workspace/src/objective/regression_obj.cu:152: reg:linear is now deprecated in favor of reg:squarederror.\n",
            "[10:06:42] WARNING: /workspace/src/objective/regression_obj.cu:152: reg:linear is now deprecated in favor of reg:squarederror.\n",
            "[10:06:43] WARNING: /workspace/src/objective/regression_obj.cu:152: reg:linear is now deprecated in favor of reg:squarederror.\n",
            "[10:06:43] WARNING: /workspace/src/objective/regression_obj.cu:152: reg:linear is now deprecated in favor of reg:squarederror.\n",
            "[10:06:43] WARNING: /workspace/src/objective/regression_obj.cu:152: reg:linear is now deprecated in favor of reg:squarederror.\n",
            "[10:06:43] WARNING: /workspace/src/objective/regression_obj.cu:152: reg:linear is now deprecated in favor of reg:squarederror.\n",
            "[10:06:43] WARNING: /workspace/src/objective/regression_obj.cu:152: reg:linear is now deprecated in favor of reg:squarederror.\n",
            "[10:06:46] WARNING: /workspace/src/objective/regression_obj.cu:152: reg:linear is now deprecated in favor of reg:squarederror.\n",
            "[10:06:48] WARNING: /workspace/src/objective/regression_obj.cu:152: reg:linear is now deprecated in favor of reg:squarederror.\n",
            "[10:06:51] WARNING: /workspace/src/objective/regression_obj.cu:152: reg:linear is now deprecated in favor of reg:squarederror.\n",
            "[10:07:02] WARNING: /workspace/src/objective/regression_obj.cu:152: reg:linear is now deprecated in favor of reg:squarederror.\n",
            "[10:07:13] WARNING: /workspace/src/objective/regression_obj.cu:152: reg:linear is now deprecated in favor of reg:squarederror.\n",
            "[10:07:24] WARNING: /workspace/src/objective/regression_obj.cu:152: reg:linear is now deprecated in favor of reg:squarederror.\n",
            "[10:07:33] WARNING: /workspace/src/objective/regression_obj.cu:152: reg:linear is now deprecated in favor of reg:squarederror.\n",
            "[10:07:42] WARNING: /workspace/src/objective/regression_obj.cu:152: reg:linear is now deprecated in favor of reg:squarederror.\n",
            "[10:07:54] WARNING: /workspace/src/objective/regression_obj.cu:152: reg:linear is now deprecated in favor of reg:squarederror.\n"
          ]
        },
        {
          "output_type": "execute_result",
          "data": {
            "text/plain": [
              "RandomizedSearchCV(cv=3,\n",
              "                   estimator=XGBRegressor(max_depth=4, n_estimators=147,\n",
              "                                          reg_lambda=4),\n",
              "                   param_distributions={'max_depth': [0, 1, 2, 3, 4, 5, 6, 7, 8,\n",
              "                                                      9, 10, 11, 12, 13, 14, 15,\n",
              "                                                      16, 17, 18, 19, 20, 21,\n",
              "                                                      22, 23, 24, 25, 26, 27,\n",
              "                                                      28, 29],\n",
              "                                        'n_estimators': [0, 1, 2, 3, 4, 5, 6, 7,\n",
              "                                                         8, 9, 10, 11, 12, 13,\n",
              "                                                         14, 15, 16, 17, 18, 19,\n",
              "                                                         20, 21, 22, 23, 24, 25,\n",
              "                                                         26, 27, 28, 29, ...],\n",
              "                                        'reg_lambda': [0, 1, 2, 3, 4]},\n",
              "                   scoring='neg_root_mean_squared_error')"
            ]
          },
          "metadata": {},
          "execution_count": 87
        }
      ]
    },
    {
      "cell_type": "code",
      "source": [
        "print(clf.best_params_)\n",
        "print(clf.best_score_)"
      ],
      "metadata": {
        "id": "S-TqdCx7syQe",
        "colab": {
          "base_uri": "https://localhost:8080/"
        },
        "outputId": "cc0e6501-c3f4-4e32-c504-4247037bb4b5"
      },
      "execution_count": 88,
      "outputs": [
        {
          "output_type": "stream",
          "name": "stdout",
          "text": [
            "{'reg_lambda': 0, 'n_estimators': 50, 'max_depth': 3}\n",
            "-18.862381487089973\n"
          ]
        }
      ]
    },
    {
      "cell_type": "code",
      "execution_count": 89,
      "metadata": {
        "id": "LvX5tihXVL65",
        "colab": {
          "base_uri": "https://localhost:8080/"
        },
        "outputId": "cb6e79e5-e270-4ac6-c21c-f395a94f66e4"
      },
      "outputs": [
        {
          "output_type": "stream",
          "name": "stdout",
          "text": [
            "[10:10:54] WARNING: /workspace/src/objective/regression_obj.cu:152: reg:linear is now deprecated in favor of reg:squarederror.\n"
          ]
        },
        {
          "output_type": "execute_result",
          "data": {
            "text/plain": [
              "({'min_child_weight': 3, 'max_depth': 3}, -19.16445873743667)"
            ]
          },
          "metadata": {},
          "execution_count": 89
        }
      ],
      "source": [
        "import sklearn.metrics\n",
        "from sklearn.model_selection import RandomizedSearchCV\n",
        "param_test1 = {\n",
        " 'max_depth':range(3,10,2),\n",
        " 'min_child_weight':range(1,6,2)\n",
        "}\n",
        "gsearch1 = RandomizedSearchCV(xgmodel,param_test1, scoring='neg_root_mean_squared_error',n_jobs=4,cv=5)\n",
        "gsearch1.fit(X,Y)\n",
        "gsearch1.best_params_, gsearch1.best_score_"
      ]
    },
    {
      "cell_type": "code",
      "execution_count": 90,
      "metadata": {
        "id": "aMd0AtBZpUha",
        "colab": {
          "base_uri": "https://localhost:8080/"
        },
        "outputId": "59922454-ad9b-4514-f875-9e326f13e48c"
      },
      "outputs": [
        {
          "output_type": "stream",
          "name": "stderr",
          "text": [
            "/usr/local/lib/python3.7/dist-packages/sklearn/model_selection/_search.py:296: UserWarning: The total space of parameters 9 is smaller than n_iter=10. Running 9 iterations. For exhaustive searches, use GridSearchCV.\n",
            "  UserWarning,\n"
          ]
        },
        {
          "output_type": "stream",
          "name": "stdout",
          "text": [
            "[10:12:52] WARNING: /workspace/src/objective/regression_obj.cu:152: reg:linear is now deprecated in favor of reg:squarederror.\n"
          ]
        },
        {
          "output_type": "execute_result",
          "data": {
            "text/plain": [
              "({'min_child_weight': 4, 'max_depth': 4}, -19.197607386945773)"
            ]
          },
          "metadata": {},
          "execution_count": 90
        }
      ],
      "source": [
        "param_test2 = {\n",
        " 'max_depth':[4,5,6],\n",
        " 'min_child_weight':[4,5,6]\n",
        "}\n",
        "gsearch2 = RandomizedSearchCV(xgmodel,param_test2, scoring='neg_root_mean_squared_error',n_jobs=4,cv=5)\n",
        "gsearch2.fit(X,Y)\n",
        "gsearch2.best_params_, gsearch2.best_score_"
      ]
    },
    {
      "cell_type": "code",
      "execution_count": 91,
      "metadata": {
        "id": "GWxM965ppfoH",
        "colab": {
          "base_uri": "https://localhost:8080/"
        },
        "outputId": "66982906-38f2-45ed-e9cd-c5c7c44f76d8"
      },
      "outputs": [
        {
          "output_type": "stream",
          "name": "stderr",
          "text": [
            "/usr/local/lib/python3.7/dist-packages/sklearn/model_selection/_search.py:296: UserWarning: The total space of parameters 5 is smaller than n_iter=10. Running 5 iterations. For exhaustive searches, use GridSearchCV.\n",
            "  UserWarning,\n"
          ]
        },
        {
          "output_type": "stream",
          "name": "stdout",
          "text": [
            "[10:13:45] WARNING: /workspace/src/objective/regression_obj.cu:152: reg:linear is now deprecated in favor of reg:squarederror.\n"
          ]
        },
        {
          "output_type": "execute_result",
          "data": {
            "text/plain": [
              "({'gamma': 0.0}, -19.210244897544488)"
            ]
          },
          "metadata": {},
          "execution_count": 91
        }
      ],
      "source": [
        "param_test3 = {\n",
        "'gamma':[i/10.0 for i in range(0,5)]\n",
        "}\n",
        "gsearch3 = RandomizedSearchCV(xgmodel,param_test3, scoring='neg_root_mean_squared_error',n_jobs=4,cv=5)\n",
        "gsearch3.fit(X,Y)\n",
        "gsearch3.best_params_, gsearch3.best_score_"
      ]
    },
    {
      "cell_type": "code",
      "execution_count": 92,
      "metadata": {
        "id": "oOdAaIOSjzeA"
      },
      "outputs": [],
      "source": [
        "y_pred_xg=xgmodel.predict(X_tst)\n",
        "y_pred_xg=pd.DataFrame(y_pred_xg)\n",
        "y_pred_xg.rename(columns = {0:'calculated_total_amount'}, inplace = True)\n",
        "y_pred_xg_rmse=xgmodel.predict(X_test)"
      ]
    },
    {
      "cell_type": "code",
      "execution_count": 93,
      "metadata": {
        "id": "o3qLWgsATK0F",
        "colab": {
          "base_uri": "https://localhost:8080/"
        },
        "outputId": "16893659-b912-4624-e0d8-132361873d6f"
      },
      "outputs": [
        {
          "output_type": "stream",
          "name": "stderr",
          "text": [
            "/usr/local/lib/python3.7/dist-packages/sklearn/model_selection/_search.py:296: UserWarning: The total space of parameters 2 is smaller than n_iter=10. Running 2 iterations. For exhaustive searches, use GridSearchCV.\n",
            "  UserWarning,\n"
          ]
        },
        {
          "output_type": "stream",
          "name": "stdout",
          "text": [
            "[10:13:48] WARNING: /workspace/src/objective/regression_obj.cu:152: reg:linear is now deprecated in favor of reg:squarederror.\n",
            "[10:13:51] WARNING: /workspace/src/objective/regression_obj.cu:152: reg:linear is now deprecated in favor of reg:squarederror.\n",
            "[10:13:54] WARNING: /workspace/src/objective/regression_obj.cu:152: reg:linear is now deprecated in favor of reg:squarederror.\n",
            "[10:13:56] WARNING: /workspace/src/objective/regression_obj.cu:152: reg:linear is now deprecated in favor of reg:squarederror.\n",
            "[10:13:59] WARNING: /workspace/src/objective/regression_obj.cu:152: reg:linear is now deprecated in favor of reg:squarederror.\n",
            "[10:14:01] WARNING: /workspace/src/objective/regression_obj.cu:152: reg:linear is now deprecated in favor of reg:squarederror.\n",
            "[10:14:04] WARNING: /workspace/src/objective/regression_obj.cu:152: reg:linear is now deprecated in favor of reg:squarederror.\n",
            "[10:14:07] WARNING: /workspace/src/objective/regression_obj.cu:152: reg:linear is now deprecated in favor of reg:squarederror.\n",
            "[10:14:10] WARNING: /workspace/src/objective/regression_obj.cu:152: reg:linear is now deprecated in favor of reg:squarederror.\n",
            "[10:14:13] WARNING: /workspace/src/objective/regression_obj.cu:152: reg:linear is now deprecated in favor of reg:squarederror.\n",
            "[10:14:16] WARNING: /workspace/src/objective/regression_obj.cu:152: reg:linear is now deprecated in favor of reg:squarederror.\n"
          ]
        },
        {
          "output_type": "execute_result",
          "data": {
            "text/plain": [
              "RandomizedSearchCV(estimator=XGBRegressor(max_depth=4, n_estimators=147,\n",
              "                                          reg_lambda=4),\n",
              "                   param_distributions={'alpha': [0, 1]},\n",
              "                   scoring='neg_root_mean_squared_error')"
            ]
          },
          "metadata": {},
          "execution_count": 93
        }
      ],
      "source": [
        "import sklearn.metrics\n",
        "from sklearn.model_selection import RandomizedSearchCV\n",
        "param={\"alpha\" : list(range(0,2))}\n",
        "clf=RandomizedSearchCV(xgmodel,param,scoring=\"neg_root_mean_squared_error\")\n",
        "clf.fit(X,Y)"
      ]
    },
    {
      "cell_type": "code",
      "execution_count": 94,
      "metadata": {
        "id": "Hg_WECloqc_q",
        "colab": {
          "base_uri": "https://localhost:8080/"
        },
        "outputId": "1e563585-7d23-4d5a-8b37-cf37170015c1"
      },
      "outputs": [
        {
          "output_type": "stream",
          "name": "stdout",
          "text": [
            "RMSE :  20.381320122858575\n"
          ]
        }
      ],
      "source": [
        "from sklearn.metrics import mean_squared_error\n",
        "print(\"RMSE : \", np.sqrt(mean_squared_error(y_test,y_pred_xg_rmse)))"
      ]
    },
    {
      "cell_type": "code",
      "execution_count": 95,
      "metadata": {
        "id": "53hAHi4gj7yF"
      },
      "outputs": [],
      "source": [
        "XG_TAXI=pd.DataFrame(y_pred_xg)\n",
        "XG_TAXI.to_csv(\"XG_TAXI_12.csv\",index=False)"
      ]
    },
    {
      "cell_type": "code",
      "execution_count": 96,
      "metadata": {
        "id": "83nBWr4D3Tjf"
      },
      "outputs": [],
      "source": [
        "#--------------Applying  PCA---------------------------------#"
      ]
    },
    {
      "cell_type": "code",
      "source": [
        "from sklearn.preprocessing import MinMaxScaler\n",
        "scaler = MinMaxScaler(feature_range=(0, 1))\n",
        "\n",
        "X_scaled = scaler.fit_transform(X)\n",
        "X_scaled = pd.DataFrame(X_scaled)"
      ],
      "metadata": {
        "id": "3cF6OLuE8YTb"
      },
      "execution_count": 100,
      "outputs": []
    },
    {
      "cell_type": "code",
      "execution_count": 101,
      "metadata": {
        "id": "W_p6eiuv3YKN",
        "colab": {
          "base_uri": "https://localhost:8080/"
        },
        "outputId": "e7de6890-4249-4db1-e63b-59f82b870384"
      },
      "outputs": [
        {
          "output_type": "stream",
          "name": "stdout",
          "text": [
            "(35000, 3)\n"
          ]
        }
      ],
      "source": [
        "from sklearn.decomposition import PCA\n",
        "\n",
        "#Set the n_components=3\n",
        "principal=PCA(n_components=3)\n",
        "principal.fit(X_scaled)\n",
        "X_PCA=principal.transform(X_scaled)\n",
        " \n",
        "# Check the dimensions of data after PCA\n",
        "print(X_PCA.shape)"
      ]
    },
    {
      "cell_type": "code",
      "execution_count": 102,
      "metadata": {
        "id": "NGWs6iuZyJBx"
      },
      "outputs": [],
      "source": [
        "#---------------------Neural Networks-----------------#"
      ]
    },
    {
      "cell_type": "code",
      "execution_count": 103,
      "metadata": {
        "id": "fut9NR3NyLsA"
      },
      "outputs": [],
      "source": [
        "import math\n",
        "import pandas as pd\n",
        "import tensorflow as tf\n",
        "import matplotlib.pyplot as plt\n",
        "from tensorflow.keras import Model\n",
        "from tensorflow.keras import Sequential\n",
        "from tensorflow.keras.optimizers import Adam\n",
        "from sklearn.preprocessing import StandardScaler\n",
        "from tensorflow.keras.layers import Dense, Dropout\n",
        "from sklearn.model_selection import train_test_split\n",
        "from tensorflow.keras.losses import MeanSquaredLogarithmicError"
      ]
    },
    {
      "cell_type": "code",
      "execution_count": 114,
      "metadata": {
        "id": "8kdiFlTayTHW"
      },
      "outputs": [],
      "source": [
        "hidden_units1 = 2048\n",
        "hidden_units2 = 1024\n",
        "hidden_units3 = 1024\n",
        "hidden_units4 = 512\n",
        "hidden_units5 = 64\n",
        "learning_rate = 0.01\n",
        "# Creating model using the Sequential in tensorflow\n",
        "def build_model_using_sequential():\n",
        "  model = Sequential([\n",
        "    Dense(hidden_units1, kernel_initializer='normal', activation='relu',input_dim=X.shape[1]),\n",
        "    #Dropout(0.2),\n",
        "    Dense(hidden_units2, kernel_initializer='normal', activation='relu'),\n",
        "    #Dropout(0.2),\n",
        "    Dense(hidden_units3, kernel_initializer='normal', activation='relu'),\n",
        "    #Dropout(0.2),\n",
        "    Dense(hidden_units4, kernel_initializer='normal', activation='relu'),\n",
        "    #Dropout(0.2),\n",
        "    Dense(hidden_units5, kernel_initializer='normal', activation='relu'),\n",
        "   #Dropout(0.2),\n",
        "    Dense(1, kernel_initializer='normal', activation='linear')\n",
        "    ])\n",
        "  return model\n",
        "# build the model\n",
        "model = build_model_using_sequential()"
      ]
    },
    {
      "cell_type": "markdown",
      "metadata": {
        "id": "Ewmi_vagwRyO"
      },
      "source": []
    },
    {
      "cell_type": "code",
      "execution_count": 115,
      "metadata": {
        "id": "kldQcbNTybRH",
        "colab": {
          "base_uri": "https://localhost:8080/"
        },
        "outputId": "ecbc3b22-bb6e-45e1-9fb0-a2c487fadd35"
      },
      "outputs": [
        {
          "output_type": "stream",
          "name": "stdout",
          "text": [
            "875/875 [==============================] - 32s 36ms/step - loss: 20268.1211 - mean_squared_error: 20268.1211\n"
          ]
        }
      ],
      "source": [
        "#loss function\n",
        "msle = MeanSquaredLogarithmicError()\n",
        "model.compile(\n",
        "    loss=\"mean_squared_error\", \n",
        "    optimizer=\"Adam\", \n",
        "    metrics=[\"mean_squared_error\"]\n",
        ")\n",
        "## train the model\n",
        "history = model.fit(\n",
        "    X_train, \n",
        "    y_train, \n",
        "    batch_size=32,\n",
        ")"
      ]
    },
    {
      "cell_type": "code",
      "execution_count": 116,
      "metadata": {
        "id": "0sKsP6GAyvRL",
        "colab": {
          "base_uri": "https://localhost:8080/"
        },
        "outputId": "bee00891-a8ed-43ea-fea0-e7dc3c36b981"
      },
      "outputs": [
        {
          "output_type": "stream",
          "name": "stdout",
          "text": [
            "219/219 [==============================] - 2s 7ms/step\n",
            "469/469 [==============================] - 3s 7ms/step\n",
            "[[40.78787 ]\n",
            " [42.39327 ]\n",
            " [42.37322 ]\n",
            " ...\n",
            " [42.38631 ]\n",
            " [42.760624]\n",
            " [41.961277]]\n"
          ]
        }
      ],
      "source": [
        "X_tst_1=test_data\n",
        "y_rmse=model.predict(X_test)\n",
        "y_pred_nn=model.predict(X_tst)\n",
        "print(y_pred_nn)"
      ]
    },
    {
      "cell_type": "code",
      "execution_count": 117,
      "metadata": {
        "id": "ZnGOyYZfxdq5",
        "colab": {
          "base_uri": "https://localhost:8080/"
        },
        "outputId": "61d4081e-4a92-435d-cb9e-3ea4c91ad777"
      },
      "outputs": [
        {
          "output_type": "stream",
          "name": "stdout",
          "text": [
            "RMSE :  20.45873274927808\n"
          ]
        }
      ],
      "source": [
        "from sklearn.metrics import mean_squared_error\n",
        "print(\"RMSE : \", np.sqrt(mean_squared_error(y_test,y_rmse)))"
      ]
    },
    {
      "cell_type": "code",
      "execution_count": 118,
      "metadata": {
        "id": "pJ5x-Z0_yfyP"
      },
      "outputs": [],
      "source": [
        "NN_PRED=pd.DataFrame(y_pred_nn)\n",
        "NN_PRED.rename(columns = {0:'calculated_total_amount'}, inplace = True)\n",
        "NN_PRED.to_csv(\"NN_PRED_20.csv\",index=False)"
      ]
    },
    {
      "cell_type": "code",
      "execution_count": 119,
      "metadata": {
        "id": "lIpW-758bnsR"
      },
      "outputs": [],
      "source": [
        "#------------------------Elastic Net--------------#"
      ]
    },
    {
      "cell_type": "code",
      "execution_count": 120,
      "metadata": {
        "id": "UQGqmIcKbqhJ",
        "colab": {
          "base_uri": "https://localhost:8080/"
        },
        "outputId": "4efda8da-e1ef-4550-c20a-bae66e3c75a0"
      },
      "outputs": [
        {
          "output_type": "execute_result",
          "data": {
            "text/plain": [
              "ElasticNet(alpha=1, max_iter=3000)"
            ]
          },
          "metadata": {},
          "execution_count": 120
        }
      ],
      "source": [
        "from sklearn.linear_model import ElasticNet\n",
        "model_elastic = ElasticNet(alpha=1,max_iter=3000)\n",
        "model_elastic.fit(X_train,y_train)"
      ]
    },
    {
      "cell_type": "code",
      "source": [
        "import sklearn.metrics\n",
        "from sklearn.model_selection import RandomizedSearchCV\n",
        "param={\"alpha\" : list(range(0,5))}\n",
        "clf=RandomizedSearchCV(model_elastic,param,cv=3,scoring=\"neg_root_mean_squared_error\")\n",
        "clf.fit(X_train,y_train)"
      ],
      "metadata": {
        "id": "ViOSfs6CKPX0",
        "colab": {
          "base_uri": "https://localhost:8080/"
        },
        "outputId": "1d8b2510-b292-444a-c0cf-286c96d1d4c3"
      },
      "execution_count": 121,
      "outputs": [
        {
          "output_type": "stream",
          "name": "stderr",
          "text": [
            "/usr/local/lib/python3.7/dist-packages/sklearn/model_selection/_search.py:296: UserWarning: The total space of parameters 5 is smaller than n_iter=10. Running 5 iterations. For exhaustive searches, use GridSearchCV.\n",
            "  UserWarning,\n",
            "/usr/local/lib/python3.7/dist-packages/sklearn/model_selection/_validation.py:680: UserWarning: With alpha=0, this algorithm does not converge well. You are advised to use the LinearRegression estimator\n",
            "  estimator.fit(X_train, y_train, **fit_params)\n",
            "/usr/local/lib/python3.7/dist-packages/sklearn/linear_model/_coordinate_descent.py:648: UserWarning: Coordinate descent with no regularization may lead to unexpected results and is discouraged.\n",
            "  coef_, l1_reg, l2_reg, X, y, max_iter, tol, rng, random, positive\n",
            "/usr/local/lib/python3.7/dist-packages/sklearn/linear_model/_coordinate_descent.py:648: ConvergenceWarning: Objective did not converge. You might want to increase the number of iterations, check the scale of the features or consider increasing regularisation. Duality gap: 3.323e+06, tolerance: 6.662e+02 Linear regression models with null weight for the l1 regularization term are more efficiently fitted using one of the solvers implemented in sklearn.linear_model.Ridge/RidgeCV instead.\n",
            "  coef_, l1_reg, l2_reg, X, y, max_iter, tol, rng, random, positive\n",
            "/usr/local/lib/python3.7/dist-packages/sklearn/model_selection/_validation.py:680: UserWarning: With alpha=0, this algorithm does not converge well. You are advised to use the LinearRegression estimator\n",
            "  estimator.fit(X_train, y_train, **fit_params)\n",
            "/usr/local/lib/python3.7/dist-packages/sklearn/linear_model/_coordinate_descent.py:648: UserWarning: Coordinate descent with no regularization may lead to unexpected results and is discouraged.\n",
            "  coef_, l1_reg, l2_reg, X, y, max_iter, tol, rng, random, positive\n",
            "/usr/local/lib/python3.7/dist-packages/sklearn/linear_model/_coordinate_descent.py:648: ConvergenceWarning: Objective did not converge. You might want to increase the number of iterations, check the scale of the features or consider increasing regularisation. Duality gap: 3.276e+06, tolerance: 6.568e+02 Linear regression models with null weight for the l1 regularization term are more efficiently fitted using one of the solvers implemented in sklearn.linear_model.Ridge/RidgeCV instead.\n",
            "  coef_, l1_reg, l2_reg, X, y, max_iter, tol, rng, random, positive\n",
            "/usr/local/lib/python3.7/dist-packages/sklearn/model_selection/_validation.py:680: UserWarning: With alpha=0, this algorithm does not converge well. You are advised to use the LinearRegression estimator\n",
            "  estimator.fit(X_train, y_train, **fit_params)\n",
            "/usr/local/lib/python3.7/dist-packages/sklearn/linear_model/_coordinate_descent.py:648: UserWarning: Coordinate descent with no regularization may lead to unexpected results and is discouraged.\n",
            "  coef_, l1_reg, l2_reg, X, y, max_iter, tol, rng, random, positive\n",
            "/usr/local/lib/python3.7/dist-packages/sklearn/linear_model/_coordinate_descent.py:648: ConvergenceWarning: Objective did not converge. You might want to increase the number of iterations, check the scale of the features or consider increasing regularisation. Duality gap: 3.331e+06, tolerance: 6.673e+02 Linear regression models with null weight for the l1 regularization term are more efficiently fitted using one of the solvers implemented in sklearn.linear_model.Ridge/RidgeCV instead.\n",
            "  coef_, l1_reg, l2_reg, X, y, max_iter, tol, rng, random, positive\n"
          ]
        },
        {
          "output_type": "execute_result",
          "data": {
            "text/plain": [
              "RandomizedSearchCV(cv=3, estimator=ElasticNet(alpha=1, max_iter=3000),\n",
              "                   param_distributions={'alpha': [0, 1, 2, 3, 4]},\n",
              "                   scoring='neg_root_mean_squared_error')"
            ]
          },
          "metadata": {},
          "execution_count": 121
        }
      ]
    },
    {
      "cell_type": "code",
      "source": [
        "print(clf.best_params_)\n",
        "print(clf.best_score_)"
      ],
      "metadata": {
        "id": "7aOOUvDWKlNt",
        "colab": {
          "base_uri": "https://localhost:8080/"
        },
        "outputId": "79c70d77-ebb3-4c8a-eb68-558ee4d817ba"
      },
      "execution_count": 122,
      "outputs": [
        {
          "output_type": "stream",
          "name": "stdout",
          "text": [
            "{'alpha': 1}\n",
            "-18.84816916753941\n"
          ]
        }
      ]
    },
    {
      "cell_type": "code",
      "execution_count": 123,
      "metadata": {
        "id": "S1Ftn4DCb_bc",
        "colab": {
          "base_uri": "https://localhost:8080/"
        },
        "outputId": "75405267-3237-470b-e217-370355d64ab1"
      },
      "outputs": [
        {
          "output_type": "stream",
          "name": "stdout",
          "text": [
            "[40.54133193 41.69487001 41.40588431 ... 41.54380092 41.42629586\n",
            " 41.40570328]\n"
          ]
        }
      ],
      "source": [
        "y_pred_elastic=model_elastic.predict(X_tst)\n",
        "y_pred_elastic_rmse=model_elastic.predict(X_test)\n",
        "print(y_pred_elastic)"
      ]
    },
    {
      "cell_type": "code",
      "execution_count": 124,
      "metadata": {
        "id": "ZKbKRHR3cWGU",
        "colab": {
          "base_uri": "https://localhost:8080/"
        },
        "outputId": "2a625ab9-55ea-4622-ff5f-0c6cb2d555c9"
      },
      "outputs": [
        {
          "output_type": "stream",
          "name": "stdout",
          "text": [
            "RMSE :  20.369004766090903\n"
          ]
        }
      ],
      "source": [
        "from sklearn.metrics import mean_squared_error\n",
        "print(\"RMSE : \", np.sqrt(mean_squared_error(y_test,y_pred_elastic_rmse)))"
      ]
    },
    {
      "cell_type": "code",
      "execution_count": 125,
      "metadata": {
        "id": "TCkhso-adhdJ"
      },
      "outputs": [],
      "source": [
        "ELASTIC_PRED=pd.DataFrame(y_pred_elastic)\n",
        "ELASTIC_PRED.rename(columns = {0:'calculated_total_amount'}, inplace = True)\n",
        "ELASTIC_PRED.to_csv(\"ELASTIC_2.csv\",index=False)"
      ]
    },
    {
      "cell_type": "code",
      "execution_count": 126,
      "metadata": {
        "id": "FqYpncO_8zKn"
      },
      "outputs": [],
      "source": [
        "#---------------Ridge Regression--------------#"
      ]
    },
    {
      "cell_type": "code",
      "execution_count": 127,
      "metadata": {
        "id": "agwWHDF-9D-K"
      },
      "outputs": [],
      "source": [
        "from sklearn.linear_model import Ridge\n",
        "\n",
        "linridge = Ridge(alpha=4)"
      ]
    },
    {
      "cell_type": "code",
      "source": [
        "import sklearn.metrics\n",
        "from sklearn.model_selection import RandomizedSearchCV\n",
        "param={\"alpha\" : list(range(0,5))}\n",
        "clf=RandomizedSearchCV(linridge,param,cv=3,scoring=\"neg_root_mean_squared_error\")\n",
        "clf.fit(X_train,y_train)"
      ],
      "metadata": {
        "id": "8dD66h4fKzOE",
        "colab": {
          "base_uri": "https://localhost:8080/"
        },
        "outputId": "20126c27-b11f-4a89-d944-d9d1fd883b7b"
      },
      "execution_count": 128,
      "outputs": [
        {
          "output_type": "stream",
          "name": "stderr",
          "text": [
            "/usr/local/lib/python3.7/dist-packages/sklearn/model_selection/_search.py:296: UserWarning: The total space of parameters 5 is smaller than n_iter=10. Running 5 iterations. For exhaustive searches, use GridSearchCV.\n",
            "  UserWarning,\n"
          ]
        },
        {
          "output_type": "execute_result",
          "data": {
            "text/plain": [
              "RandomizedSearchCV(cv=3, estimator=Ridge(alpha=4),\n",
              "                   param_distributions={'alpha': [0, 1, 2, 3, 4]},\n",
              "                   scoring='neg_root_mean_squared_error')"
            ]
          },
          "metadata": {},
          "execution_count": 128
        }
      ]
    },
    {
      "cell_type": "code",
      "source": [
        "print(clf.best_params_)\n",
        "print(clf.best_score_)"
      ],
      "metadata": {
        "id": "KFF4nbgwK5tn",
        "colab": {
          "base_uri": "https://localhost:8080/"
        },
        "outputId": "4c79914f-e93e-4007-8f1a-1bc705111732"
      },
      "execution_count": 129,
      "outputs": [
        {
          "output_type": "stream",
          "name": "stdout",
          "text": [
            "{'alpha': 4}\n",
            "-18.847475539272637\n"
          ]
        }
      ]
    },
    {
      "cell_type": "code",
      "execution_count": 130,
      "metadata": {
        "id": "n3HXX_xD-58c",
        "colab": {
          "base_uri": "https://localhost:8080/"
        },
        "outputId": "a87b06de-6c6f-4d16-cd18-2f7c7a24bb54"
      },
      "outputs": [
        {
          "output_type": "execute_result",
          "data": {
            "text/plain": [
              "Ridge(alpha=4)"
            ]
          },
          "metadata": {},
          "execution_count": 130
        }
      ],
      "source": [
        "linridge.fit(X,Y)"
      ]
    },
    {
      "cell_type": "code",
      "execution_count": 131,
      "metadata": {
        "id": "xVPKc0AI-9OF",
        "colab": {
          "base_uri": "https://localhost:8080/"
        },
        "outputId": "f2fb99e5-4ade-4111-b469-e7ab415ae103"
      },
      "outputs": [
        {
          "output_type": "stream",
          "name": "stdout",
          "text": [
            "[39.52893869 41.67800447 41.77893391 ... 41.68385149 41.49879154\n",
            " 41.71564779]\n"
          ]
        }
      ],
      "source": [
        "y_pred_ridge=linridge.predict(X_tst)\n",
        "y_ridge_rmse=linridge.predict(X_test)\n",
        "print(y_pred_ridge)"
      ]
    },
    {
      "cell_type": "code",
      "execution_count": 132,
      "metadata": {
        "id": "O-JM1Y7p_X-C",
        "colab": {
          "base_uri": "https://localhost:8080/"
        },
        "outputId": "3f13cc9d-e256-4a05-a20e-a6b79a371c5b"
      },
      "outputs": [
        {
          "output_type": "stream",
          "name": "stdout",
          "text": [
            "RMSE :  20.340843823205752\n"
          ]
        }
      ],
      "source": [
        "from sklearn.metrics import mean_squared_error\n",
        "print(\"RMSE : \", np.sqrt(mean_squared_error(y_test,y_ridge_rmse)))"
      ]
    },
    {
      "cell_type": "code",
      "execution_count": 133,
      "metadata": {
        "id": "lSoHp-t__mhK"
      },
      "outputs": [],
      "source": [
        "Ridge_PRED=pd.DataFrame(y_pred_ridge)\n",
        "Ridge_PRED.to_csv(\"Ridge_2.csv\",index=False)"
      ]
    },
    {
      "cell_type": "code",
      "execution_count": 134,
      "metadata": {
        "id": "38S9AATn83ic"
      },
      "outputs": [],
      "source": [
        "#---------------Lasso Regression-----------------#"
      ]
    },
    {
      "cell_type": "code",
      "execution_count": 135,
      "metadata": {
        "id": "DY71kM1d9NUH",
        "colab": {
          "base_uri": "https://localhost:8080/"
        },
        "outputId": "9e6e01fc-4f68-4002-8a13-c1319832210a"
      },
      "outputs": [
        {
          "output_type": "execute_result",
          "data": {
            "text/plain": [
              "Lasso(alpha=10)"
            ]
          },
          "metadata": {},
          "execution_count": 135
        }
      ],
      "source": [
        "from sklearn.linear_model import Lasso\n",
        "\n",
        "# Instantiate a lasso regressor: lasso\n",
        "lasso = Lasso(alpha=10)\n",
        "\n",
        "# Fit the regressor to the data\n",
        "lasso.fit(X_train,y_train)"
      ]
    },
    {
      "cell_type": "code",
      "source": [
        "import sklearn.metrics\n",
        "from sklearn.model_selection import RandomizedSearchCV\n",
        "param={\"alpha\" : list(range(0,5))}\n",
        "clf=RandomizedSearchCV(linridge,param,cv=3,scoring=\"neg_root_mean_squared_error\")\n",
        "clf.fit(X_train,y_train)"
      ],
      "metadata": {
        "id": "Fve7j5xhLVYe",
        "colab": {
          "base_uri": "https://localhost:8080/"
        },
        "outputId": "8845454c-66b6-402c-a8eb-a150dfe3cb37"
      },
      "execution_count": 136,
      "outputs": [
        {
          "output_type": "stream",
          "name": "stderr",
          "text": [
            "/usr/local/lib/python3.7/dist-packages/sklearn/model_selection/_search.py:296: UserWarning: The total space of parameters 5 is smaller than n_iter=10. Running 5 iterations. For exhaustive searches, use GridSearchCV.\n",
            "  UserWarning,\n"
          ]
        },
        {
          "output_type": "execute_result",
          "data": {
            "text/plain": [
              "RandomizedSearchCV(cv=3, estimator=Ridge(alpha=4),\n",
              "                   param_distributions={'alpha': [0, 1, 2, 3, 4]},\n",
              "                   scoring='neg_root_mean_squared_error')"
            ]
          },
          "metadata": {},
          "execution_count": 136
        }
      ]
    },
    {
      "cell_type": "code",
      "execution_count": 137,
      "metadata": {
        "id": "32TCG8edML7V",
        "colab": {
          "base_uri": "https://localhost:8080/"
        },
        "outputId": "e2627719-5b65-403f-84bb-4c550deec0d0"
      },
      "outputs": [
        {
          "output_type": "stream",
          "name": "stdout",
          "text": [
            "{'alpha': 4}\n",
            "-18.847475539272637\n"
          ]
        }
      ],
      "source": [
        "print(clf.best_params_)\n",
        "print(clf.best_score_)\n"
      ]
    },
    {
      "cell_type": "code",
      "execution_count": 138,
      "metadata": {
        "id": "42C3KamQ9R_C",
        "colab": {
          "base_uri": "https://localhost:8080/"
        },
        "outputId": "50b01a80-3947-4609-f792-6bd7a287ab3f"
      },
      "outputs": [
        {
          "output_type": "stream",
          "name": "stdout",
          "text": [
            "[41.36608198 41.32070495 41.31894558 ... 41.31834079 41.29523076\n",
            " 41.33817034]\n"
          ]
        }
      ],
      "source": [
        "y_pred_lasso=lasso.predict(X_tst)\n",
        "y_lasso_rmse=lasso.predict(X_test)\n",
        "print(y_pred_lasso)"
      ]
    },
    {
      "cell_type": "code",
      "execution_count": 139,
      "metadata": {
        "id": "MkWKuAGN9s1x",
        "colab": {
          "base_uri": "https://localhost:8080/"
        },
        "outputId": "9cb509fa-8195-45eb-ae9d-78e539512c5f"
      },
      "outputs": [
        {
          "output_type": "stream",
          "name": "stdout",
          "text": [
            "RMSE :  20.375500980075852\n"
          ]
        }
      ],
      "source": [
        "from sklearn.metrics import mean_squared_error\n",
        "print(\"RMSE : \", np.sqrt(mean_squared_error(y_test,y_lasso_rmse)))"
      ]
    },
    {
      "cell_type": "code",
      "execution_count": 140,
      "metadata": {
        "id": "ZQMrux4E996Z"
      },
      "outputs": [],
      "source": [
        "LASSO_PRED=pd.DataFrame(y_pred_lasso)\n",
        "LASSO_PRED.to_csv(\"LASSO_1.csv\",index=False)"
      ]
    },
    {
      "cell_type": "code",
      "execution_count": 140,
      "metadata": {
        "id": "QzAkcx6zA2fk"
      },
      "outputs": [],
      "source": []
    },
    {
      "cell_type": "code",
      "execution_count": 141,
      "metadata": {
        "id": "AEhmK-y5A2hb",
        "colab": {
          "base_uri": "https://localhost:8080/"
        },
        "outputId": "b4520276-7d53-4783-c534-6547d0236b14"
      },
      "outputs": [
        {
          "output_type": "stream",
          "name": "stdout",
          "text": [
            "Looking in indexes: https://pypi.org/simple, https://us-python.pkg.dev/colab-wheels/public/simple/\n",
            "Requirement already satisfied: xgboost in /usr/local/lib/python3.7/dist-packages (0.90)\n",
            "Requirement already satisfied: numpy in /usr/local/lib/python3.7/dist-packages (from xgboost) (1.21.6)\n",
            "Requirement already satisfied: scipy in /usr/local/lib/python3.7/dist-packages (from xgboost) (1.7.3)\n"
          ]
        }
      ],
      "source": [
        "!pip install xgboost"
      ]
    },
    {
      "cell_type": "code",
      "execution_count": 142,
      "metadata": {
        "id": "2PiSEJ5MsUw0",
        "colab": {
          "base_uri": "https://localhost:8080/"
        },
        "outputId": "f81e171c-cf27-4392-966c-69b70f8a104d"
      },
      "outputs": [
        {
          "output_type": "stream",
          "name": "stdout",
          "text": [
            "[10:19:31] WARNING: /workspace/src/objective/regression_obj.cu:152: reg:linear is now deprecated in favor of reg:squarederror.\n"
          ]
        },
        {
          "output_type": "execute_result",
          "data": {
            "text/plain": [
              "XGBRFRegressor(max_depth=2, n_estimators=49, reg_lambda=1.6)"
            ]
          },
          "metadata": {},
          "execution_count": 142
        }
      ],
      "source": [
        "import xgboost as xg\n",
        "xg__model = xg.XGBRFRegressor(max_depth = 2, n_estimators= 49, reg_lambda=1.6)\n",
        "xg__model.fit(X,Y)"
      ]
    },
    {
      "cell_type": "code",
      "execution_count": 143,
      "metadata": {
        "id": "ExxfkyNFsjjw"
      },
      "outputs": [],
      "source": [
        "xg__model.predict(X_tst)\n",
        "xg_rmse=xg__model.predict(X_test)"
      ]
    },
    {
      "cell_type": "code",
      "execution_count": 144,
      "metadata": {
        "id": "R4odcP40ASj2",
        "colab": {
          "base_uri": "https://localhost:8080/"
        },
        "outputId": "bcbe9282-f70b-4d55-98fd-6419a28142f3"
      },
      "outputs": [
        {
          "output_type": "stream",
          "name": "stdout",
          "text": [
            "[10:19:31] WARNING: /workspace/src/objective/regression_obj.cu:152: reg:linear is now deprecated in favor of reg:squarederror.\n",
            "RMSE: 20.338371306279367\n"
          ]
        }
      ],
      "source": [
        "import xgboost as xg\n",
        "mod = xg.XGBRFRegressor(max_depth = 2, n_estimators= 49, reg_lambda=1.6)\n",
        "\n",
        "mod = mod.fit(X_train,y_train)\n",
        "rmse=mod.predict(X_test)\n",
        "predictions = mod.predict(test_data)\n",
        "from sklearn.metrics import mean_squared_error\n",
        "# rmse\n",
        "print('RMSE:', np.sqrt(mean_squared_error(y_test, rmse)))"
      ]
    },
    {
      "cell_type": "code",
      "execution_count": 145,
      "metadata": {
        "id": "SajkAoEmBGkI"
      },
      "outputs": [],
      "source": [
        "XG_pred=pd.DataFrame(predictions)\n",
        "XG_pred.to_csv(\"XG_best_1.csv\",index=False)"
      ]
    },
    {
      "cell_type": "code",
      "execution_count": 146,
      "metadata": {
        "id": "D8uO9s9EjNMZ",
        "colab": {
          "base_uri": "https://localhost:8080/"
        },
        "outputId": "09b2a78d-c174-47f3-e3b7-b6cf4130074c"
      },
      "outputs": [
        {
          "output_type": "stream",
          "name": "stdout",
          "text": [
            "[10:19:31] WARNING: /workspace/src/objective/regression_obj.cu:152: reg:linear is now deprecated in favor of reg:squarederror.\n",
            "[10:19:32] WARNING: /workspace/src/objective/regression_obj.cu:152: reg:linear is now deprecated in favor of reg:squarederror.\n",
            "[10:19:32] WARNING: /workspace/src/objective/regression_obj.cu:152: reg:linear is now deprecated in favor of reg:squarederror.\n",
            "[10:19:32] WARNING: /workspace/src/objective/regression_obj.cu:152: reg:linear is now deprecated in favor of reg:squarederror.\n",
            "[10:19:32] WARNING: /workspace/src/objective/regression_obj.cu:152: reg:linear is now deprecated in favor of reg:squarederror.\n",
            "[10:19:32] WARNING: /workspace/src/objective/regression_obj.cu:152: reg:linear is now deprecated in favor of reg:squarederror.\n",
            "[10:19:32] WARNING: /workspace/src/objective/regression_obj.cu:152: reg:linear is now deprecated in favor of reg:squarederror.\n",
            "[10:19:34] WARNING: /workspace/src/objective/regression_obj.cu:152: reg:linear is now deprecated in favor of reg:squarederror.\n",
            "[10:19:35] WARNING: /workspace/src/objective/regression_obj.cu:152: reg:linear is now deprecated in favor of reg:squarederror.\n",
            "[10:19:37] WARNING: /workspace/src/objective/regression_obj.cu:152: reg:linear is now deprecated in favor of reg:squarederror.\n",
            "[10:19:37] WARNING: /workspace/src/objective/regression_obj.cu:152: reg:linear is now deprecated in favor of reg:squarederror.\n",
            "[10:19:38] WARNING: /workspace/src/objective/regression_obj.cu:152: reg:linear is now deprecated in favor of reg:squarederror.\n",
            "[10:19:38] WARNING: /workspace/src/objective/regression_obj.cu:152: reg:linear is now deprecated in favor of reg:squarederror.\n",
            "[10:19:41] WARNING: /workspace/src/objective/regression_obj.cu:152: reg:linear is now deprecated in favor of reg:squarederror.\n",
            "[10:19:43] WARNING: /workspace/src/objective/regression_obj.cu:152: reg:linear is now deprecated in favor of reg:squarederror.\n",
            "[10:19:46] WARNING: /workspace/src/objective/regression_obj.cu:152: reg:linear is now deprecated in favor of reg:squarederror.\n",
            "[10:19:55] WARNING: /workspace/src/objective/regression_obj.cu:152: reg:linear is now deprecated in favor of reg:squarederror.\n",
            "[10:20:01] WARNING: /workspace/src/objective/regression_obj.cu:152: reg:linear is now deprecated in favor of reg:squarederror.\n",
            "[10:20:06] WARNING: /workspace/src/objective/regression_obj.cu:152: reg:linear is now deprecated in favor of reg:squarederror.\n",
            "[10:20:07] WARNING: /workspace/src/objective/regression_obj.cu:152: reg:linear is now deprecated in favor of reg:squarederror.\n",
            "[10:20:09] WARNING: /workspace/src/objective/regression_obj.cu:152: reg:linear is now deprecated in favor of reg:squarederror.\n",
            "[10:20:10] WARNING: /workspace/src/objective/regression_obj.cu:152: reg:linear is now deprecated in favor of reg:squarederror.\n",
            "[10:20:16] WARNING: /workspace/src/objective/regression_obj.cu:152: reg:linear is now deprecated in favor of reg:squarederror.\n",
            "[10:20:23] WARNING: /workspace/src/objective/regression_obj.cu:152: reg:linear is now deprecated in favor of reg:squarederror.\n",
            "[10:20:30] WARNING: /workspace/src/objective/regression_obj.cu:152: reg:linear is now deprecated in favor of reg:squarederror.\n",
            "[10:20:31] WARNING: /workspace/src/objective/regression_obj.cu:152: reg:linear is now deprecated in favor of reg:squarederror.\n",
            "[10:20:31] WARNING: /workspace/src/objective/regression_obj.cu:152: reg:linear is now deprecated in favor of reg:squarederror.\n",
            "[10:20:32] WARNING: /workspace/src/objective/regression_obj.cu:152: reg:linear is now deprecated in favor of reg:squarederror.\n",
            "[10:20:37] WARNING: /workspace/src/objective/regression_obj.cu:152: reg:linear is now deprecated in favor of reg:squarederror.\n",
            "[10:20:41] WARNING: /workspace/src/objective/regression_obj.cu:152: reg:linear is now deprecated in favor of reg:squarederror.\n",
            "[10:20:47] WARNING: /workspace/src/objective/regression_obj.cu:152: reg:linear is now deprecated in favor of reg:squarederror.\n"
          ]
        },
        {
          "output_type": "execute_result",
          "data": {
            "text/plain": [
              "RandomizedSearchCV(cv=3,\n",
              "                   estimator=XGBRFRegressor(max_depth=2, n_estimators=49,\n",
              "                                            reg_lambda=1.6),\n",
              "                   param_distributions={'max_depth': [0, 1, 2, 3, 4, 5, 6, 7, 8,\n",
              "                                                      9, 10, 11, 12, 13, 14, 15,\n",
              "                                                      16, 17, 18, 19],\n",
              "                                        'n_estimators': [0, 1, 2, 3, 4, 5, 6, 7,\n",
              "                                                         8, 9, 10, 11, 12, 13,\n",
              "                                                         14, 15, 16, 17, 18, 19,\n",
              "                                                         20, 21, 22, 23, 24, 25,\n",
              "                                                         26, 27, 28, 29, ...],\n",
              "                                        'reg_lambda': [0, 1]},\n",
              "                   scoring='neg_root_mean_squared_error')"
            ]
          },
          "metadata": {},
          "execution_count": 146
        }
      ],
      "source": [
        "import sklearn.metrics\n",
        "from sklearn.model_selection import RandomizedSearchCV\n",
        "param={\"max_depth\" : list(range(20)),\"n_estimators\" : list(range(100)),\"reg_lambda\" : list(range(0,2))}\n",
        "clf=RandomizedSearchCV(mod,param,cv=3,scoring=\"neg_root_mean_squared_error\")\n",
        "clf.fit(X,Y)"
      ]
    },
    {
      "cell_type": "code",
      "execution_count": 147,
      "metadata": {
        "id": "VQR8Ih9ZnTdw",
        "colab": {
          "base_uri": "https://localhost:8080/"
        },
        "outputId": "87bcd35b-6a05-4d00-ef3a-b0aa4fd2b173"
      },
      "outputs": [
        {
          "output_type": "stream",
          "name": "stdout",
          "text": [
            "{'reg_lambda': 1, 'n_estimators': 12, 'max_depth': 2}\n",
            "-19.140898837167807\n"
          ]
        }
      ],
      "source": [
        "print(clf.best_params_)\n",
        "\n",
        "print(clf.best_score_)\n",
        "#best n_estimators=700\n",
        "#------Best is XG_43 and X_47"
      ]
    },
    {
      "cell_type": "code",
      "execution_count": 148,
      "metadata": {
        "id": "sVgqr23khK0T",
        "colab": {
          "base_uri": "https://localhost:8080/"
        },
        "outputId": "a4a7ece3-8bff-4dca-9e72-efafab29cf78"
      },
      "outputs": [
        {
          "output_type": "stream",
          "name": "stdout",
          "text": [
            "Index(['calculated_total_amount'], dtype='object')\n"
          ]
        }
      ],
      "source": [
        "XG_pred=pd.DataFrame(predictions)\n",
        "XG_pred.rename(columns = {0:'calculated_total_amount'}, inplace = True)\n",
        "print(XG_pred.columns)\n",
        "XG_pred.to_csv(\"XG_47.csv\",index=False)"
      ]
    },
    {
      "cell_type": "code",
      "source": [
        "#--------------Experiment\n",
        "import xgboost as xg\n",
        "mod = xg.XGBRFRegressor()\n",
        "\n",
        "mod = mod.fit(X_train, y_train)\n",
        "rmse=mod.predict(X_test)\n",
        "predictions = mod.predict(X_tst)\n",
        "from sklearn.metrics import mean_squared_error\n",
        "# rmse\n",
        "print('RMSE:', np.sqrt(mean_squared_error(y_test, rmse)))"
      ],
      "metadata": {
        "id": "9KRp2M3YH8zu",
        "colab": {
          "base_uri": "https://localhost:8080/"
        },
        "outputId": "e330c3ca-18af-446d-a004-1464dc332aca"
      },
      "execution_count": 149,
      "outputs": [
        {
          "output_type": "stream",
          "name": "stdout",
          "text": [
            "[10:20:47] WARNING: /workspace/src/objective/regression_obj.cu:152: reg:linear is now deprecated in favor of reg:squarederror.\n",
            "RMSE: 20.339951392595676\n"
          ]
        }
      ]
    },
    {
      "cell_type": "code",
      "source": [
        "import sklearn.metrics\n",
        "from sklearn.model_selection import RandomizedSearchCV\n",
        "param={\"max_depth\" : list(range(30)),\"n_estimators\" : list(range(200)),\"reg_lambda\" : list(range(0,5))}\n",
        "clf=RandomizedSearchCV(mod,param,cv=3,scoring=\"neg_root_mean_squared_error\")\n",
        "clf.fit(X,Y)"
      ],
      "metadata": {
        "id": "p6M4GPxmI6R7",
        "colab": {
          "base_uri": "https://localhost:8080/"
        },
        "outputId": "34341e2d-a852-4f53-ee96-1801e8e60cbb"
      },
      "execution_count": 150,
      "outputs": [
        {
          "output_type": "stream",
          "name": "stdout",
          "text": [
            "[10:20:48] WARNING: /workspace/src/objective/regression_obj.cu:152: reg:linear is now deprecated in favor of reg:squarederror.\n",
            "[10:20:50] WARNING: /workspace/src/objective/regression_obj.cu:152: reg:linear is now deprecated in favor of reg:squarederror.\n",
            "[10:20:52] WARNING: /workspace/src/objective/regression_obj.cu:152: reg:linear is now deprecated in favor of reg:squarederror.\n",
            "[10:20:54] WARNING: /workspace/src/objective/regression_obj.cu:152: reg:linear is now deprecated in favor of reg:squarederror.\n",
            "[10:21:08] WARNING: /workspace/src/objective/regression_obj.cu:152: reg:linear is now deprecated in favor of reg:squarederror.\n",
            "[10:21:18] WARNING: /workspace/src/objective/regression_obj.cu:152: reg:linear is now deprecated in favor of reg:squarederror.\n",
            "[10:21:26] WARNING: /workspace/src/objective/regression_obj.cu:152: reg:linear is now deprecated in favor of reg:squarederror.\n",
            "[10:21:29] WARNING: /workspace/src/objective/regression_obj.cu:152: reg:linear is now deprecated in favor of reg:squarederror.\n",
            "[10:21:33] WARNING: /workspace/src/objective/regression_obj.cu:152: reg:linear is now deprecated in favor of reg:squarederror.\n",
            "[10:21:37] WARNING: /workspace/src/objective/regression_obj.cu:152: reg:linear is now deprecated in favor of reg:squarederror.\n",
            "[10:21:39] WARNING: /workspace/src/objective/regression_obj.cu:152: reg:linear is now deprecated in favor of reg:squarederror.\n",
            "[10:21:40] WARNING: /workspace/src/objective/regression_obj.cu:152: reg:linear is now deprecated in favor of reg:squarederror.\n",
            "[10:21:41] WARNING: /workspace/src/objective/regression_obj.cu:152: reg:linear is now deprecated in favor of reg:squarederror.\n",
            "[10:21:42] WARNING: /workspace/src/objective/regression_obj.cu:152: reg:linear is now deprecated in favor of reg:squarederror.\n",
            "[10:21:43] WARNING: /workspace/src/objective/regression_obj.cu:152: reg:linear is now deprecated in favor of reg:squarederror.\n",
            "[10:21:44] WARNING: /workspace/src/objective/regression_obj.cu:152: reg:linear is now deprecated in favor of reg:squarederror.\n",
            "[10:21:46] WARNING: /workspace/src/objective/regression_obj.cu:152: reg:linear is now deprecated in favor of reg:squarederror.\n",
            "[10:21:48] WARNING: /workspace/src/objective/regression_obj.cu:152: reg:linear is now deprecated in favor of reg:squarederror.\n",
            "[10:21:51] WARNING: /workspace/src/objective/regression_obj.cu:152: reg:linear is now deprecated in favor of reg:squarederror.\n",
            "[10:21:56] WARNING: /workspace/src/objective/regression_obj.cu:152: reg:linear is now deprecated in favor of reg:squarederror.\n",
            "[10:22:01] WARNING: /workspace/src/objective/regression_obj.cu:152: reg:linear is now deprecated in favor of reg:squarederror.\n",
            "[10:22:06] WARNING: /workspace/src/objective/regression_obj.cu:152: reg:linear is now deprecated in favor of reg:squarederror.\n",
            "[10:22:08] WARNING: /workspace/src/objective/regression_obj.cu:152: reg:linear is now deprecated in favor of reg:squarederror.\n",
            "[10:22:09] WARNING: /workspace/src/objective/regression_obj.cu:152: reg:linear is now deprecated in favor of reg:squarederror.\n",
            "[10:22:10] WARNING: /workspace/src/objective/regression_obj.cu:152: reg:linear is now deprecated in favor of reg:squarederror.\n",
            "[10:22:43] WARNING: /workspace/src/objective/regression_obj.cu:152: reg:linear is now deprecated in favor of reg:squarederror.\n",
            "[10:23:19] WARNING: /workspace/src/objective/regression_obj.cu:152: reg:linear is now deprecated in favor of reg:squarederror.\n",
            "[10:23:55] WARNING: /workspace/src/objective/regression_obj.cu:152: reg:linear is now deprecated in favor of reg:squarederror.\n",
            "[10:23:55] WARNING: /workspace/src/objective/regression_obj.cu:152: reg:linear is now deprecated in favor of reg:squarederror.\n",
            "[10:23:55] WARNING: /workspace/src/objective/regression_obj.cu:152: reg:linear is now deprecated in favor of reg:squarederror.\n",
            "[10:23:55] WARNING: /workspace/src/objective/regression_obj.cu:152: reg:linear is now deprecated in favor of reg:squarederror.\n"
          ]
        },
        {
          "output_type": "execute_result",
          "data": {
            "text/plain": [
              "RandomizedSearchCV(cv=3, estimator=XGBRFRegressor(),\n",
              "                   param_distributions={'max_depth': [0, 1, 2, 3, 4, 5, 6, 7, 8,\n",
              "                                                      9, 10, 11, 12, 13, 14, 15,\n",
              "                                                      16, 17, 18, 19, 20, 21,\n",
              "                                                      22, 23, 24, 25, 26, 27,\n",
              "                                                      28, 29],\n",
              "                                        'n_estimators': [0, 1, 2, 3, 4, 5, 6, 7,\n",
              "                                                         8, 9, 10, 11, 12, 13,\n",
              "                                                         14, 15, 16, 17, 18, 19,\n",
              "                                                         20, 21, 22, 23, 24, 25,\n",
              "                                                         26, 27, 28, 29, ...],\n",
              "                                        'reg_lambda': [0, 1, 2, 3, 4]},\n",
              "                   scoring='neg_root_mean_squared_error')"
            ]
          },
          "metadata": {},
          "execution_count": 150
        }
      ]
    },
    {
      "cell_type": "code",
      "source": [
        "print(clf.best_params_)\n",
        "\n",
        "print(clf.best_score_)"
      ],
      "metadata": {
        "id": "GK9EWf5oJK4l",
        "colab": {
          "base_uri": "https://localhost:8080/"
        },
        "outputId": "545b0191-b003-4830-cbc8-7f26188a739f"
      },
      "execution_count": 151,
      "outputs": [
        {
          "output_type": "stream",
          "name": "stdout",
          "text": [
            "{'reg_lambda': 2, 'n_estimators': 132, 'max_depth': 27}\n",
            "-19.140199262902122\n"
          ]
        }
      ]
    },
    {
      "cell_type": "code",
      "source": [
        "XG_pred=pd.DataFrame(predictions)\n",
        "XG_pred.rename(columns = {0:'calculated_total_amount'}, inplace = True)\n",
        "print(XG_pred.columns)\n",
        "XG_pred.to_csv(\"XG_63.csv\",index=False)"
      ],
      "metadata": {
        "id": "AdzGxnjrH_Xm",
        "colab": {
          "base_uri": "https://localhost:8080/"
        },
        "outputId": "85688ba0-3544-45be-8889-d409c70f0b66"
      },
      "execution_count": 152,
      "outputs": [
        {
          "output_type": "stream",
          "name": "stdout",
          "text": [
            "Index(['calculated_total_amount'], dtype='object')\n"
          ]
        }
      ]
    },
    {
      "cell_type": "code",
      "execution_count": 153,
      "metadata": {
        "id": "o56isnZHN7xR"
      },
      "outputs": [],
      "source": [
        "#-----------------SVM----------------------#"
      ]
    },
    {
      "cell_type": "code",
      "source": [
        "from sklearn.preprocessing import MinMaxScaler\n",
        "scaling = MinMaxScaler(feature_range=(-1,1)).fit(X_train)\n",
        "X_train = scaling.transform(X_train)\n",
        "X_test = scaling.transform(X_test)\n",
        "y_train = scaling.transform(y_train)"
      ],
      "metadata": {
        "id": "Sv3o9UMMTpY4",
        "colab": {
          "base_uri": "https://localhost:8080/",
          "height": 452
        },
        "outputId": "686c28cb-3ce8-4b0f-9a93-7894ce3855a6"
      },
      "execution_count": 154,
      "outputs": [
        {
          "output_type": "stream",
          "name": "stderr",
          "text": [
            "/usr/local/lib/python3.7/dist-packages/sklearn/base.py:451: UserWarning: X does not have valid feature names, but MinMaxScaler was fitted with feature names\n",
            "  \"X does not have valid feature names, but\"\n"
          ]
        },
        {
          "output_type": "error",
          "ename": "ValueError",
          "evalue": "ignored",
          "traceback": [
            "\u001b[0;31m---------------------------------------------------------------------------\u001b[0m",
            "\u001b[0;31mValueError\u001b[0m                                Traceback (most recent call last)",
            "\u001b[0;32m<ipython-input-154-5d367452c3bc>\u001b[0m in \u001b[0;36m<module>\u001b[0;34m\u001b[0m\n\u001b[1;32m      3\u001b[0m \u001b[0mX_train\u001b[0m \u001b[0;34m=\u001b[0m \u001b[0mscaling\u001b[0m\u001b[0;34m.\u001b[0m\u001b[0mtransform\u001b[0m\u001b[0;34m(\u001b[0m\u001b[0mX_train\u001b[0m\u001b[0;34m)\u001b[0m\u001b[0;34m\u001b[0m\u001b[0;34m\u001b[0m\u001b[0m\n\u001b[1;32m      4\u001b[0m \u001b[0mX_test\u001b[0m \u001b[0;34m=\u001b[0m \u001b[0mscaling\u001b[0m\u001b[0;34m.\u001b[0m\u001b[0mtransform\u001b[0m\u001b[0;34m(\u001b[0m\u001b[0mX_test\u001b[0m\u001b[0;34m)\u001b[0m\u001b[0;34m\u001b[0m\u001b[0;34m\u001b[0m\u001b[0m\n\u001b[0;32m----> 5\u001b[0;31m \u001b[0my_train\u001b[0m \u001b[0;34m=\u001b[0m \u001b[0mscaling\u001b[0m\u001b[0;34m.\u001b[0m\u001b[0mtransform\u001b[0m\u001b[0;34m(\u001b[0m\u001b[0my_train\u001b[0m\u001b[0;34m)\u001b[0m\u001b[0;34m\u001b[0m\u001b[0;34m\u001b[0m\u001b[0m\n\u001b[0m",
            "\u001b[0;32m/usr/local/lib/python3.7/dist-packages/sklearn/preprocessing/_data.py\u001b[0m in \u001b[0;36mtransform\u001b[0;34m(self, X)\u001b[0m\n\u001b[1;32m    499\u001b[0m             \u001b[0mdtype\u001b[0m\u001b[0;34m=\u001b[0m\u001b[0mFLOAT_DTYPES\u001b[0m\u001b[0;34m,\u001b[0m\u001b[0;34m\u001b[0m\u001b[0;34m\u001b[0m\u001b[0m\n\u001b[1;32m    500\u001b[0m             \u001b[0mforce_all_finite\u001b[0m\u001b[0;34m=\u001b[0m\u001b[0;34m\"allow-nan\"\u001b[0m\u001b[0;34m,\u001b[0m\u001b[0;34m\u001b[0m\u001b[0;34m\u001b[0m\u001b[0m\n\u001b[0;32m--> 501\u001b[0;31m             \u001b[0mreset\u001b[0m\u001b[0;34m=\u001b[0m\u001b[0;32mFalse\u001b[0m\u001b[0;34m,\u001b[0m\u001b[0;34m\u001b[0m\u001b[0;34m\u001b[0m\u001b[0m\n\u001b[0m\u001b[1;32m    502\u001b[0m         )\n\u001b[1;32m    503\u001b[0m \u001b[0;34m\u001b[0m\u001b[0m\n",
            "\u001b[0;32m/usr/local/lib/python3.7/dist-packages/sklearn/base.py\u001b[0m in \u001b[0;36m_validate_data\u001b[0;34m(self, X, y, reset, validate_separately, **check_params)\u001b[0m\n\u001b[1;32m    564\u001b[0m             \u001b[0;32mraise\u001b[0m \u001b[0mValueError\u001b[0m\u001b[0;34m(\u001b[0m\u001b[0;34m\"Validation should be done on X, y or both.\"\u001b[0m\u001b[0;34m)\u001b[0m\u001b[0;34m\u001b[0m\u001b[0;34m\u001b[0m\u001b[0m\n\u001b[1;32m    565\u001b[0m         \u001b[0;32melif\u001b[0m \u001b[0;32mnot\u001b[0m \u001b[0mno_val_X\u001b[0m \u001b[0;32mand\u001b[0m \u001b[0mno_val_y\u001b[0m\u001b[0;34m:\u001b[0m\u001b[0;34m\u001b[0m\u001b[0;34m\u001b[0m\u001b[0m\n\u001b[0;32m--> 566\u001b[0;31m             \u001b[0mX\u001b[0m \u001b[0;34m=\u001b[0m \u001b[0mcheck_array\u001b[0m\u001b[0;34m(\u001b[0m\u001b[0mX\u001b[0m\u001b[0;34m,\u001b[0m \u001b[0;34m**\u001b[0m\u001b[0mcheck_params\u001b[0m\u001b[0;34m)\u001b[0m\u001b[0;34m\u001b[0m\u001b[0;34m\u001b[0m\u001b[0m\n\u001b[0m\u001b[1;32m    567\u001b[0m             \u001b[0mout\u001b[0m \u001b[0;34m=\u001b[0m \u001b[0mX\u001b[0m\u001b[0;34m\u001b[0m\u001b[0;34m\u001b[0m\u001b[0m\n\u001b[1;32m    568\u001b[0m         \u001b[0;32melif\u001b[0m \u001b[0mno_val_X\u001b[0m \u001b[0;32mand\u001b[0m \u001b[0;32mnot\u001b[0m \u001b[0mno_val_y\u001b[0m\u001b[0;34m:\u001b[0m\u001b[0;34m\u001b[0m\u001b[0;34m\u001b[0m\u001b[0m\n",
            "\u001b[0;32m/usr/local/lib/python3.7/dist-packages/sklearn/utils/validation.py\u001b[0m in \u001b[0;36mcheck_array\u001b[0;34m(array, accept_sparse, accept_large_sparse, dtype, order, copy, force_all_finite, ensure_2d, allow_nd, ensure_min_samples, ensure_min_features, estimator)\u001b[0m\n\u001b[1;32m    771\u001b[0m                     \u001b[0;34m\"Reshape your data either using array.reshape(-1, 1) if \"\u001b[0m\u001b[0;34m\u001b[0m\u001b[0;34m\u001b[0m\u001b[0m\n\u001b[1;32m    772\u001b[0m                     \u001b[0;34m\"your data has a single feature or array.reshape(1, -1) \"\u001b[0m\u001b[0;34m\u001b[0m\u001b[0;34m\u001b[0m\u001b[0m\n\u001b[0;32m--> 773\u001b[0;31m                     \u001b[0;34m\"if it contains a single sample.\"\u001b[0m\u001b[0;34m.\u001b[0m\u001b[0mformat\u001b[0m\u001b[0;34m(\u001b[0m\u001b[0marray\u001b[0m\u001b[0;34m)\u001b[0m\u001b[0;34m\u001b[0m\u001b[0;34m\u001b[0m\u001b[0m\n\u001b[0m\u001b[1;32m    774\u001b[0m                 )\n\u001b[1;32m    775\u001b[0m \u001b[0;34m\u001b[0m\u001b[0m\n",
            "\u001b[0;31mValueError\u001b[0m: Expected 2D array, got 1D array instead:\narray=[41.34 42.06 50.46 ... 27.35 26.91 29.75].\nReshape your data either using array.reshape(-1, 1) if your data has a single feature or array.reshape(1, -1) if it contains a single sample."
          ]
        }
      ]
    },
    {
      "cell_type": "code",
      "execution_count": null,
      "metadata": {
        "id": "egZ9xB-qN_be"
      },
      "outputs": [],
      "source": [
        "from sklearn import preprocessing\n",
        "from sklearn.svm import SVC\n",
        "classifier = SVC()\n",
        "lab_enc = preprocessing.LabelEncoder()\n",
        "X_train.iloc[:,2]=lab_enc.fit_transform(X_train.iloc[:, 2])\n",
        "y_train=lab_enc.fit_transform(y_train)\n",
        "Y= lab_enc.fit_transform(Y)\n",
        "classifier.fit(X_train,y_train)"
      ]
    },
    {
      "cell_type": "code",
      "execution_count": null,
      "metadata": {
        "id": "WH2quFK2Q_Wf"
      },
      "outputs": [],
      "source": [
        "y_pred_svm = classifier.predict(X_tst)\n",
        "svm_rmse=classifier.predict(X_test)"
      ]
    },
    {
      "cell_type": "code",
      "execution_count": null,
      "metadata": {
        "id": "gPhV-K2yXFgU"
      },
      "outputs": [],
      "source": [
        "from sklearn.metrics import mean_squared_error\n",
        "print(\"RMSE : \", np.sqrt(mean_squared_error(y_test,svm_rmse)))"
      ]
    },
    {
      "cell_type": "code",
      "execution_count": null,
      "metadata": {
        "id": "s9tH-kaEaCLs"
      },
      "outputs": [],
      "source": [
        "SVM_pred=pd.DataFrame(y_pred_svm)\n",
        "SVM_pred.to_csv(\"SVM.csv\",index=False)"
      ]
    },
    {
      "cell_type": "code",
      "execution_count": null,
      "metadata": {
        "id": "71fBqiPwx59s"
      },
      "outputs": [],
      "source": [
        "#---------Polynomial Regression---------#"
      ]
    },
    {
      "cell_type": "code",
      "execution_count": null,
      "metadata": {
        "id": "K3a-bCRyx-tm"
      },
      "outputs": [],
      "source": [
        "from sklearn.preprocessing import PolynomialFeatures\n",
        "  \n",
        "poly = PolynomialFeatures(degree = 4)\n",
        "poly.fit(X,Y)"
      ]
    },
    {
      "cell_type": "code",
      "execution_count": null,
      "metadata": {
        "id": "Fn4E8FkmyMck"
      },
      "outputs": [],
      "source": [
        "y_pred_poly = poly.predict(X_tst)\n",
        "poly_rmse=poly.predict(X_test)"
      ]
    },
    {
      "cell_type": "code",
      "source": [
        "Poly_pred=pd.DataFrame(y_pred_poly)\n",
        "Poly_pred.to_csv(\"Poly.csv\",index=False)"
      ],
      "metadata": {
        "id": "XnCgW7aA7HCr"
      },
      "execution_count": null,
      "outputs": []
    },
    {
      "cell_type": "code",
      "source": [
        "#-----------Quantile Regression--------------#"
      ],
      "metadata": {
        "id": "QwTdGLrPGy0W"
      },
      "execution_count": null,
      "outputs": []
    },
    {
      "cell_type": "code",
      "source": [
        "import statsmodels.api as sm\n",
        "import statsmodels.formula.api as smf"
      ],
      "metadata": {
        "id": "7qfJ-_lNG1zf"
      },
      "execution_count": null,
      "outputs": []
    },
    {
      "cell_type": "code",
      "source": [
        "# fit the model\n",
        "#model = smf.quantreg(\"\")\n",
        "#model.fit(X_train,y_train)"
      ],
      "metadata": {
        "id": "SYAgDuFlHC-V"
      },
      "execution_count": null,
      "outputs": []
    },
    {
      "cell_type": "code",
      "source": [],
      "metadata": {
        "id": "Thsp6KR-MSg3"
      },
      "execution_count": null,
      "outputs": []
    }
  ],
  "metadata": {
    "colab": {
      "collapsed_sections": [],
      "provenance": [],
      "mount_file_id": "1taW8Wr-SLMqzVLG6x6jui-Q2skmfzZhM",
      "authorship_tag": "ABX9TyMjTV3WY9TBYBeCJszgCYfX",
      "include_colab_link": true
    },
    "gpuClass": "standard",
    "kernelspec": {
      "display_name": "Python 3",
      "name": "python3"
    },
    "language_info": {
      "name": "python"
    }
  },
  "nbformat": 4,
  "nbformat_minor": 0
}